{
 "cells": [
  {
   "cell_type": "code",
   "execution_count": 1,
   "id": "41e4bdff",
   "metadata": {},
   "outputs": [],
   "source": [
    "import pandas as pd\n",
    "from sklearn.model_selection import train_test_split\n",
    "from sklearn.linear_model import LogisticRegression"
   ]
  },
  {
   "cell_type": "code",
   "execution_count": 2,
   "id": "b3884940",
   "metadata": {},
   "outputs": [],
   "source": [
    "df = pd.read_csv(r'C:\\\\Users\\\\hetko\\\\Desktop\\\\flight_data\\\\flights_done.csv')"
   ]
  },
  {
   "cell_type": "code",
   "execution_count": 3,
   "id": "119cf05d",
   "metadata": {},
   "outputs": [
    {
     "data": {
      "text/html": [
       "<div>\n",
       "<style scoped>\n",
       "    .dataframe tbody tr th:only-of-type {\n",
       "        vertical-align: middle;\n",
       "    }\n",
       "\n",
       "    .dataframe tbody tr th {\n",
       "        vertical-align: top;\n",
       "    }\n",
       "\n",
       "    .dataframe thead th {\n",
       "        text-align: right;\n",
       "    }\n",
       "</style>\n",
       "<table border=\"1\" class=\"dataframe\">\n",
       "  <thead>\n",
       "    <tr style=\"text-align: right;\">\n",
       "      <th></th>\n",
       "      <th>DAY_OF_WEEK</th>\n",
       "      <th>DEPARTURE_DELAY</th>\n",
       "      <th>TAXI_OUT</th>\n",
       "      <th>SCHEDULED_TIME</th>\n",
       "      <th>ELAPSED_TIME</th>\n",
       "      <th>AIR_TIME</th>\n",
       "      <th>DISTANCE</th>\n",
       "      <th>TAXI_IN</th>\n",
       "      <th>ARRIVAL_DELAY</th>\n",
       "      <th>DIVERTED</th>\n",
       "      <th>...</th>\n",
       "      <th>Airlines_NK</th>\n",
       "      <th>Airlines_OO</th>\n",
       "      <th>Airlines_UA</th>\n",
       "      <th>Airlines_US</th>\n",
       "      <th>Airlines_VX</th>\n",
       "      <th>Airlines_WN</th>\n",
       "      <th>AIR_ACRO_IN_NUM</th>\n",
       "      <th>DEST_AIR_ACRO_IN_NUM</th>\n",
       "      <th>DEPARTURE_TARGET</th>\n",
       "      <th>ARRIVAL_TARGET</th>\n",
       "    </tr>\n",
       "  </thead>\n",
       "  <tbody>\n",
       "    <tr>\n",
       "      <th>0</th>\n",
       "      <td>4</td>\n",
       "      <td>-9</td>\n",
       "      <td>21</td>\n",
       "      <td>205</td>\n",
       "      <td>194</td>\n",
       "      <td>169</td>\n",
       "      <td>1448</td>\n",
       "      <td>4</td>\n",
       "      <td>-22</td>\n",
       "      <td>0</td>\n",
       "      <td>...</td>\n",
       "      <td>0</td>\n",
       "      <td>0</td>\n",
       "      <td>0</td>\n",
       "      <td>0</td>\n",
       "      <td>0</td>\n",
       "      <td>0</td>\n",
       "      <td>17</td>\n",
       "      <td>277</td>\n",
       "      <td>0</td>\n",
       "      <td>0</td>\n",
       "    </tr>\n",
       "    <tr>\n",
       "      <th>1</th>\n",
       "      <td>4</td>\n",
       "      <td>-8</td>\n",
       "      <td>12</td>\n",
       "      <td>280</td>\n",
       "      <td>279</td>\n",
       "      <td>263</td>\n",
       "      <td>2330</td>\n",
       "      <td>4</td>\n",
       "      <td>-9</td>\n",
       "      <td>0</td>\n",
       "      <td>...</td>\n",
       "      <td>0</td>\n",
       "      <td>0</td>\n",
       "      <td>0</td>\n",
       "      <td>0</td>\n",
       "      <td>0</td>\n",
       "      <td>0</td>\n",
       "      <td>176</td>\n",
       "      <td>235</td>\n",
       "      <td>1</td>\n",
       "      <td>0</td>\n",
       "    </tr>\n",
       "    <tr>\n",
       "      <th>2</th>\n",
       "      <td>4</td>\n",
       "      <td>-2</td>\n",
       "      <td>16</td>\n",
       "      <td>286</td>\n",
       "      <td>293</td>\n",
       "      <td>266</td>\n",
       "      <td>2296</td>\n",
       "      <td>11</td>\n",
       "      <td>5</td>\n",
       "      <td>0</td>\n",
       "      <td>...</td>\n",
       "      <td>0</td>\n",
       "      <td>0</td>\n",
       "      <td>0</td>\n",
       "      <td>1</td>\n",
       "      <td>0</td>\n",
       "      <td>0</td>\n",
       "      <td>278</td>\n",
       "      <td>66</td>\n",
       "      <td>1</td>\n",
       "      <td>1</td>\n",
       "    </tr>\n",
       "    <tr>\n",
       "      <th>3</th>\n",
       "      <td>4</td>\n",
       "      <td>-5</td>\n",
       "      <td>15</td>\n",
       "      <td>285</td>\n",
       "      <td>281</td>\n",
       "      <td>258</td>\n",
       "      <td>2342</td>\n",
       "      <td>8</td>\n",
       "      <td>-9</td>\n",
       "      <td>0</td>\n",
       "      <td>...</td>\n",
       "      <td>0</td>\n",
       "      <td>0</td>\n",
       "      <td>0</td>\n",
       "      <td>0</td>\n",
       "      <td>0</td>\n",
       "      <td>0</td>\n",
       "      <td>176</td>\n",
       "      <td>203</td>\n",
       "      <td>1</td>\n",
       "      <td>0</td>\n",
       "    </tr>\n",
       "    <tr>\n",
       "      <th>4</th>\n",
       "      <td>4</td>\n",
       "      <td>-1</td>\n",
       "      <td>11</td>\n",
       "      <td>235</td>\n",
       "      <td>215</td>\n",
       "      <td>199</td>\n",
       "      <td>1448</td>\n",
       "      <td>5</td>\n",
       "      <td>-21</td>\n",
       "      <td>0</td>\n",
       "      <td>...</td>\n",
       "      <td>0</td>\n",
       "      <td>0</td>\n",
       "      <td>0</td>\n",
       "      <td>0</td>\n",
       "      <td>0</td>\n",
       "      <td>0</td>\n",
       "      <td>277</td>\n",
       "      <td>17</td>\n",
       "      <td>1</td>\n",
       "      <td>0</td>\n",
       "    </tr>\n",
       "  </tbody>\n",
       "</table>\n",
       "<p>5 rows × 38 columns</p>\n",
       "</div>"
      ],
      "text/plain": [
       "   DAY_OF_WEEK  DEPARTURE_DELAY  TAXI_OUT  SCHEDULED_TIME  ELAPSED_TIME  \\\n",
       "0            4               -9        21             205           194   \n",
       "1            4               -8        12             280           279   \n",
       "2            4               -2        16             286           293   \n",
       "3            4               -5        15             285           281   \n",
       "4            4               -1        11             235           215   \n",
       "\n",
       "   AIR_TIME  DISTANCE  TAXI_IN  ARRIVAL_DELAY  DIVERTED  ...  Airlines_NK  \\\n",
       "0       169      1448        4            -22         0  ...            0   \n",
       "1       263      2330        4             -9         0  ...            0   \n",
       "2       266      2296       11              5         0  ...            0   \n",
       "3       258      2342        8             -9         0  ...            0   \n",
       "4       199      1448        5            -21         0  ...            0   \n",
       "\n",
       "   Airlines_OO  Airlines_UA  Airlines_US  Airlines_VX  Airlines_WN  \\\n",
       "0            0            0            0            0            0   \n",
       "1            0            0            0            0            0   \n",
       "2            0            0            1            0            0   \n",
       "3            0            0            0            0            0   \n",
       "4            0            0            0            0            0   \n",
       "\n",
       "   AIR_ACRO_IN_NUM  DEST_AIR_ACRO_IN_NUM  DEPARTURE_TARGET  ARRIVAL_TARGET  \n",
       "0               17                   277                 0               0  \n",
       "1              176                   235                 1               0  \n",
       "2              278                    66                 1               1  \n",
       "3              176                   203                 1               0  \n",
       "4              277                    17                 1               0  \n",
       "\n",
       "[5 rows x 38 columns]"
      ]
     },
     "execution_count": 3,
     "metadata": {},
     "output_type": "execute_result"
    }
   ],
   "source": [
    "df.head()"
   ]
  },
  {
   "cell_type": "code",
   "execution_count": 4,
   "id": "c3af6a82",
   "metadata": {},
   "outputs": [
    {
     "name": "stdout",
     "output_type": "stream",
     "text": [
      "<class 'pandas.core.frame.DataFrame'>\n",
      "RangeIndex: 5726566 entries, 0 to 5726565\n",
      "Data columns (total 38 columns):\n",
      " #   Column                Dtype\n",
      "---  ------                -----\n",
      " 0   DAY_OF_WEEK           int64\n",
      " 1   DEPARTURE_DELAY       int64\n",
      " 2   TAXI_OUT              int64\n",
      " 3   SCHEDULED_TIME        int64\n",
      " 4   ELAPSED_TIME          int64\n",
      " 5   AIR_TIME              int64\n",
      " 6   DISTANCE              int64\n",
      " 7   TAXI_IN               int64\n",
      " 8   ARRIVAL_DELAY         int64\n",
      " 9   DIVERTED              int64\n",
      " 10  CANCELLED             int64\n",
      " 11  AIR_SYSTEM_DELAY      int64\n",
      " 12  SECURITY_DELAY        int64\n",
      " 13  AIRLINE_DELAY         int64\n",
      " 14  LATE_AIRCRAFT_DELAY   int64\n",
      " 15  WEATHER_DELAY         int64\n",
      " 16  Option_A              int64\n",
      " 17  Option_B              int64\n",
      " 18  Option_C              int64\n",
      " 19  Option_D              int64\n",
      " 20  Airlines_AA           int64\n",
      " 21  Airlines_AS           int64\n",
      " 22  Airlines_B6           int64\n",
      " 23  Airlines_DL           int64\n",
      " 24  Airlines_EV           int64\n",
      " 25  Airlines_F9           int64\n",
      " 26  Airlines_HA           int64\n",
      " 27  Airlines_MQ           int64\n",
      " 28  Airlines_NK           int64\n",
      " 29  Airlines_OO           int64\n",
      " 30  Airlines_UA           int64\n",
      " 31  Airlines_US           int64\n",
      " 32  Airlines_VX           int64\n",
      " 33  Airlines_WN           int64\n",
      " 34  AIR_ACRO_IN_NUM       int64\n",
      " 35  DEST_AIR_ACRO_IN_NUM  int64\n",
      " 36  DEPARTURE_TARGET      int64\n",
      " 37  ARRIVAL_TARGET        int64\n",
      "dtypes: int64(38)\n",
      "memory usage: 1.6 GB\n"
     ]
    }
   ],
   "source": [
    "df.info()"
   ]
  },
  {
   "cell_type": "code",
   "execution_count": null,
   "id": "8ea0e5b3",
   "metadata": {},
   "outputs": [],
   "source": []
  },
  {
   "cell_type": "code",
   "execution_count": 5,
   "id": "ab6fe404",
   "metadata": {},
   "outputs": [],
   "source": [
    "y = df.pop('ARRIVAL_TARGET')"
   ]
  },
  {
   "cell_type": "code",
   "execution_count": 6,
   "id": "5260f1b4",
   "metadata": {},
   "outputs": [
    {
     "data": {
      "text/plain": [
       "0    3687672\n",
       "1    2038894\n",
       "Name: ARRIVAL_TARGET, dtype: int64"
      ]
     },
     "execution_count": 6,
     "metadata": {},
     "output_type": "execute_result"
    }
   ],
   "source": [
    "y.value_counts()\n",
    "\n",
    "# zbior jest niezbalansowany, trzeba bedzie wprowadzic regularyzacje"
   ]
  },
  {
   "cell_type": "code",
   "execution_count": 7,
   "id": "52e0706e",
   "metadata": {},
   "outputs": [],
   "source": [
    "X = df"
   ]
  },
  {
   "cell_type": "code",
   "execution_count": 8,
   "id": "c9159a67",
   "metadata": {},
   "outputs": [],
   "source": [
    "X_train, X_test, y_train, y_test = train_test_split(X, y, test_size=0.2, random_state=42)"
   ]
  },
  {
   "cell_type": "code",
   "execution_count": 9,
   "id": "7f8ef18a",
   "metadata": {},
   "outputs": [],
   "source": [
    "del df, X, y"
   ]
  },
  {
   "cell_type": "code",
   "execution_count": 10,
   "id": "530632f0",
   "metadata": {},
   "outputs": [
    {
     "name": "stderr",
     "output_type": "stream",
     "text": [
      "C:\\Users\\hetko\\anaconda3\\lib\\site-packages\\sklearn\\linear_model\\_logistic.py:458: ConvergenceWarning: lbfgs failed to converge (status=1):\n",
      "STOP: TOTAL NO. of ITERATIONS REACHED LIMIT.\n",
      "\n",
      "Increase the number of iterations (max_iter) or scale the data as shown in:\n",
      "    https://scikit-learn.org/stable/modules/preprocessing.html\n",
      "Please also refer to the documentation for alternative solver options:\n",
      "    https://scikit-learn.org/stable/modules/linear_model.html#logistic-regression\n",
      "  n_iter_i = _check_optimize_result(\n"
     ]
    },
    {
     "data": {
      "text/html": [
       "<style>#sk-container-id-1 {color: black;background-color: white;}#sk-container-id-1 pre{padding: 0;}#sk-container-id-1 div.sk-toggleable {background-color: white;}#sk-container-id-1 label.sk-toggleable__label {cursor: pointer;display: block;width: 100%;margin-bottom: 0;padding: 0.3em;box-sizing: border-box;text-align: center;}#sk-container-id-1 label.sk-toggleable__label-arrow:before {content: \"▸\";float: left;margin-right: 0.25em;color: #696969;}#sk-container-id-1 label.sk-toggleable__label-arrow:hover:before {color: black;}#sk-container-id-1 div.sk-estimator:hover label.sk-toggleable__label-arrow:before {color: black;}#sk-container-id-1 div.sk-toggleable__content {max-height: 0;max-width: 0;overflow: hidden;text-align: left;background-color: #f0f8ff;}#sk-container-id-1 div.sk-toggleable__content pre {margin: 0.2em;color: black;border-radius: 0.25em;background-color: #f0f8ff;}#sk-container-id-1 input.sk-toggleable__control:checked~div.sk-toggleable__content {max-height: 200px;max-width: 100%;overflow: auto;}#sk-container-id-1 input.sk-toggleable__control:checked~label.sk-toggleable__label-arrow:before {content: \"▾\";}#sk-container-id-1 div.sk-estimator input.sk-toggleable__control:checked~label.sk-toggleable__label {background-color: #d4ebff;}#sk-container-id-1 div.sk-label input.sk-toggleable__control:checked~label.sk-toggleable__label {background-color: #d4ebff;}#sk-container-id-1 input.sk-hidden--visually {border: 0;clip: rect(1px 1px 1px 1px);clip: rect(1px, 1px, 1px, 1px);height: 1px;margin: -1px;overflow: hidden;padding: 0;position: absolute;width: 1px;}#sk-container-id-1 div.sk-estimator {font-family: monospace;background-color: #f0f8ff;border: 1px dotted black;border-radius: 0.25em;box-sizing: border-box;margin-bottom: 0.5em;}#sk-container-id-1 div.sk-estimator:hover {background-color: #d4ebff;}#sk-container-id-1 div.sk-parallel-item::after {content: \"\";width: 100%;border-bottom: 1px solid gray;flex-grow: 1;}#sk-container-id-1 div.sk-label:hover label.sk-toggleable__label {background-color: #d4ebff;}#sk-container-id-1 div.sk-serial::before {content: \"\";position: absolute;border-left: 1px solid gray;box-sizing: border-box;top: 0;bottom: 0;left: 50%;z-index: 0;}#sk-container-id-1 div.sk-serial {display: flex;flex-direction: column;align-items: center;background-color: white;padding-right: 0.2em;padding-left: 0.2em;position: relative;}#sk-container-id-1 div.sk-item {position: relative;z-index: 1;}#sk-container-id-1 div.sk-parallel {display: flex;align-items: stretch;justify-content: center;background-color: white;position: relative;}#sk-container-id-1 div.sk-item::before, #sk-container-id-1 div.sk-parallel-item::before {content: \"\";position: absolute;border-left: 1px solid gray;box-sizing: border-box;top: 0;bottom: 0;left: 50%;z-index: -1;}#sk-container-id-1 div.sk-parallel-item {display: flex;flex-direction: column;z-index: 1;position: relative;background-color: white;}#sk-container-id-1 div.sk-parallel-item:first-child::after {align-self: flex-end;width: 50%;}#sk-container-id-1 div.sk-parallel-item:last-child::after {align-self: flex-start;width: 50%;}#sk-container-id-1 div.sk-parallel-item:only-child::after {width: 0;}#sk-container-id-1 div.sk-dashed-wrapped {border: 1px dashed gray;margin: 0 0.4em 0.5em 0.4em;box-sizing: border-box;padding-bottom: 0.4em;background-color: white;}#sk-container-id-1 div.sk-label label {font-family: monospace;font-weight: bold;display: inline-block;line-height: 1.2em;}#sk-container-id-1 div.sk-label-container {text-align: center;}#sk-container-id-1 div.sk-container {/* jupyter's `normalize.less` sets `[hidden] { display: none; }` but bootstrap.min.css set `[hidden] { display: none !important; }` so we also need the `!important` here to be able to override the default hidden behavior on the sphinx rendered scikit-learn.org. See: https://github.com/scikit-learn/scikit-learn/issues/21755 */display: inline-block !important;position: relative;}#sk-container-id-1 div.sk-text-repr-fallback {display: none;}</style><div id=\"sk-container-id-1\" class=\"sk-top-container\"><div class=\"sk-text-repr-fallback\"><pre>LogisticRegression()</pre><b>In a Jupyter environment, please rerun this cell to show the HTML representation or trust the notebook. <br />On GitHub, the HTML representation is unable to render, please try loading this page with nbviewer.org.</b></div><div class=\"sk-container\" hidden><div class=\"sk-item\"><div class=\"sk-estimator sk-toggleable\"><input class=\"sk-toggleable__control sk-hidden--visually\" id=\"sk-estimator-id-1\" type=\"checkbox\" checked><label for=\"sk-estimator-id-1\" class=\"sk-toggleable__label sk-toggleable__label-arrow\">LogisticRegression</label><div class=\"sk-toggleable__content\"><pre>LogisticRegression()</pre></div></div></div></div></div>"
      ],
      "text/plain": [
       "LogisticRegression()"
      ]
     },
     "execution_count": 10,
     "metadata": {},
     "output_type": "execute_result"
    }
   ],
   "source": [
    "model = LogisticRegression()\n",
    "model.fit(X_train, y_train)"
   ]
  },
  {
   "cell_type": "code",
   "execution_count": 11,
   "id": "906fbd9f",
   "metadata": {},
   "outputs": [],
   "source": [
    "y_pred = model.predict(X_test)"
   ]
  },
  {
   "cell_type": "code",
   "execution_count": 12,
   "id": "e0291daa",
   "metadata": {},
   "outputs": [],
   "source": [
    "from sklearn.metrics import confusion_matrix\n",
    "import seaborn as sns"
   ]
  },
  {
   "cell_type": "code",
   "execution_count": 13,
   "id": "05e0a305",
   "metadata": {},
   "outputs": [
    {
     "data": {
      "text/plain": [
       "<Axes: >"
      ]
     },
     "execution_count": 13,
     "metadata": {},
     "output_type": "execute_result"
    },
    {
     "data": {
      "image/png": "[encoded data removed]",
      "text/plain": [
       "<Figure size 640x480 with 2 Axes>"
      ]
     },
     "metadata": {},
     "output_type": "display_data"
    }
   ],
   "source": [
    "cm = confusion_matrix(y_test, y_pred)\n",
    "sns.heatmap(cm, annot=True, fmt='d')"
   ]
  },
  {
   "cell_type": "code",
   "execution_count": 14,
   "id": "dbe27aa6",
   "metadata": {},
   "outputs": [],
   "source": [
    "from sklearn.metrics import classification_report "
   ]
  },
  {
   "cell_type": "code",
   "execution_count": 15,
   "id": "0be76085",
   "metadata": {},
   "outputs": [
    {
     "name": "stdout",
     "output_type": "stream",
     "text": [
      "              precision    recall  f1-score   support\n",
      "\n",
      "           0       0.97      0.97      0.97    737444\n",
      "           1       0.95      0.95      0.95    407870\n",
      "\n",
      "    accuracy                           0.96   1145314\n",
      "   macro avg       0.96      0.96      0.96   1145314\n",
      "weighted avg       0.96      0.96      0.96   1145314\n",
      "\n"
     ]
    }
   ],
   "source": [
    "print(classification_report(y_test, y_pred))"
   ]
  },
  {
   "cell_type": "code",
   "execution_count": 16,
   "id": "fca3811c",
   "metadata": {},
   "outputs": [],
   "source": [
    "from sklearn.metrics import RocCurveDisplay\n",
    "from sklearn.metrics import roc_auc_score"
   ]
  },
  {
   "cell_type": "code",
   "execution_count": 17,
   "id": "4a2744c8",
   "metadata": {},
   "outputs": [
    {
     "data": {
      "text/plain": [
       "0.9594756323081154"
      ]
     },
     "execution_count": 17,
     "metadata": {},
     "output_type": "execute_result"
    }
   ],
   "source": [
    "roc_auc_score(y_test, y_pred)"
   ]
  },
  {
   "cell_type": "code",
   "execution_count": null,
   "id": "c1be06ad",
   "metadata": {},
   "outputs": [],
   "source": []
  },
  {
   "cell_type": "code",
   "execution_count": 18,
   "id": "c501588f",
   "metadata": {},
   "outputs": [
    {
     "data": {
      "text/plain": [
       "<sklearn.metrics._plot.roc_curve.RocCurveDisplay at 0x1fbdf3a1810>"
      ]
     },
     "execution_count": 18,
     "metadata": {},
     "output_type": "execute_result"
    },
    {
     "data": {
      "image/png": "[encoded data removed]",
      "text/plain": [
       "<Figure size 640x480 with 1 Axes>"
      ]
     },
     "metadata": {},
     "output_type": "display_data"
    }
   ],
   "source": [
    "RocCurveDisplay.from_estimator(model, X_test, y_test)"
   ]
  },
  {
   "cell_type": "code",
   "execution_count": 19,
   "id": "daf2f8bf",
   "metadata": {},
   "outputs": [],
   "source": [
    "del model"
   ]
  },
  {
   "cell_type": "code",
   "execution_count": 20,
   "id": "8d459d71",
   "metadata": {},
   "outputs": [],
   "source": [
    "# REGULARYZACJA\n",
    "# model_l1 = LogisticRegression(solver='saga', penalty='elasticnet', l1_ratio=0.5)\n",
    "# model_l1.fit(X_train, y_train)"
   ]
  },
  {
   "cell_type": "code",
   "execution_count": 22,
   "id": "84a95650",
   "metadata": {},
   "outputs": [],
   "source": [
    "from sklearn.svm import SVC"
   ]
  },
  {
   "cell_type": "markdown",
   "id": "cae7b00c",
   "metadata": {},
   "source": []
  },
  {
   "cell_type": "code",
   "execution_count": 23,
   "id": "45966097",
   "metadata": {},
   "outputs": [],
   "source": [
    "svm = SVC()"
   ]
  },
  {
   "cell_type": "code",
   "execution_count": null,
   "id": "9803b5d2",
   "metadata": {},
   "outputs": [],
   "source": [
    "svm.fit(X_train, y_train)"
   ]
  },
  {
   "cell_type": "code",
   "execution_count": null,
   "id": "5b4105f9",
   "metadata": {},
   "outputs": [],
   "source": [
    "y_pred = svm.predict(X_test)"
   ]
  },
  {
   "cell_type": "code",
   "execution_count": null,
   "id": "c266a2f2",
   "metadata": {},
   "outputs": [],
   "source": [
    "print(classification_report(y_test, y_pred))"
   ]
  },
  {
   "cell_type": "code",
   "execution_count": null,
   "id": "10a914cd",
   "metadata": {},
   "outputs": [],
   "source": [
    "RocCurveDisplay.from_estimator(svm, X_test, y_test)"
   ]
  },
  {
   "cell_type": "code",
   "execution_count": null,
   "id": "e0ef6727",
   "metadata": {},
   "outputs": [],
   "source": [
    "from sklearn.model_selection import GridSearch"
   ]
  },
  {
   "cell_type": "code",
   "execution_count": null,
   "id": "2b58ec65",
   "metadata": {},
   "outputs": [],
   "source": [
    "params = {'kernel':['linear', 'poly', 'rbf'], \n",
    "          'C':[0.001, 0.01, 0.1, 1], \n",
    "          'gamma':[0.00001, 0.0001, 0.001, 0.01, 0.1, 1]}"
   ]
  },
  {
   "cell_type": "code",
   "execution_count": null,
   "id": "e07914d8",
   "metadata": {},
   "outputs": [],
   "source": [
    "searcher = GridSearch(svm, params)\n",
    "searcher.fit(X_train, y_train)"
   ]
  },
  {
   "cell_type": "raw",
   "id": "3a261c65",
   "metadata": {},
   "source": []
  },
  {
   "cell_type": "code",
   "execution_count": null,
   "id": "d8e8ff57",
   "metadata": {},
   "outputs": [],
   "source": [
    "sercher.best_params_\n",
    "sercher.best_score_"
   ]
  },
  {
   "cell_type": "code",
   "execution_count": null,
   "id": "4f3e4f16",
   "metadata": {},
   "outputs": [],
   "source": [
    "from sklearn.preprocessing import StandardScaler \n",
    "from sklearn.pipeline import make_pipeline"
   ]
  },
  {
   "cell_type": "code",
   "execution_count": null,
   "id": "b12a6832",
   "metadata": {},
   "outputs": [],
   "source": [
    "model = make_pipeline(StandardScaler(), SVC(arg))"
   ]
  },
  {
   "cell_type": "code",
   "execution_count": null,
   "id": "afa7b210",
   "metadata": {},
   "outputs": [],
   "source": [
    "model.fit(X_train, y_train)\n",
    "y_pred = model.predict(X_test)"
   ]
  },
  {
   "cell_type": "code",
   "execution_count": null,
   "id": "3e3aee64",
   "metadata": {},
   "outputs": [],
   "source": [
    "print(classification_report(y_test, y_pred))"
   ]
  },
  {
   "cell_type": "code",
   "execution_count": null,
   "id": "d47709c8",
   "metadata": {},
   "outputs": [],
   "source": [
    "RocCurveDisplay.from_estimator(model, X_test, y_test)"
   ]
  },
  {
   "cell_type": "code",
   "execution_count": null,
   "id": "d58f5469",
   "metadata": {},
   "outputs": [],
   "source": [
    "from sklearn.neighbors import KNeightborsClassifier "
   ]
  },
  {
   "cell_type": "code",
   "execution_count": null,
   "id": "8efe4035",
   "metadata": {},
   "outputs": [],
   "source": [
    "knn = KNeightborsClassifier()"
   ]
  },
  {
   "cell_type": "code",
   "execution_count": null,
   "id": "6bf36f04",
   "metadata": {},
   "outputs": [],
   "source": [
    "grid serach"
   ]
  },
  {
   "cell_type": "code",
   "execution_count": null,
   "id": "caca7c5b",
   "metadata": {},
   "outputs": [],
   "source": [
    "from sklearn.naive_bayes import MultinominalNB, GaussianNB, BernoulliNB"
   ]
  },
  {
   "cell_type": "code",
   "execution_count": null,
   "id": "aafceb14",
   "metadata": {},
   "outputs": [],
   "source": [
    "mnb = MultinominalNB()\n",
    "mnb.fit(X_train, y_train)"
   ]
  },
  {
   "cell_type": "code",
   "execution_count": null,
   "id": "0dcf30b9",
   "metadata": {},
   "outputs": [],
   "source": [
    "y_pred = mnb.predict(X_test)"
   ]
  },
  {
   "cell_type": "code",
   "execution_count": null,
   "id": "6e74c0c9",
   "metadata": {},
   "outputs": [],
   "source": [
    "print(classification_report(y_test, y_pred))"
   ]
  },
  {
   "cell_type": "code",
   "execution_count": null,
   "id": "262afa10",
   "metadata": {},
   "outputs": [],
   "source": [
    "RocCurveDisplay.from_estimator(mnb, X_test, y_test)"
   ]
  },
  {
   "cell_type": "code",
   "execution_count": null,
   "id": "1fbd5d98",
   "metadata": {},
   "outputs": [],
   "source": [
    "gb = GaussianNB()\n",
    "gb.fit(X_train, y_train)"
   ]
  },
  {
   "cell_type": "code",
   "execution_count": null,
   "id": "3cf97ba0",
   "metadata": {},
   "outputs": [],
   "source": [
    "y_pred = fg.predict(X_test)"
   ]
  },
  {
   "cell_type": "code",
   "execution_count": null,
   "id": "8440c010",
   "metadata": {},
   "outputs": [],
   "source": [
    "print(classification_report(y_test, y_pred))"
   ]
  },
  {
   "cell_type": "code",
   "execution_count": null,
   "id": "66ece98c",
   "metadata": {},
   "outputs": [],
   "source": [
    "RocCurveDisplay.from_estimator(gb, X_test, y_test)"
   ]
  },
  {
   "cell_type": "code",
   "execution_count": null,
   "id": "d96f2656",
   "metadata": {},
   "outputs": [],
   "source": [
    "bn = BernoulliNB()\n",
    "bn.fit(X_train, y_train)"
   ]
  },
  {
   "cell_type": "code",
   "execution_count": null,
   "id": "19393db9",
   "metadata": {},
   "outputs": [],
   "source": [
    "y_pred = bn.predict(X_test)"
   ]
  },
  {
   "cell_type": "code",
   "execution_count": null,
   "id": "38b48b99",
   "metadata": {},
   "outputs": [],
   "source": [
    "print(classification_report(y_test, y_pred))"
   ]
  },
  {
   "cell_type": "code",
   "execution_count": null,
   "id": "5cc4cc29",
   "metadata": {},
   "outputs": [],
   "source": [
    "RocCurveDisplay.from_estimator(bn, X_test, y_test)"
   ]
  },
  {
   "cell_type": "code",
   "execution_count": null,
   "id": "b2e407ed",
   "metadata": {},
   "outputs": [],
   "source": [
    "from sklearn.preprocessing import KBinsDiscretizer"
   ]
  },
  {
   "cell_type": "code",
   "execution_count": null,
   "id": "0b5238ec",
   "metadata": {},
   "outputs": [],
   "source": [
    "disc = KBinsDiscretizer(n_bins =5,\n",
    "                       encode='ordinal',\n",
    "                       strategy='uniform')"
   ]
  },
  {
   "cell_type": "code",
   "execution_count": null,
   "id": "4eb28120",
   "metadata": {},
   "outputs": [],
   "source": [
    "disc.fit(X) # pokazujemy zmienne X do disc \n",
    "X_disc = disc.transform(X) # dyskretyzujemy X\n",
    "X_d = X.copy() # kopiujemy X\n",
    "X_d[:] = X_disc # przypisujemy zdyskretyzowane dane\n",
    "X_train, X_test, y_train, y_test = train_test_split(X_d, y, test_size=0.2, random_seed=42)"
   ]
  },
  {
   "cell_type": "code",
   "execution_count": null,
   "id": "c75b30a5",
   "metadata": {},
   "outputs": [],
   "source": [
    "wprowadzamy model"
   ]
  },
  {
   "cell_type": "code",
   "execution_count": null,
   "id": "043ea5f5",
   "metadata": {},
   "outputs": [],
   "source": [
    "disc2=KBinsDiscretizer(n_bins=3, # liczba przedziałów\n",
    "                      encode='onehot', # wyświetlanie tabeli po transformacji one hot encoding\n",
    "                      strategy='quantile') # tworzenie przedziałów, aby miały taką samą liczbę obserwacji"
   ]
  },
  {
   "cell_type": "code",
   "execution_count": null,
   "id": "dcc581f1",
   "metadata": {},
   "outputs": [],
   "source": [
    "from sklearn.tree import DecisionTreeClassifier"
   ]
  },
  {
   "cell_type": "code",
   "execution_count": null,
   "id": "2756212d",
   "metadata": {},
   "outputs": [],
   "source": [
    "dt = DecisionTreeClassifier()\n",
    "dt.fit(X_train, y_train)\n",
    "y_pred = dt.predict(X_test)"
   ]
  },
  {
   "cell_type": "code",
   "execution_count": null,
   "id": "f8af35f9",
   "metadata": {},
   "outputs": [],
   "source": [
    "print(classification_report(y_test, y_pred))"
   ]
  },
  {
   "cell_type": "code",
   "execution_count": null,
   "id": "c6c918e5",
   "metadata": {},
   "outputs": [],
   "source": [
    "RocCurveDisplay.from_estimator(bn, X_test, y_test)"
   ]
  },
  {
   "cell_type": "code",
   "execution_count": null,
   "id": "59216d3c",
   "metadata": {},
   "outputs": [],
   "source": [
    "dt.get_params()"
   ]
  },
  {
   "cell_type": "code",
   "execution_count": null,
   "id": "01de3d07",
   "metadata": {},
   "outputs": [],
   "source": [
    "grid search"
   ]
  },
  {
   "cell_type": "code",
   "execution_count": null,
   "id": "c1f574fb",
   "metadata": {},
   "outputs": [],
   "source": [
    "from sklearn.ensemble import BaggingClassifier "
   ]
  },
  {
   "cell_type": "code",
   "execution_count": null,
   "id": "9147d851",
   "metadata": {},
   "outputs": [],
   "source": [
    "bagging_model = BaggingClassifier(base_estimator=DecisionTreeClassifier(), n_estimators=50, random_state=42)\n",
    "bagging_model.fit(X_train, y_train)"
   ]
  },
  {
   "cell_type": "code",
   "execution_count": null,
   "id": "f018667f",
   "metadata": {},
   "outputs": [],
   "source": [
    "y_pred = bagging_model.predict(X_test)"
   ]
  },
  {
   "cell_type": "code",
   "execution_count": null,
   "id": "a3fe75d9",
   "metadata": {},
   "outputs": [],
   "source": [
    "print(classification_report(y_test, y_pred))"
   ]
  },
  {
   "cell_type": "code",
   "execution_count": null,
   "id": "b103cd6d",
   "metadata": {},
   "outputs": [],
   "source": [
    "RocCurveDisplay.from_estimator(bagging_model, X_test, y_test)"
   ]
  },
  {
   "cell_type": "code",
   "execution_count": null,
   "id": "fde78e1b",
   "metadata": {},
   "outputs": [],
   "source": [
    "from sklearn.esamble import RandomForestClassifier "
   ]
  },
  {
   "cell_type": "code",
   "execution_count": null,
   "id": "24492f05",
   "metadata": {},
   "outputs": [],
   "source": [
    "rf_model = RandomForestClassifier(n_estimators=100, random_state=42, max_depth=10)\n",
    "rf_model.fit(X_train, y_train)"
   ]
  },
  {
   "cell_type": "code",
   "execution_count": null,
   "id": "15f7376c",
   "metadata": {},
   "outputs": [],
   "source": [
    "y_pred = rf_model.predict(X_test)"
   ]
  },
  {
   "cell_type": "code",
   "execution_count": null,
   "id": "785a3832",
   "metadata": {},
   "outputs": [],
   "source": [
    "print(classification_report(y_test, y_pred))"
   ]
  },
  {
   "cell_type": "code",
   "execution_count": null,
   "id": "c0656f1e",
   "metadata": {},
   "outputs": [],
   "source": [
    "RocCurveDisplay.from_estimator(rf_model, X_test, y_test)"
   ]
  },
  {
   "cell_type": "code",
   "execution_count": null,
   "id": "9697bc39",
   "metadata": {},
   "outputs": [],
   "source": [
    "from sklearn.ensemble import AdaBoostClassifier"
   ]
  },
  {
   "cell_type": "code",
   "execution_count": null,
   "id": "b644869b",
   "metadata": {},
   "outputs": [],
   "source": [
    "ada_model = AdaBoostClassifier(n_estimators=30)\n",
    "ada_model.fit(X_train, y_train)"
   ]
  },
  {
   "cell_type": "code",
   "execution_count": null,
   "id": "d8e31161",
   "metadata": {},
   "outputs": [],
   "source": [
    "y_pred = ada_model.predict(X_test)"
   ]
  },
  {
   "cell_type": "code",
   "execution_count": null,
   "id": "f3bc7be7",
   "metadata": {},
   "outputs": [],
   "source": [
    "print(classification_report(y_test, y_pred))"
   ]
  },
  {
   "cell_type": "code",
   "execution_count": null,
   "id": "d20071d7",
   "metadata": {},
   "outputs": [],
   "source": [
    "RocCurveDisplay.from_estimator(ada_model, X_test, y_test)"
   ]
  },
  {
   "cell_type": "code",
   "execution_count": null,
   "id": "04d9d410",
   "metadata": {},
   "outputs": [],
   "source": [
    "from sklearn.ensemble import GradientBoostingClassifier"
   ]
  },
  {
   "cell_type": "code",
   "execution_count": null,
   "id": "6e5a945a",
   "metadata": {},
   "outputs": [],
   "source": [
    "grad_model = GradientBoostingClassifier(n_estimators=100, random_state=42)\n",
    "grad_model.fit(X_train, y_train)"
   ]
  },
  {
   "cell_type": "code",
   "execution_count": null,
   "id": "ff44b2f7",
   "metadata": {},
   "outputs": [],
   "source": [
    "y_pred = grad_model.predict(X_test)"
   ]
  },
  {
   "cell_type": "code",
   "execution_count": null,
   "id": "d66c9734",
   "metadata": {},
   "outputs": [],
   "source": [
    "print(classification_report(y_test, y_pred))"
   ]
  },
  {
   "cell_type": "code",
   "execution_count": null,
   "id": "d834490d",
   "metadata": {},
   "outputs": [],
   "source": [
    "RocCurveDisplay.from_estimator(ada_model, X_test, y_test)"
   ]
  },
  {
   "cell_type": "code",
   "execution_count": null,
   "id": "6f7a8d29",
   "metadata": {},
   "outputs": [],
   "source": [
    "# REDUKCJA WYMIAROWOŚCI (ml_nienadzorowane_16.04 - PCA)\n",
    "from sklear.decomposition import PCA"
   ]
  },
  {
   "cell_type": "code",
   "execution_count": null,
   "id": "cb24b8d8",
   "metadata": {},
   "outputs": [],
   "source": [
    "from scipy.stats import pearsonr"
   ]
  },
  {
   "cell_type": "code",
   "execution_count": null,
   "id": "4f633058",
   "metadata": {},
   "outputs": [],
   "source": [
    "model = PCA()\n",
    "pca_features = model.fit_transform(X)"
   ]
  },
  {
   "cell_type": "code",
   "execution_count": null,
   "id": "cf7753ea",
   "metadata": {},
   "outputs": [],
   "source": []
  }
 ],
 "metadata": {
  "kernelspec": {
   "display_name": "Python 3 (ipykernel)",
   "language": "python",
   "name": "python3"
  },
  "language_info": {
   "codemirror_mode": {
    "name": "ipython",
    "version": 3
   },
   "file_extension": ".py",
   "mimetype": "text/x-python",
   "name": "python",
   "nbconvert_exporter": "python",
   "pygments_lexer": "ipython3",
   "version": "3.10.9"
  }
 },
 "nbformat": 4,
 "nbformat_minor": 5
}
