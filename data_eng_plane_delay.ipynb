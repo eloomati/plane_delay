{
 "cells": [
  {
   "cell_type": "markdown",
   "metadata": {
    "id": "-lqsd3GaTpWD"
   },
   "source": [
    "Czy jesteśmy w stanie przewidzieć czy samolot będzie opóźniony?\n",
    "\n",
    "Praca opracowywana przez Szyona Wieckiego, Karola Koptraskiego i Mateusz Hetko"
   ]
  },
  {
   "cell_type": "markdown",
   "metadata": {
    "id": "ya4MlUgP7K9M"
   },
   "source": [
    "# IMPORTS"
   ]
  },
  {
   "cell_type": "code",
   "execution_count": 22,
   "metadata": {
    "colab": {
     "base_uri": "https://localhost:8080/"
    },
    "id": "bB7ME-0d3neS",
    "outputId": "e8f61ccf-a3de-4ef2-f0be-d4c4912c2e24"
   },
   "outputs": [],
   "source": [
    "# from google.colab import drive\n",
    "# drive.mount('/content/gdriv')"
   ]
  },
  {
   "cell_type": "code",
   "execution_count": 23,
   "metadata": {},
   "outputs": [],
   "source": [
    "# !pip install imblearn\n",
    "# !pip install scikit-learn\n",
    "#!pip install requests\n",
    "# !pip install pandas\n",
    "# !pip install matplotlib\n",
    "# !pip install seaborn\n",
    "# !pip install numpy\n",
    "# !pip install tensorflow\n",
    "# !pip install keras"
   ]
  },
  {
   "cell_type": "code",
   "execution_count": 24,
   "metadata": {
    "id": "NH3I7bTLwr1q"
   },
   "outputs": [],
   "source": [
    "import pandas as pd\n",
    "import seaborn as sns\n",
    "import matplotlib.pyplot as plt\n",
    "import numpy as np\n",
    "import re"
   ]
  },
  {
   "cell_type": "code",
   "execution_count": 25,
   "metadata": {
    "colab": {
     "base_uri": "https://localhost:8080/"
    },
    "id": "mMBCZG3Fz9L3",
    "outputId": "17fd78de-6a8d-499a-ace2-7ffc6ae249a0"
   },
   "outputs": [
    {
     "data": {
      "text/plain": [
       "RangeIndex(start=0, stop=5819079, step=1)"
      ]
     },
     "execution_count": 25,
     "metadata": {},
     "output_type": "execute_result"
    }
   ],
   "source": [
    "# <ipython-input-354-4c40799db55d>:1: DtypeWarning: Columns (7,8) have mixed types. Specify dtype option on import or set low_memory=False.\n",
    "#   flight = pd.read_csv('flights.csv')\n",
    "# RangeIndex(start=0, stop=5819079, step=1)\n",
    "\n",
    "df_flights = pd.read_csv(r'C:\\Users\\hetko\\Desktop\\jupyter\\flight_data\\flights.csv', dtype={'ORIGIN_AIRPORT': str, 'DESTINATION_AIRPORT': str})\n",
    "#df_flight = flight.loc[:10000]\n",
    "df_flights.index"
   ]
  },
  {
   "cell_type": "code",
   "execution_count": 26,
   "metadata": {
    "colab": {
     "base_uri": "https://localhost:8080/"
    },
    "id": "XPUiCCe0-1qz",
    "outputId": "339953c1-4e83-4a0d-c1f1-d7e02daf8fdd"
   },
   "outputs": [
    {
     "data": {
      "text/plain": [
       "RangeIndex(start=0, stop=322, step=1)"
      ]
     },
     "execution_count": 26,
     "metadata": {},
     "output_type": "execute_result"
    }
   ],
   "source": [
    "airport = pd.read_csv(r'C:\\Users\\hetko\\Desktop\\jupyter\\flight_data\\airports.csv')\n",
    "df_airports = airport[:]\n",
    "df_airports.index"
   ]
  },
  {
   "cell_type": "code",
   "execution_count": 27,
   "metadata": {
    "colab": {
     "base_uri": "https://localhost:8080/"
    },
    "id": "5i7YI-lL-_GX",
    "outputId": "599d2451-29bd-427c-dc0d-0a44a3283f28"
   },
   "outputs": [
    {
     "data": {
      "text/plain": [
       "RangeIndex(start=0, stop=14, step=1)"
      ]
     },
     "execution_count": 27,
     "metadata": {},
     "output_type": "execute_result"
    }
   ],
   "source": [
    "airline = pd.read_csvairline = pd.read_csv(r'C:\\Users\\hetko\\Desktop\\jupyter\\flight_data\\airlines.csv')\n",
    "df_airlines = airline[:]\n",
    "df_airlines.index"
   ]
  },
  {
   "cell_type": "markdown",
   "metadata": {
    "id": "PopZCX55VdSL"
   },
   "source": [
    "# FUNCTION"
   ]
  },
  {
   "cell_type": "code",
   "execution_count": 28,
   "metadata": {
    "id": "_ucnJo0wVccX"
   },
   "outputs": [],
   "source": [
    "# return unique value from column\n",
    "def unique(name):\n",
    "  return df_flights[name].unique()\n",
    "\n",
    "def nan_dominante(name):\n",
    "  return df_flights[name].fillna(df_flights[name].value_counts().idxmax(), inplace=True)\n",
    "\n",
    "def nan_mediane(name):\n",
    "  return df_flights[name].fillna(df_flights[name].median(), inplace=True)\n",
    "\n",
    "def nan_avg(name):\n",
    "  return df_flights[name].fillna(int(df_flights[name].mean()), inplace=True)"
   ]
  },
  {
   "cell_type": "code",
   "execution_count": 29,
   "metadata": {
    "id": "owlBAqBDVfUx"
   },
   "outputs": [],
   "source": [
    "#funkcja sprawdzająca, czy w danej kolumnie występują liczby mające po przecinku cyfrę inną niż 0 \n",
    "def float_check(name):\n",
    "  arr = df_flights[name].unique()\n",
    "  check = np.any(arr % 1 != 0)\n",
    "  return print(check)"
   ]
  },
  {
   "cell_type": "code",
   "execution_count": 30,
   "metadata": {
    "id": "ecGlwiX0VfZM"
   },
   "outputs": [],
   "source": [
    "# convert value to int\n",
    "def type_int(name):\n",
    "  df_flights[name] = df_flights[name].astype(int)"
   ]
  },
  {
   "cell_type": "code",
   "execution_count": 31,
   "metadata": {
    "id": "CcWv2rHpGjey"
   },
   "outputs": [],
   "source": [
    "# delet column by name\n",
    "def del_column(name):\n",
    "   return df_flights.drop([name], axis=1)\n"
   ]
  },
  {
   "cell_type": "code",
   "execution_count": 32,
   "metadata": {
    "id": "aoB0EswurThU"
   },
   "outputs": [],
   "source": [
    "# draw plot with user params\n",
    "def draw_plot(df,x, y, fig_w, fig_h):\n",
    "  fig, ax = plt.subplots(figsize=(fig_w, fig_h)) \n",
    "\n",
    "  ax.plot(x, df[y], marker='o', linestyle='None', color='g')\n",
    "\n",
    "\n",
    "  ax.set_xlabel('Date')\n",
    "  ax.set_ylabel('Minutes')\n",
    "  ax.set_title(y)\n",
    "\n",
    "  ax.xaxis.set_tick_params(rotation=45)\n",
    "\n",
    "\n",
    "  plt.tight_layout()  \n",
    "\n",
    "  plt.show()"
   ]
  },
  {
   "cell_type": "code",
   "execution_count": 33,
   "metadata": {
    "id": "4rnVyLba5zVN"
   },
   "outputs": [],
   "source": [
    "def nan_per(first, second):\n",
    "  sum = first + second\n",
    "  return (first / sum) * 100"
   ]
  },
  {
   "cell_type": "code",
   "execution_count": 34,
   "metadata": {
    "id": "r0Q-Ydk450qL"
   },
   "outputs": [],
   "source": [
    "def sum_my_column(df, data_column, column_name, w, h):\n",
    "  data_value = df[data_column] # get value from data column\n",
    "  info = df[column_name].info()#.describe() # make full describe of value in column\n",
    "  describe = df[column_name].describe()\n",
    "  first = count_nan_in_column(df, column_name) # value of count nan in column\n",
    "  second = df[column_name].count() # value of count not nan in column\n",
    "  perc = nan_per(first, second) # percent of nan value in column\n",
    "  plot = draw_plot(df, data_value, column_name, w, h) # draw a plot\n",
    "  #uniq = set(df[column_name])\n",
    "  return perc, describe, first, #uniq"
   ]
  },
  {
   "cell_type": "code",
   "execution_count": 35,
   "metadata": {
    "id": "9ND7ClkrSyvH"
   },
   "outputs": [],
   "source": [
    "def delate_outlayers(df, column, low, up):\n",
    "  lower = df[column].quantile(low)\n",
    "  upper = df[column].quantile(up)\n",
    "  df[column] = np.where(df[column] < lower, lower, df[column])\n",
    "  df[column] = np.where(df[column] > upper, upper, df[column])\n",
    "  return df[column]"
   ]
  },
  {
   "cell_type": "code",
   "execution_count": 36,
   "metadata": {
    "id": "UgmgB5qvS6XG"
   },
   "outputs": [],
   "source": [
    "def descript_lenght(df, column):\n",
    "    skew = df[column].skew()# wartość skośna\n",
    "    lenght = df.index # lenght of my column\n",
    "    return skew, lenght"
   ]
  },
  {
   "cell_type": "code",
   "execution_count": 37,
   "metadata": {
    "id": "LPE-6mH80z1F"
   },
   "outputs": [],
   "source": [
    "def key_by_value(df,value):\n",
    "  return [i for i in df if df[i]==value]"
   ]
  },
  {
   "cell_type": "code",
   "execution_count": 38,
   "metadata": {
    "id": "g9_tj4nE04g-"
   },
   "outputs": [],
   "source": [
    "def count_nan_in_column(df, column):\n",
    "  return df[column].isna().sum()"
   ]
  },
  {
   "cell_type": "code",
   "execution_count": 39,
   "metadata": {
    "id": "3qC9FfAk2Bz8"
   },
   "outputs": [],
   "source": [
    "def convert_to_time(frame_with_column):\n",
    "    data_list = []\n",
    "    for i, number in enumerate(frame_with_column):\n",
    "      number = str(number)      \n",
    "      res = re.sub(r'(\\d{2})(?=\\d)', r'\\1,', str(number)[::-1])[::-1] # cast to string\n",
    "      coma = res.replace(',', ':')\n",
    "      normal = coma.replace('24:00', '00:00')\n",
    "      data_list.append(normal)\n",
    "    return data_list"
   ]
  },
  {
   "cell_type": "code",
   "execution_count": 40,
   "metadata": {
    "id": "pMGony4n2F82"
   },
   "outputs": [],
   "source": [
    "def convert_time_before_1_AM(frame_with_column):\n",
    "  data_list = []\n",
    "  for i, number in enumerate(frame_with_column):\n",
    "    number = str(number)\n",
    "    number = ':'.join(['00', number])\n",
    "    res = re.sub(r'(\\d{2})(?=\\d)', r'\\1,', str(number)[::-1])[::-1] # cast to string\n",
    "    coma = res.replace(',', ':')\n",
    "    data_list.append(coma)\n",
    "  return data_list"
   ]
  },
  {
   "cell_type": "code",
   "execution_count": 41,
   "metadata": {
    "id": "dFBnt5FS3fO_"
   },
   "outputs": [],
   "source": [
    "def separate_time(df, name_of_column, how, value):\n",
    "  return df.query(f'{name_of_column} {how} {value}')  "
   ]
  },
  {
   "cell_type": "code",
   "execution_count": 42,
   "metadata": {
    "id": "C_ZiYc4WEzvi"
   },
   "outputs": [],
   "source": [
    "def replace_time(time):\n",
    "    return time.replace('24:00', '00:00')"
   ]
  },
  {
   "cell_type": "markdown",
   "metadata": {
    "id": "cbbRSg-L_dyQ"
   },
   "source": [
    "# Getting to know data"
   ]
  },
  {
   "cell_type": "markdown",
   "metadata": {
    "id": "mj7jAC2atirV"
   },
   "source": [
    "Dane na podstawie ktorych mozna zbudowac kategorie spozniony lub nie:\n",
    "\n",
    "SCHEDULED_DEPARTURE\n",
    "\n",
    "WHEELS_ON\n",
    "\n",
    "ARRIVAL_TIME\n",
    "\n",
    "ARRIVAL_DELAY"
   ]
  },
  {
   "cell_type": "markdown",
   "metadata": {
    "id": "OkeyBEvcP6Bo"
   },
   "source": [
    "##Description"
   ]
  },
  {
   "cell_type": "markdown",
   "metadata": {
    "id": "t9w4Q3RTQBNA"
   },
   "source": [
    "YEAR - rok wylotu\n",
    "\n",
    "MONTH - miesiąc wylotu\n",
    "\n",
    "DAY - dzień wylotu\n",
    "\n",
    "DAY_OF_WEEK - nazwa dnia tygodnia \n",
    "\n",
    "AIRLINE - nazwa przynależności linii lotniczej podawana w formacie 2 literowego skrótu (set(df_flights['AIRLINE']))\n",
    "\n",
    "FLIGHT_NUMBER - numer lotu\n",
    "\n",
    "TAIL_NUMBER - Numer ogonowy to kod alfanumeryczny składający się z dwóch do sześciu znaków, używany do identyfikacji konkretnego statku powietrznego. \n",
    "Przedrostek alfabetyczny numeru ogonowego wskazuje kraj pochodzenia samolotu. Wszystkie amerykańskie numery ogonowe zaczynają się od „N”, kanadyjskie samoloty zaczynają się od „C”, niemieckie od „D” i tak dalej.\n",
    "\n",
    "ORIGIN_AIRPORT - miejsce/lotnisko wylotu, podawane w foramcie 3 liter (set(df_flights['ORIGIN_AIRPORT']))\n",
    "\n",
    "DESTINATION_AIRPORT - miejsce/lotnisko lądowania, destynacja samolotu (tak samo jak origin)\n",
    "\n",
    "SCHEDULED_DEPARTURE - pierwotna data planowanego wylotu\n",
    "\n",
    "DEPARTURE_TIME - godzina wylotu (podawana w formacie liczby minut np. 1111.1: set(df_flights['DEPARTURE_TIME']))\n",
    "\n",
    "DEPARTURE_DELAY - podawana w formacie opoznienia w minutach (123.0 i duzo sensownych NaN: set(df_flights['DEPARTURE_DELAY'])\n",
    "\n",
    "TAXI_OUT - średni czas oczekiwania w kolejce na pas startowy w ruchu wychodzącym w okresach zatoru na lotniskach (podawany w formacie liczby minut  np. 11.1, set(df_flights['TAXI_OUT']) )\n",
    "\n",
    "WHEELS_OFF - oznacza czas planowanego odlotu z lotniska początkowego (duzo Nanów, format 1459.0)\n",
    "\n",
    "SCHEDULED_TIME - oznacza czas jaki planujemy, że zajmie nam lot (???)\n",
    "\n",
    "ELAPSED_TIME - oznacza czas jaki zajal lot (???)\n",
    "\n",
    "AIR_TIME - czas jaki spedzil samolot w powietrzu (???)\n",
    "\n",
    "DISTANCE - pokonany dystans\n",
    "\n",
    "WHEELS_ON - oznacza czas planowanego przylotu do miejsca docelowego (duzo Nanów, format 1459.0)\n",
    "\n",
    "TAXI_IN\n",
    "\n",
    "SCHEDULED_ARRIVAL - rozkladowy czas przylotu\n",
    "\n",
    "ARRIVAL_TIME - czas przylotu\n",
    "\n",
    "ARRIVAL_DELAY - liczba minut rowna spoznieniu przylotu\n",
    "\n",
    "DIVERTED - lot zawrócony (wartosc 0 i 1)\n",
    "\n",
    "CANCELLED - lot anulowany (wartość 0 i 1) \n",
    "\n",
    "CANCELLATION_REASON - powod anulowania lotu ( wartosc A, B, C, D i NaN)\n",
    "\n",
    "AIR_SYSTEM_DELAY - czas opoznienia spowodowany problemami wynikajace nie z lotniska \n",
    "\n",
    "SECURITY_DELAY - Opóźnienie związane z bezpieczeństwem jest spowodowane ewakuacją terminalu lub hali, ponownym wejściem na pokład samolotu z powodu naruszenia bezpieczeństwa, niedziałającym sprzętem do kontroli bezpieczeństwa i/lub długimi kolejkami przekraczającymi 29 minut w strefach kontroli bezpieczeństwa.\n",
    "\n",
    "AIRLINE_DELAY - czas opoznienia z linii lotniczej\n",
    "\n",
    "LATE_AIRCRAFT_DELAY - opoznienie oglaszane w ostatnim momencie\n",
    "\n",
    "WEATHER_DELAY - czas opoznienia wynikajacy z warunkow pogodwych"
   ]
  },
  {
   "cell_type": "markdown",
   "metadata": {
    "id": "NepKfyGrf6bO"
   },
   "source": [
    "AIRLINE_DELAY = minuty\n",
    "\n",
    "LATE_AIRCRAFT_DELAY = minuty\n",
    "\n",
    "WEATHER_DELAY = minuty\n",
    "\n",
    "SECURITY_DELAY = minuty\n",
    "\n",
    "AIR_SYSTEM_DELAY = minuty\n",
    "\n",
    "ARRIVAL_DELAY = minuty\n",
    "\n",
    "ARRIVAL_TIME = godziny\n",
    "\n",
    "SCHEDULED_ARRIVAL = godziny\n",
    "\n",
    "TAXI_IN = minuty\n",
    "\n",
    "WHEELS_ON = godziny\n",
    "\n",
    "AIR_TIME = minuty\n",
    "\n",
    "ELAPSED_TIME = minuty\n",
    "\n",
    "SCHEDULED_TIME = minuty\n",
    "\n",
    "WHEELS_OFF = godziny\n",
    "\n",
    "TAXI_OUT = minuty\n",
    "\n",
    "DEPARTURE_DELAY = minuty\n",
    "\n",
    "DEPARTURE_TIME = godzina (brak nanow)\n",
    "\n",
    "SCHEDULED_DEPARTURE = godzina (brak nanow)\n",
    "\n",
    "SCHEDULED_TIME = minuty"
   ]
  },
  {
   "cell_type": "markdown",
   "metadata": {
    "id": "FdIqrbNI87O6"
   },
   "source": [
    "### What to do"
   ]
  },
  {
   "cell_type": "markdown",
   "metadata": {
    "id": "Qyjko7dM9A1-"
   },
   "source": [
    "<!-- airline na hotone,\n",
    "\n",
    "usunac flight_number, tail_number\n",
    "\n",
    "reason na 0 i onehot pozniej\n",
    "\n",
    "schedul_time = srednia\n",
    "\n",
    "dodac kolumne z cala data -->\n",
    "\n",
    "Potencjalne dane do wyrzucenia w celu poprawy dzialania systemu: DAY_OF_WEEK, TAXI IN, DIVERTED, SECURITY_DELAY\n",
    "\n",
    "zastanowic sie nad outlayerami\n",
    "\n",
    "\n",
    "odjac jedno od drugiego wyciagnac minuty i dodac tabele na wheels_on i wheel_off oraz na arrival_time i scheduled_arrival\n",
    "\n",
    "tabele polaczyc i zaminc dane ze skrotow na liczby\n",
    "\n",
    "zeby nie utracic danych trzeba zrobic query na nany i dodac je do nowego dataframe\n",
    "\n",
    "dane z godzinami powinny znalezc sie nad minutami, bo wyczyscilem nany i latwiej analizowac reszte danych\n",
    "\n",
    "sprawdzic roznice w czasie miedzy kazda kategoria godzinowa i na jej podstawie wyznaczyc target i nowe kolumny z danymi o roznicach w czasie, target nie moze miec wypisanej roznicy, bo to problem regresji liniowej wtedy\n"
   ]
  },
  {
   "cell_type": "markdown",
   "metadata": {
    "id": "YVK7lm17hdKq"
   },
   "source": [
    "AIRLINE  \n",
    "ORIGIN_AIRPORT                        \n",
    "DESTINATION_AIRPORT     "
   ]
  },
  {
   "cell_type": "markdown",
   "metadata": {
    "id": "6j05lCQ-KKp_"
   },
   "source": [
    "do usuniecia \n",
    "\n",
    "wheels on \n",
    "\n",
    "wheels off\n",
    "\n",
    "mamy air_time, a tutaj tracimy 4% danych na rzecz niepotrzebnej informacji"
   ]
  },
  {
   "cell_type": "markdown",
   "metadata": {
    "id": "Rx3PdEbY_ZTX"
   },
   "source": [
    "## Flights"
   ]
  },
  {
   "cell_type": "markdown",
   "metadata": {
    "id": "6ulguFH3sC-m"
   },
   "source": [
    "### BESIC KNOWLADGE"
   ]
  },
  {
   "cell_type": "code",
   "execution_count": 43,
   "metadata": {
    "colab": {
     "base_uri": "https://localhost:8080/",
     "height": 300
    },
    "id": "JpiJa60S9RbH",
    "outputId": "c94acb60-815e-4cdd-e34d-be49cff68d60"
   },
   "outputs": [
    {
     "data": {
      "text/html": [
       "<div>\n",
       "<style scoped>\n",
       "    .dataframe tbody tr th:only-of-type {\n",
       "        vertical-align: middle;\n",
       "    }\n",
       "\n",
       "    .dataframe tbody tr th {\n",
       "        vertical-align: top;\n",
       "    }\n",
       "\n",
       "    .dataframe thead th {\n",
       "        text-align: right;\n",
       "    }\n",
       "</style>\n",
       "<table border=\"1\" class=\"dataframe\">\n",
       "  <thead>\n",
       "    <tr style=\"text-align: right;\">\n",
       "      <th></th>\n",
       "      <th>YEAR</th>\n",
       "      <th>MONTH</th>\n",
       "      <th>DAY</th>\n",
       "      <th>DAY_OF_WEEK</th>\n",
       "      <th>AIRLINE</th>\n",
       "      <th>FLIGHT_NUMBER</th>\n",
       "      <th>TAIL_NUMBER</th>\n",
       "      <th>ORIGIN_AIRPORT</th>\n",
       "      <th>DESTINATION_AIRPORT</th>\n",
       "      <th>SCHEDULED_DEPARTURE</th>\n",
       "      <th>...</th>\n",
       "      <th>ARRIVAL_TIME</th>\n",
       "      <th>ARRIVAL_DELAY</th>\n",
       "      <th>DIVERTED</th>\n",
       "      <th>CANCELLED</th>\n",
       "      <th>CANCELLATION_REASON</th>\n",
       "      <th>AIR_SYSTEM_DELAY</th>\n",
       "      <th>SECURITY_DELAY</th>\n",
       "      <th>AIRLINE_DELAY</th>\n",
       "      <th>LATE_AIRCRAFT_DELAY</th>\n",
       "      <th>WEATHER_DELAY</th>\n",
       "    </tr>\n",
       "  </thead>\n",
       "  <tbody>\n",
       "    <tr>\n",
       "      <th>0</th>\n",
       "      <td>2015</td>\n",
       "      <td>1</td>\n",
       "      <td>1</td>\n",
       "      <td>4</td>\n",
       "      <td>AS</td>\n",
       "      <td>98</td>\n",
       "      <td>N407AS</td>\n",
       "      <td>ANC</td>\n",
       "      <td>SEA</td>\n",
       "      <td>5</td>\n",
       "      <td>...</td>\n",
       "      <td>408.0</td>\n",
       "      <td>-22.0</td>\n",
       "      <td>0</td>\n",
       "      <td>0</td>\n",
       "      <td>NaN</td>\n",
       "      <td>NaN</td>\n",
       "      <td>NaN</td>\n",
       "      <td>NaN</td>\n",
       "      <td>NaN</td>\n",
       "      <td>NaN</td>\n",
       "    </tr>\n",
       "    <tr>\n",
       "      <th>1</th>\n",
       "      <td>2015</td>\n",
       "      <td>1</td>\n",
       "      <td>1</td>\n",
       "      <td>4</td>\n",
       "      <td>AA</td>\n",
       "      <td>2336</td>\n",
       "      <td>N3KUAA</td>\n",
       "      <td>LAX</td>\n",
       "      <td>PBI</td>\n",
       "      <td>10</td>\n",
       "      <td>...</td>\n",
       "      <td>741.0</td>\n",
       "      <td>-9.0</td>\n",
       "      <td>0</td>\n",
       "      <td>0</td>\n",
       "      <td>NaN</td>\n",
       "      <td>NaN</td>\n",
       "      <td>NaN</td>\n",
       "      <td>NaN</td>\n",
       "      <td>NaN</td>\n",
       "      <td>NaN</td>\n",
       "    </tr>\n",
       "    <tr>\n",
       "      <th>2</th>\n",
       "      <td>2015</td>\n",
       "      <td>1</td>\n",
       "      <td>1</td>\n",
       "      <td>4</td>\n",
       "      <td>US</td>\n",
       "      <td>840</td>\n",
       "      <td>N171US</td>\n",
       "      <td>SFO</td>\n",
       "      <td>CLT</td>\n",
       "      <td>20</td>\n",
       "      <td>...</td>\n",
       "      <td>811.0</td>\n",
       "      <td>5.0</td>\n",
       "      <td>0</td>\n",
       "      <td>0</td>\n",
       "      <td>NaN</td>\n",
       "      <td>NaN</td>\n",
       "      <td>NaN</td>\n",
       "      <td>NaN</td>\n",
       "      <td>NaN</td>\n",
       "      <td>NaN</td>\n",
       "    </tr>\n",
       "    <tr>\n",
       "      <th>3</th>\n",
       "      <td>2015</td>\n",
       "      <td>1</td>\n",
       "      <td>1</td>\n",
       "      <td>4</td>\n",
       "      <td>AA</td>\n",
       "      <td>258</td>\n",
       "      <td>N3HYAA</td>\n",
       "      <td>LAX</td>\n",
       "      <td>MIA</td>\n",
       "      <td>20</td>\n",
       "      <td>...</td>\n",
       "      <td>756.0</td>\n",
       "      <td>-9.0</td>\n",
       "      <td>0</td>\n",
       "      <td>0</td>\n",
       "      <td>NaN</td>\n",
       "      <td>NaN</td>\n",
       "      <td>NaN</td>\n",
       "      <td>NaN</td>\n",
       "      <td>NaN</td>\n",
       "      <td>NaN</td>\n",
       "    </tr>\n",
       "    <tr>\n",
       "      <th>4</th>\n",
       "      <td>2015</td>\n",
       "      <td>1</td>\n",
       "      <td>1</td>\n",
       "      <td>4</td>\n",
       "      <td>AS</td>\n",
       "      <td>135</td>\n",
       "      <td>N527AS</td>\n",
       "      <td>SEA</td>\n",
       "      <td>ANC</td>\n",
       "      <td>25</td>\n",
       "      <td>...</td>\n",
       "      <td>259.0</td>\n",
       "      <td>-21.0</td>\n",
       "      <td>0</td>\n",
       "      <td>0</td>\n",
       "      <td>NaN</td>\n",
       "      <td>NaN</td>\n",
       "      <td>NaN</td>\n",
       "      <td>NaN</td>\n",
       "      <td>NaN</td>\n",
       "      <td>NaN</td>\n",
       "    </tr>\n",
       "  </tbody>\n",
       "</table>\n",
       "<p>5 rows × 31 columns</p>\n",
       "</div>"
      ],
      "text/plain": [
       "   YEAR  MONTH  DAY  DAY_OF_WEEK AIRLINE  FLIGHT_NUMBER TAIL_NUMBER   \n",
       "0  2015      1    1            4      AS             98      N407AS  \\\n",
       "1  2015      1    1            4      AA           2336      N3KUAA   \n",
       "2  2015      1    1            4      US            840      N171US   \n",
       "3  2015      1    1            4      AA            258      N3HYAA   \n",
       "4  2015      1    1            4      AS            135      N527AS   \n",
       "\n",
       "  ORIGIN_AIRPORT DESTINATION_AIRPORT  SCHEDULED_DEPARTURE  ...  ARRIVAL_TIME   \n",
       "0            ANC                 SEA                    5  ...         408.0  \\\n",
       "1            LAX                 PBI                   10  ...         741.0   \n",
       "2            SFO                 CLT                   20  ...         811.0   \n",
       "3            LAX                 MIA                   20  ...         756.0   \n",
       "4            SEA                 ANC                   25  ...         259.0   \n",
       "\n",
       "   ARRIVAL_DELAY  DIVERTED  CANCELLED  CANCELLATION_REASON  AIR_SYSTEM_DELAY   \n",
       "0          -22.0         0          0                  NaN               NaN  \\\n",
       "1           -9.0         0          0                  NaN               NaN   \n",
       "2            5.0         0          0                  NaN               NaN   \n",
       "3           -9.0         0          0                  NaN               NaN   \n",
       "4          -21.0         0          0                  NaN               NaN   \n",
       "\n",
       "   SECURITY_DELAY  AIRLINE_DELAY  LATE_AIRCRAFT_DELAY  WEATHER_DELAY  \n",
       "0             NaN            NaN                  NaN            NaN  \n",
       "1             NaN            NaN                  NaN            NaN  \n",
       "2             NaN            NaN                  NaN            NaN  \n",
       "3             NaN            NaN                  NaN            NaN  \n",
       "4             NaN            NaN                  NaN            NaN  \n",
       "\n",
       "[5 rows x 31 columns]"
      ]
     },
     "execution_count": 43,
     "metadata": {},
     "output_type": "execute_result"
    }
   ],
   "source": [
    "df_flights.head()"
   ]
  },
  {
   "cell_type": "code",
   "execution_count": 44,
   "metadata": {
    "colab": {
     "base_uri": "https://localhost:8080/",
     "height": 300
    },
    "id": "Wsg76DxS9SIR",
    "outputId": "35782662-c278-4acf-adc8-c6887d690249"
   },
   "outputs": [
    {
     "data": {
      "text/html": [
       "<div>\n",
       "<style scoped>\n",
       "    .dataframe tbody tr th:only-of-type {\n",
       "        vertical-align: middle;\n",
       "    }\n",
       "\n",
       "    .dataframe tbody tr th {\n",
       "        vertical-align: top;\n",
       "    }\n",
       "\n",
       "    .dataframe thead th {\n",
       "        text-align: right;\n",
       "    }\n",
       "</style>\n",
       "<table border=\"1\" class=\"dataframe\">\n",
       "  <thead>\n",
       "    <tr style=\"text-align: right;\">\n",
       "      <th></th>\n",
       "      <th>YEAR</th>\n",
       "      <th>MONTH</th>\n",
       "      <th>DAY</th>\n",
       "      <th>DAY_OF_WEEK</th>\n",
       "      <th>AIRLINE</th>\n",
       "      <th>FLIGHT_NUMBER</th>\n",
       "      <th>TAIL_NUMBER</th>\n",
       "      <th>ORIGIN_AIRPORT</th>\n",
       "      <th>DESTINATION_AIRPORT</th>\n",
       "      <th>SCHEDULED_DEPARTURE</th>\n",
       "      <th>...</th>\n",
       "      <th>ARRIVAL_TIME</th>\n",
       "      <th>ARRIVAL_DELAY</th>\n",
       "      <th>DIVERTED</th>\n",
       "      <th>CANCELLED</th>\n",
       "      <th>CANCELLATION_REASON</th>\n",
       "      <th>AIR_SYSTEM_DELAY</th>\n",
       "      <th>SECURITY_DELAY</th>\n",
       "      <th>AIRLINE_DELAY</th>\n",
       "      <th>LATE_AIRCRAFT_DELAY</th>\n",
       "      <th>WEATHER_DELAY</th>\n",
       "    </tr>\n",
       "  </thead>\n",
       "  <tbody>\n",
       "    <tr>\n",
       "      <th>5819074</th>\n",
       "      <td>2015</td>\n",
       "      <td>12</td>\n",
       "      <td>31</td>\n",
       "      <td>4</td>\n",
       "      <td>B6</td>\n",
       "      <td>688</td>\n",
       "      <td>N657JB</td>\n",
       "      <td>LAX</td>\n",
       "      <td>BOS</td>\n",
       "      <td>2359</td>\n",
       "      <td>...</td>\n",
       "      <td>753.0</td>\n",
       "      <td>-26.0</td>\n",
       "      <td>0</td>\n",
       "      <td>0</td>\n",
       "      <td>NaN</td>\n",
       "      <td>NaN</td>\n",
       "      <td>NaN</td>\n",
       "      <td>NaN</td>\n",
       "      <td>NaN</td>\n",
       "      <td>NaN</td>\n",
       "    </tr>\n",
       "    <tr>\n",
       "      <th>5819075</th>\n",
       "      <td>2015</td>\n",
       "      <td>12</td>\n",
       "      <td>31</td>\n",
       "      <td>4</td>\n",
       "      <td>B6</td>\n",
       "      <td>745</td>\n",
       "      <td>N828JB</td>\n",
       "      <td>JFK</td>\n",
       "      <td>PSE</td>\n",
       "      <td>2359</td>\n",
       "      <td>...</td>\n",
       "      <td>430.0</td>\n",
       "      <td>-16.0</td>\n",
       "      <td>0</td>\n",
       "      <td>0</td>\n",
       "      <td>NaN</td>\n",
       "      <td>NaN</td>\n",
       "      <td>NaN</td>\n",
       "      <td>NaN</td>\n",
       "      <td>NaN</td>\n",
       "      <td>NaN</td>\n",
       "    </tr>\n",
       "    <tr>\n",
       "      <th>5819076</th>\n",
       "      <td>2015</td>\n",
       "      <td>12</td>\n",
       "      <td>31</td>\n",
       "      <td>4</td>\n",
       "      <td>B6</td>\n",
       "      <td>1503</td>\n",
       "      <td>N913JB</td>\n",
       "      <td>JFK</td>\n",
       "      <td>SJU</td>\n",
       "      <td>2359</td>\n",
       "      <td>...</td>\n",
       "      <td>432.0</td>\n",
       "      <td>-8.0</td>\n",
       "      <td>0</td>\n",
       "      <td>0</td>\n",
       "      <td>NaN</td>\n",
       "      <td>NaN</td>\n",
       "      <td>NaN</td>\n",
       "      <td>NaN</td>\n",
       "      <td>NaN</td>\n",
       "      <td>NaN</td>\n",
       "    </tr>\n",
       "    <tr>\n",
       "      <th>5819077</th>\n",
       "      <td>2015</td>\n",
       "      <td>12</td>\n",
       "      <td>31</td>\n",
       "      <td>4</td>\n",
       "      <td>B6</td>\n",
       "      <td>333</td>\n",
       "      <td>N527JB</td>\n",
       "      <td>MCO</td>\n",
       "      <td>SJU</td>\n",
       "      <td>2359</td>\n",
       "      <td>...</td>\n",
       "      <td>330.0</td>\n",
       "      <td>-10.0</td>\n",
       "      <td>0</td>\n",
       "      <td>0</td>\n",
       "      <td>NaN</td>\n",
       "      <td>NaN</td>\n",
       "      <td>NaN</td>\n",
       "      <td>NaN</td>\n",
       "      <td>NaN</td>\n",
       "      <td>NaN</td>\n",
       "    </tr>\n",
       "    <tr>\n",
       "      <th>5819078</th>\n",
       "      <td>2015</td>\n",
       "      <td>12</td>\n",
       "      <td>31</td>\n",
       "      <td>4</td>\n",
       "      <td>B6</td>\n",
       "      <td>839</td>\n",
       "      <td>N534JB</td>\n",
       "      <td>JFK</td>\n",
       "      <td>BQN</td>\n",
       "      <td>2359</td>\n",
       "      <td>...</td>\n",
       "      <td>442.0</td>\n",
       "      <td>2.0</td>\n",
       "      <td>0</td>\n",
       "      <td>0</td>\n",
       "      <td>NaN</td>\n",
       "      <td>NaN</td>\n",
       "      <td>NaN</td>\n",
       "      <td>NaN</td>\n",
       "      <td>NaN</td>\n",
       "      <td>NaN</td>\n",
       "    </tr>\n",
       "  </tbody>\n",
       "</table>\n",
       "<p>5 rows × 31 columns</p>\n",
       "</div>"
      ],
      "text/plain": [
       "         YEAR  MONTH  DAY  DAY_OF_WEEK AIRLINE  FLIGHT_NUMBER TAIL_NUMBER   \n",
       "5819074  2015     12   31            4      B6            688      N657JB  \\\n",
       "5819075  2015     12   31            4      B6            745      N828JB   \n",
       "5819076  2015     12   31            4      B6           1503      N913JB   \n",
       "5819077  2015     12   31            4      B6            333      N527JB   \n",
       "5819078  2015     12   31            4      B6            839      N534JB   \n",
       "\n",
       "        ORIGIN_AIRPORT DESTINATION_AIRPORT  SCHEDULED_DEPARTURE  ...   \n",
       "5819074            LAX                 BOS                 2359  ...  \\\n",
       "5819075            JFK                 PSE                 2359  ...   \n",
       "5819076            JFK                 SJU                 2359  ...   \n",
       "5819077            MCO                 SJU                 2359  ...   \n",
       "5819078            JFK                 BQN                 2359  ...   \n",
       "\n",
       "         ARRIVAL_TIME  ARRIVAL_DELAY  DIVERTED  CANCELLED   \n",
       "5819074         753.0          -26.0         0          0  \\\n",
       "5819075         430.0          -16.0         0          0   \n",
       "5819076         432.0           -8.0         0          0   \n",
       "5819077         330.0          -10.0         0          0   \n",
       "5819078         442.0            2.0         0          0   \n",
       "\n",
       "         CANCELLATION_REASON  AIR_SYSTEM_DELAY  SECURITY_DELAY  AIRLINE_DELAY   \n",
       "5819074                  NaN               NaN             NaN            NaN  \\\n",
       "5819075                  NaN               NaN             NaN            NaN   \n",
       "5819076                  NaN               NaN             NaN            NaN   \n",
       "5819077                  NaN               NaN             NaN            NaN   \n",
       "5819078                  NaN               NaN             NaN            NaN   \n",
       "\n",
       "         LATE_AIRCRAFT_DELAY  WEATHER_DELAY  \n",
       "5819074                  NaN            NaN  \n",
       "5819075                  NaN            NaN  \n",
       "5819076                  NaN            NaN  \n",
       "5819077                  NaN            NaN  \n",
       "5819078                  NaN            NaN  \n",
       "\n",
       "[5 rows x 31 columns]"
      ]
     },
     "execution_count": 44,
     "metadata": {},
     "output_type": "execute_result"
    }
   ],
   "source": [
    "df_flights.tail()"
   ]
  },
  {
   "cell_type": "code",
   "execution_count": 45,
   "metadata": {
    "colab": {
     "base_uri": "https://localhost:8080/"
    },
    "id": "CRJ6aLww9ail",
    "outputId": "ad4e7c16-80a0-47a4-e318-8b6ed01e01b7"
   },
   "outputs": [
    {
     "name": "stdout",
     "output_type": "stream",
     "text": [
      "<class 'pandas.core.frame.DataFrame'>\n",
      "RangeIndex: 5819079 entries, 0 to 5819078\n",
      "Data columns (total 31 columns):\n",
      " #   Column               Dtype  \n",
      "---  ------               -----  \n",
      " 0   YEAR                 int64  \n",
      " 1   MONTH                int64  \n",
      " 2   DAY                  int64  \n",
      " 3   DAY_OF_WEEK          int64  \n",
      " 4   AIRLINE              object \n",
      " 5   FLIGHT_NUMBER        int64  \n",
      " 6   TAIL_NUMBER          object \n",
      " 7   ORIGIN_AIRPORT       object \n",
      " 8   DESTINATION_AIRPORT  object \n",
      " 9   SCHEDULED_DEPARTURE  int64  \n",
      " 10  DEPARTURE_TIME       float64\n",
      " 11  DEPARTURE_DELAY      float64\n",
      " 12  TAXI_OUT             float64\n",
      " 13  WHEELS_OFF           float64\n",
      " 14  SCHEDULED_TIME       float64\n",
      " 15  ELAPSED_TIME         float64\n",
      " 16  AIR_TIME             float64\n",
      " 17  DISTANCE             int64  \n",
      " 18  WHEELS_ON            float64\n",
      " 19  TAXI_IN              float64\n",
      " 20  SCHEDULED_ARRIVAL    int64  \n",
      " 21  ARRIVAL_TIME         float64\n",
      " 22  ARRIVAL_DELAY        float64\n",
      " 23  DIVERTED             int64  \n",
      " 24  CANCELLED            int64  \n",
      " 25  CANCELLATION_REASON  object \n",
      " 26  AIR_SYSTEM_DELAY     float64\n",
      " 27  SECURITY_DELAY       float64\n",
      " 28  AIRLINE_DELAY        float64\n",
      " 29  LATE_AIRCRAFT_DELAY  float64\n",
      " 30  WEATHER_DELAY        float64\n",
      "dtypes: float64(16), int64(10), object(5)\n",
      "memory usage: 1.3+ GB\n"
     ]
    }
   ],
   "source": [
    "df_flights.info()"
   ]
  },
  {
   "cell_type": "code",
   "execution_count": 46,
   "metadata": {
    "colab": {
     "base_uri": "https://localhost:8080/",
     "height": 394
    },
    "id": "8TbzEANb9dr-",
    "outputId": "69e38a70-29ed-4db4-956c-408565000964"
   },
   "outputs": [
    {
     "data": {
      "text/html": [
       "<div>\n",
       "<style scoped>\n",
       "    .dataframe tbody tr th:only-of-type {\n",
       "        vertical-align: middle;\n",
       "    }\n",
       "\n",
       "    .dataframe tbody tr th {\n",
       "        vertical-align: top;\n",
       "    }\n",
       "\n",
       "    .dataframe thead th {\n",
       "        text-align: right;\n",
       "    }\n",
       "</style>\n",
       "<table border=\"1\" class=\"dataframe\">\n",
       "  <thead>\n",
       "    <tr style=\"text-align: right;\">\n",
       "      <th></th>\n",
       "      <th>YEAR</th>\n",
       "      <th>MONTH</th>\n",
       "      <th>DAY</th>\n",
       "      <th>DAY_OF_WEEK</th>\n",
       "      <th>FLIGHT_NUMBER</th>\n",
       "      <th>SCHEDULED_DEPARTURE</th>\n",
       "      <th>DEPARTURE_TIME</th>\n",
       "      <th>DEPARTURE_DELAY</th>\n",
       "      <th>TAXI_OUT</th>\n",
       "      <th>WHEELS_OFF</th>\n",
       "      <th>...</th>\n",
       "      <th>SCHEDULED_ARRIVAL</th>\n",
       "      <th>ARRIVAL_TIME</th>\n",
       "      <th>ARRIVAL_DELAY</th>\n",
       "      <th>DIVERTED</th>\n",
       "      <th>CANCELLED</th>\n",
       "      <th>AIR_SYSTEM_DELAY</th>\n",
       "      <th>SECURITY_DELAY</th>\n",
       "      <th>AIRLINE_DELAY</th>\n",
       "      <th>LATE_AIRCRAFT_DELAY</th>\n",
       "      <th>WEATHER_DELAY</th>\n",
       "    </tr>\n",
       "  </thead>\n",
       "  <tbody>\n",
       "    <tr>\n",
       "      <th>count</th>\n",
       "      <td>5819079.0</td>\n",
       "      <td>5.819079e+06</td>\n",
       "      <td>5.819079e+06</td>\n",
       "      <td>5.819079e+06</td>\n",
       "      <td>5.819079e+06</td>\n",
       "      <td>5.819079e+06</td>\n",
       "      <td>5.732926e+06</td>\n",
       "      <td>5.732926e+06</td>\n",
       "      <td>5.730032e+06</td>\n",
       "      <td>5.730032e+06</td>\n",
       "      <td>...</td>\n",
       "      <td>5.819079e+06</td>\n",
       "      <td>5.726566e+06</td>\n",
       "      <td>5.714008e+06</td>\n",
       "      <td>5.819079e+06</td>\n",
       "      <td>5.819079e+06</td>\n",
       "      <td>1.063439e+06</td>\n",
       "      <td>1.063439e+06</td>\n",
       "      <td>1.063439e+06</td>\n",
       "      <td>1.063439e+06</td>\n",
       "      <td>1.063439e+06</td>\n",
       "    </tr>\n",
       "    <tr>\n",
       "      <th>mean</th>\n",
       "      <td>2015.0</td>\n",
       "      <td>6.524085e+00</td>\n",
       "      <td>1.570459e+01</td>\n",
       "      <td>3.926941e+00</td>\n",
       "      <td>2.173093e+03</td>\n",
       "      <td>1.329602e+03</td>\n",
       "      <td>1.335204e+03</td>\n",
       "      <td>9.370158e+00</td>\n",
       "      <td>1.607166e+01</td>\n",
       "      <td>1.357171e+03</td>\n",
       "      <td>...</td>\n",
       "      <td>1.493808e+03</td>\n",
       "      <td>1.476491e+03</td>\n",
       "      <td>4.407057e+00</td>\n",
       "      <td>2.609863e-03</td>\n",
       "      <td>1.544643e-02</td>\n",
       "      <td>1.348057e+01</td>\n",
       "      <td>7.615387e-02</td>\n",
       "      <td>1.896955e+01</td>\n",
       "      <td>2.347284e+01</td>\n",
       "      <td>2.915290e+00</td>\n",
       "    </tr>\n",
       "    <tr>\n",
       "      <th>std</th>\n",
       "      <td>0.0</td>\n",
       "      <td>3.405137e+00</td>\n",
       "      <td>8.783425e+00</td>\n",
       "      <td>1.988845e+00</td>\n",
       "      <td>1.757064e+03</td>\n",
       "      <td>4.837518e+02</td>\n",
       "      <td>4.964233e+02</td>\n",
       "      <td>3.708094e+01</td>\n",
       "      <td>8.895574e+00</td>\n",
       "      <td>4.980094e+02</td>\n",
       "      <td>...</td>\n",
       "      <td>5.071647e+02</td>\n",
       "      <td>5.263197e+02</td>\n",
       "      <td>3.927130e+01</td>\n",
       "      <td>5.102012e-02</td>\n",
       "      <td>1.233201e-01</td>\n",
       "      <td>2.800368e+01</td>\n",
       "      <td>2.143460e+00</td>\n",
       "      <td>4.816164e+01</td>\n",
       "      <td>4.319702e+01</td>\n",
       "      <td>2.043334e+01</td>\n",
       "    </tr>\n",
       "    <tr>\n",
       "      <th>min</th>\n",
       "      <td>2015.0</td>\n",
       "      <td>1.000000e+00</td>\n",
       "      <td>1.000000e+00</td>\n",
       "      <td>1.000000e+00</td>\n",
       "      <td>1.000000e+00</td>\n",
       "      <td>1.000000e+00</td>\n",
       "      <td>1.000000e+00</td>\n",
       "      <td>-8.200000e+01</td>\n",
       "      <td>1.000000e+00</td>\n",
       "      <td>1.000000e+00</td>\n",
       "      <td>...</td>\n",
       "      <td>1.000000e+00</td>\n",
       "      <td>1.000000e+00</td>\n",
       "      <td>-8.700000e+01</td>\n",
       "      <td>0.000000e+00</td>\n",
       "      <td>0.000000e+00</td>\n",
       "      <td>0.000000e+00</td>\n",
       "      <td>0.000000e+00</td>\n",
       "      <td>0.000000e+00</td>\n",
       "      <td>0.000000e+00</td>\n",
       "      <td>0.000000e+00</td>\n",
       "    </tr>\n",
       "    <tr>\n",
       "      <th>25%</th>\n",
       "      <td>2015.0</td>\n",
       "      <td>4.000000e+00</td>\n",
       "      <td>8.000000e+00</td>\n",
       "      <td>2.000000e+00</td>\n",
       "      <td>7.300000e+02</td>\n",
       "      <td>9.170000e+02</td>\n",
       "      <td>9.210000e+02</td>\n",
       "      <td>-5.000000e+00</td>\n",
       "      <td>1.100000e+01</td>\n",
       "      <td>9.350000e+02</td>\n",
       "      <td>...</td>\n",
       "      <td>1.110000e+03</td>\n",
       "      <td>1.059000e+03</td>\n",
       "      <td>-1.300000e+01</td>\n",
       "      <td>0.000000e+00</td>\n",
       "      <td>0.000000e+00</td>\n",
       "      <td>0.000000e+00</td>\n",
       "      <td>0.000000e+00</td>\n",
       "      <td>0.000000e+00</td>\n",
       "      <td>0.000000e+00</td>\n",
       "      <td>0.000000e+00</td>\n",
       "    </tr>\n",
       "    <tr>\n",
       "      <th>50%</th>\n",
       "      <td>2015.0</td>\n",
       "      <td>7.000000e+00</td>\n",
       "      <td>1.600000e+01</td>\n",
       "      <td>4.000000e+00</td>\n",
       "      <td>1.690000e+03</td>\n",
       "      <td>1.325000e+03</td>\n",
       "      <td>1.330000e+03</td>\n",
       "      <td>-2.000000e+00</td>\n",
       "      <td>1.400000e+01</td>\n",
       "      <td>1.343000e+03</td>\n",
       "      <td>...</td>\n",
       "      <td>1.520000e+03</td>\n",
       "      <td>1.512000e+03</td>\n",
       "      <td>-5.000000e+00</td>\n",
       "      <td>0.000000e+00</td>\n",
       "      <td>0.000000e+00</td>\n",
       "      <td>2.000000e+00</td>\n",
       "      <td>0.000000e+00</td>\n",
       "      <td>2.000000e+00</td>\n",
       "      <td>3.000000e+00</td>\n",
       "      <td>0.000000e+00</td>\n",
       "    </tr>\n",
       "    <tr>\n",
       "      <th>75%</th>\n",
       "      <td>2015.0</td>\n",
       "      <td>9.000000e+00</td>\n",
       "      <td>2.300000e+01</td>\n",
       "      <td>6.000000e+00</td>\n",
       "      <td>3.230000e+03</td>\n",
       "      <td>1.730000e+03</td>\n",
       "      <td>1.740000e+03</td>\n",
       "      <td>7.000000e+00</td>\n",
       "      <td>1.900000e+01</td>\n",
       "      <td>1.754000e+03</td>\n",
       "      <td>...</td>\n",
       "      <td>1.918000e+03</td>\n",
       "      <td>1.917000e+03</td>\n",
       "      <td>8.000000e+00</td>\n",
       "      <td>0.000000e+00</td>\n",
       "      <td>0.000000e+00</td>\n",
       "      <td>1.800000e+01</td>\n",
       "      <td>0.000000e+00</td>\n",
       "      <td>1.900000e+01</td>\n",
       "      <td>2.900000e+01</td>\n",
       "      <td>0.000000e+00</td>\n",
       "    </tr>\n",
       "    <tr>\n",
       "      <th>max</th>\n",
       "      <td>2015.0</td>\n",
       "      <td>1.200000e+01</td>\n",
       "      <td>3.100000e+01</td>\n",
       "      <td>7.000000e+00</td>\n",
       "      <td>9.855000e+03</td>\n",
       "      <td>2.359000e+03</td>\n",
       "      <td>2.400000e+03</td>\n",
       "      <td>1.988000e+03</td>\n",
       "      <td>2.250000e+02</td>\n",
       "      <td>2.400000e+03</td>\n",
       "      <td>...</td>\n",
       "      <td>2.400000e+03</td>\n",
       "      <td>2.400000e+03</td>\n",
       "      <td>1.971000e+03</td>\n",
       "      <td>1.000000e+00</td>\n",
       "      <td>1.000000e+00</td>\n",
       "      <td>1.134000e+03</td>\n",
       "      <td>5.730000e+02</td>\n",
       "      <td>1.971000e+03</td>\n",
       "      <td>1.331000e+03</td>\n",
       "      <td>1.211000e+03</td>\n",
       "    </tr>\n",
       "  </tbody>\n",
       "</table>\n",
       "<p>8 rows × 26 columns</p>\n",
       "</div>"
      ],
      "text/plain": [
       "            YEAR         MONTH           DAY   DAY_OF_WEEK  FLIGHT_NUMBER   \n",
       "count  5819079.0  5.819079e+06  5.819079e+06  5.819079e+06   5.819079e+06  \\\n",
       "mean      2015.0  6.524085e+00  1.570459e+01  3.926941e+00   2.173093e+03   \n",
       "std          0.0  3.405137e+00  8.783425e+00  1.988845e+00   1.757064e+03   \n",
       "min       2015.0  1.000000e+00  1.000000e+00  1.000000e+00   1.000000e+00   \n",
       "25%       2015.0  4.000000e+00  8.000000e+00  2.000000e+00   7.300000e+02   \n",
       "50%       2015.0  7.000000e+00  1.600000e+01  4.000000e+00   1.690000e+03   \n",
       "75%       2015.0  9.000000e+00  2.300000e+01  6.000000e+00   3.230000e+03   \n",
       "max       2015.0  1.200000e+01  3.100000e+01  7.000000e+00   9.855000e+03   \n",
       "\n",
       "       SCHEDULED_DEPARTURE  DEPARTURE_TIME  DEPARTURE_DELAY      TAXI_OUT   \n",
       "count         5.819079e+06    5.732926e+06     5.732926e+06  5.730032e+06  \\\n",
       "mean          1.329602e+03    1.335204e+03     9.370158e+00  1.607166e+01   \n",
       "std           4.837518e+02    4.964233e+02     3.708094e+01  8.895574e+00   \n",
       "min           1.000000e+00    1.000000e+00    -8.200000e+01  1.000000e+00   \n",
       "25%           9.170000e+02    9.210000e+02    -5.000000e+00  1.100000e+01   \n",
       "50%           1.325000e+03    1.330000e+03    -2.000000e+00  1.400000e+01   \n",
       "75%           1.730000e+03    1.740000e+03     7.000000e+00  1.900000e+01   \n",
       "max           2.359000e+03    2.400000e+03     1.988000e+03  2.250000e+02   \n",
       "\n",
       "         WHEELS_OFF  ...  SCHEDULED_ARRIVAL  ARRIVAL_TIME  ARRIVAL_DELAY   \n",
       "count  5.730032e+06  ...       5.819079e+06  5.726566e+06   5.714008e+06  \\\n",
       "mean   1.357171e+03  ...       1.493808e+03  1.476491e+03   4.407057e+00   \n",
       "std    4.980094e+02  ...       5.071647e+02  5.263197e+02   3.927130e+01   \n",
       "min    1.000000e+00  ...       1.000000e+00  1.000000e+00  -8.700000e+01   \n",
       "25%    9.350000e+02  ...       1.110000e+03  1.059000e+03  -1.300000e+01   \n",
       "50%    1.343000e+03  ...       1.520000e+03  1.512000e+03  -5.000000e+00   \n",
       "75%    1.754000e+03  ...       1.918000e+03  1.917000e+03   8.000000e+00   \n",
       "max    2.400000e+03  ...       2.400000e+03  2.400000e+03   1.971000e+03   \n",
       "\n",
       "           DIVERTED     CANCELLED  AIR_SYSTEM_DELAY  SECURITY_DELAY   \n",
       "count  5.819079e+06  5.819079e+06      1.063439e+06    1.063439e+06  \\\n",
       "mean   2.609863e-03  1.544643e-02      1.348057e+01    7.615387e-02   \n",
       "std    5.102012e-02  1.233201e-01      2.800368e+01    2.143460e+00   \n",
       "min    0.000000e+00  0.000000e+00      0.000000e+00    0.000000e+00   \n",
       "25%    0.000000e+00  0.000000e+00      0.000000e+00    0.000000e+00   \n",
       "50%    0.000000e+00  0.000000e+00      2.000000e+00    0.000000e+00   \n",
       "75%    0.000000e+00  0.000000e+00      1.800000e+01    0.000000e+00   \n",
       "max    1.000000e+00  1.000000e+00      1.134000e+03    5.730000e+02   \n",
       "\n",
       "       AIRLINE_DELAY  LATE_AIRCRAFT_DELAY  WEATHER_DELAY  \n",
       "count   1.063439e+06         1.063439e+06   1.063439e+06  \n",
       "mean    1.896955e+01         2.347284e+01   2.915290e+00  \n",
       "std     4.816164e+01         4.319702e+01   2.043334e+01  \n",
       "min     0.000000e+00         0.000000e+00   0.000000e+00  \n",
       "25%     0.000000e+00         0.000000e+00   0.000000e+00  \n",
       "50%     2.000000e+00         3.000000e+00   0.000000e+00  \n",
       "75%     1.900000e+01         2.900000e+01   0.000000e+00  \n",
       "max     1.971000e+03         1.331000e+03   1.211000e+03  \n",
       "\n",
       "[8 rows x 26 columns]"
      ]
     },
     "execution_count": 46,
     "metadata": {},
     "output_type": "execute_result"
    }
   ],
   "source": [
    "df_flights.describe()"
   ]
  },
  {
   "cell_type": "code",
   "execution_count": 47,
   "metadata": {
    "colab": {
     "base_uri": "https://localhost:8080/"
    },
    "id": "zT3hnRaPApRt",
    "outputId": "bcb235b7-cac2-45ec-cf37-648f9d30fbd6"
   },
   "outputs": [
    {
     "data": {
      "text/plain": [
       "RangeIndex(start=0, stop=5819079, step=1)"
      ]
     },
     "execution_count": 47,
     "metadata": {},
     "output_type": "execute_result"
    }
   ],
   "source": [
    "df_flights.index"
   ]
  },
  {
   "cell_type": "code",
   "execution_count": 48,
   "metadata": {
    "colab": {
     "base_uri": "https://localhost:8080/",
     "height": 311
    },
    "id": "fR-GSHN6BLV3",
    "outputId": "b08e78f2-17bb-43c5-8ff1-3bde017e9c0c"
   },
   "outputs": [
    {
     "data": {
      "text/plain": [
       "YEAR                   5819079\n",
       "MONTH                  5819079\n",
       "DAY                    5819079\n",
       "DAY_OF_WEEK            5819079\n",
       "AIRLINE                5819079\n",
       "FLIGHT_NUMBER          5819079\n",
       "TAIL_NUMBER            5804358\n",
       "ORIGIN_AIRPORT         5819079\n",
       "DESTINATION_AIRPORT    5819079\n",
       "SCHEDULED_DEPARTURE    5819079\n",
       "DEPARTURE_TIME         5732926\n",
       "DEPARTURE_DELAY        5732926\n",
       "TAXI_OUT               5730032\n",
       "WHEELS_OFF             5730032\n",
       "SCHEDULED_TIME         5819073\n",
       "ELAPSED_TIME           5714008\n",
       "AIR_TIME               5714008\n",
       "DISTANCE               5819079\n",
       "WHEELS_ON              5726566\n",
       "TAXI_IN                5726566\n",
       "SCHEDULED_ARRIVAL      5819079\n",
       "ARRIVAL_TIME           5726566\n",
       "ARRIVAL_DELAY          5714008\n",
       "DIVERTED               5819079\n",
       "CANCELLED              5819079\n",
       "CANCELLATION_REASON      89884\n",
       "AIR_SYSTEM_DELAY       1063439\n",
       "SECURITY_DELAY         1063439\n",
       "AIRLINE_DELAY          1063439\n",
       "LATE_AIRCRAFT_DELAY    1063439\n",
       "WEATHER_DELAY          1063439\n",
       "dtype: int64"
      ]
     },
     "execution_count": 48,
     "metadata": {},
     "output_type": "execute_result"
    }
   ],
   "source": [
    "df_flights.count()"
   ]
  },
  {
   "cell_type": "code",
   "execution_count": 49,
   "metadata": {
    "id": "ESCUwdAcCBLb"
   },
   "outputs": [
    {
     "name": "stdout",
     "output_type": "stream",
     "text": [
      "YEAR\n",
      "MONTH\n",
      "DAY\n",
      "DAY_OF_WEEK\n",
      "AIRLINE\n",
      "FLIGHT_NUMBER\n",
      "TAIL_NUMBER\n",
      "ORIGIN_AIRPORT\n",
      "DESTINATION_AIRPORT\n",
      "SCHEDULED_DEPARTURE\n",
      "DEPARTURE_TIME\n",
      "DEPARTURE_DELAY\n",
      "TAXI_OUT\n",
      "WHEELS_OFF\n",
      "SCHEDULED_TIME\n",
      "ELAPSED_TIME\n",
      "AIR_TIME\n",
      "DISTANCE\n",
      "WHEELS_ON\n",
      "TAXI_IN\n",
      "SCHEDULED_ARRIVAL\n",
      "ARRIVAL_TIME\n",
      "ARRIVAL_DELAY\n",
      "DIVERTED\n",
      "CANCELLED\n",
      "CANCELLATION_REASON\n",
      "AIR_SYSTEM_DELAY\n",
      "SECURITY_DELAY\n",
      "AIRLINE_DELAY\n",
      "LATE_AIRCRAFT_DELAY\n",
      "WEATHER_DELAY\n"
     ]
    }
   ],
   "source": [
    "for col in df_flights.columns:\n",
    "    print(col)"
   ]
  },
  {
   "cell_type": "code",
   "execution_count": 50,
   "metadata": {
    "id": "xf5p-SvcDkQ5"
   },
   "outputs": [
    {
     "data": {
      "text/plain": [
       "{1, 2, 3, 4, 5, 6, 7}"
      ]
     },
     "execution_count": 50,
     "metadata": {},
     "output_type": "execute_result"
    }
   ],
   "source": [
    "set(df_flights['DAY_OF_WEEK'])"
   ]
  },
  {
   "cell_type": "markdown",
   "metadata": {
    "id": "5P6BcDqvsOTC"
   },
   "source": [
    "### DELAY COLUMNS"
   ]
  },
  {
   "cell_type": "code",
   "execution_count": 51,
   "metadata": {
    "id": "eejbIFHAoaVL"
   },
   "outputs": [],
   "source": [
    "column_dict = {\n",
    "'AIRLINE_DELAY':1,\n",
    "\n",
    "'LATE_AIRCRAFT_DELAY':1,\n",
    "\n",
    "'WEATHER_DELAY':1,\n",
    "\n",
    "'SECURITY_DELAY':1,\n",
    "\n",
    "'AIR_SYSTEM_DELAY':1,\n",
    "\n",
    "'ARRIVAL_DELAY':1,\n",
    "\n",
    "'ARRIVAL_TIME':0,\n",
    "\n",
    "'SCHEDULED_ARRIVAL':0,\n",
    "\n",
    "'TAXI_IN':1,\n",
    "\n",
    "'WHEELS_ON':0,\n",
    "\n",
    "'AIR_TIME':1,\n",
    "\n",
    "'ELAPSED_TIME':1,\n",
    "\n",
    "'SCHEDULED_TIME':1,\n",
    "\n",
    "'WHEELS_OFF':0,\n",
    "\n",
    "'TAXI_OUT':1,\n",
    "\n",
    "'DEPARTURE_DELAY':1\n",
    "\n",
    "}"
   ]
  },
  {
   "cell_type": "code",
   "execution_count": 52,
   "metadata": {
    "id": "riU6EzIjBf1I"
   },
   "outputs": [
    {
     "data": {
      "text/plain": [
       "YEAR                         0\n",
       "MONTH                        0\n",
       "DAY                          0\n",
       "DAY_OF_WEEK                  0\n",
       "AIRLINE                      0\n",
       "FLIGHT_NUMBER                0\n",
       "TAIL_NUMBER              14721\n",
       "ORIGIN_AIRPORT               0\n",
       "DESTINATION_AIRPORT          0\n",
       "SCHEDULED_DEPARTURE          0\n",
       "DEPARTURE_TIME           86153\n",
       "DEPARTURE_DELAY          86153\n",
       "TAXI_OUT                 89047\n",
       "WHEELS_OFF               89047\n",
       "SCHEDULED_TIME               6\n",
       "ELAPSED_TIME            105071\n",
       "AIR_TIME                105071\n",
       "DISTANCE                     0\n",
       "WHEELS_ON                92513\n",
       "TAXI_IN                  92513\n",
       "SCHEDULED_ARRIVAL            0\n",
       "ARRIVAL_TIME             92513\n",
       "ARRIVAL_DELAY           105071\n",
       "DIVERTED                     0\n",
       "CANCELLED                    0\n",
       "CANCELLATION_REASON    5729195\n",
       "AIR_SYSTEM_DELAY       4755640\n",
       "SECURITY_DELAY         4755640\n",
       "AIRLINE_DELAY          4755640\n",
       "LATE_AIRCRAFT_DELAY    4755640\n",
       "WEATHER_DELAY          4755640\n",
       "dtype: int64"
      ]
     },
     "execution_count": 52,
     "metadata": {},
     "output_type": "execute_result"
    }
   ],
   "source": [
    "df_flights.isna().sum()"
   ]
  },
  {
   "cell_type": "code",
   "execution_count": 53,
   "metadata": {
    "id": "DFUqpekM2ecX"
   },
   "outputs": [
    {
     "data": {
      "text/plain": [
       "['AIRLINE_DELAY',\n",
       " 'LATE_AIRCRAFT_DELAY',\n",
       " 'WEATHER_DELAY',\n",
       " 'SECURITY_DELAY',\n",
       " 'AIR_SYSTEM_DELAY',\n",
       " 'ARRIVAL_DELAY',\n",
       " 'TAXI_IN',\n",
       " 'AIR_TIME',\n",
       " 'ELAPSED_TIME',\n",
       " 'SCHEDULED_TIME',\n",
       " 'TAXI_OUT',\n",
       " 'DEPARTURE_DELAY']"
      ]
     },
     "execution_count": 53,
     "metadata": {},
     "output_type": "execute_result"
    }
   ],
   "source": [
    "key_by_value(column_dict, 1)"
   ]
  },
  {
   "cell_type": "code",
   "execution_count": 54,
   "metadata": {
    "id": "3bqc8iIpsdl6"
   },
   "outputs": [],
   "source": [
    "#def key_by_index(df,index):\n",
    "#  return list(df.keys())[list(df.values()).index(index)]"
   ]
  },
  {
   "cell_type": "code",
   "execution_count": 55,
   "metadata": {
    "id": "jWP82TTwoBz3"
   },
   "outputs": [
    {
     "name": "stdout",
     "output_type": "stream",
     "text": [
      "AIRLINE_DELAY          4755640\n",
      "LATE_AIRCRAFT_DELAY    4755640\n",
      "WEATHER_DELAY          4755640\n",
      "SECURITY_DELAY         4755640\n",
      "AIR_SYSTEM_DELAY       4755640\n",
      "ARRIVAL_DELAY           105071\n",
      "TAXI_IN                  92513\n",
      "AIR_TIME                105071\n",
      "ELAPSED_TIME            105071\n",
      "SCHEDULED_TIME               6\n",
      "TAXI_OUT                 89047\n",
      "DEPARTURE_DELAY          86153\n",
      "dtype: int64\n"
     ]
    }
   ],
   "source": [
    "print(count_nan_in_column(df_flights, key_by_value(column_dict, 1)))"
   ]
  },
  {
   "cell_type": "markdown",
   "metadata": {
    "id": "lnkBwNBys3f1"
   },
   "source": [
    "### HEATMAP"
   ]
  },
  {
   "cell_type": "code",
   "execution_count": 56,
   "metadata": {
    "id": "4-zqtro3lizU"
   },
   "outputs": [],
   "source": [
    "# corr = round(df_flights.corr(),3)"
   ]
  },
  {
   "cell_type": "code",
   "execution_count": 57,
   "metadata": {
    "id": "8FIrEoDVlhWy"
   },
   "outputs": [],
   "source": [
    "# corr.mean()"
   ]
  },
  {
   "cell_type": "code",
   "execution_count": 58,
   "metadata": {
    "id": "6XAF0aVIhxr3"
   },
   "outputs": [],
   "source": [
    "# sns.set(rc={'figure.figsize':(20,15)})\n",
    "# sns.heatmap(corr, linewidths=0.5, annot=True, vmin=0.05)"
   ]
  },
  {
   "cell_type": "markdown",
   "metadata": {
    "id": "dVwz3ROWoLDE"
   },
   "source": [
    "Potencjalne dane do wyrzucenia w celu poprawy dzialania systemu: DAY_OF_WEEK, TAXI IN, DIVERTED, SECURITY_DELAY"
   ]
  },
  {
   "cell_type": "code",
   "execution_count": 59,
   "metadata": {
    "id": "t2tpQDTvlbSn"
   },
   "outputs": [],
   "source": [
    "# sns.set(rc={'figure.figsize':(16,12)})\n",
    "# sns.heatmap(corr, linewidths=0.5, annot=True, vmin=-1.0, vmax=0.0)"
   ]
  },
  {
   "cell_type": "markdown",
   "metadata": {
    "id": "GHjO_yRBAbBz"
   },
   "source": [
    "## Airlines"
   ]
  },
  {
   "cell_type": "code",
   "execution_count": 60,
   "metadata": {
    "id": "K4lElJIu_31q"
   },
   "outputs": [
    {
     "data": {
      "text/html": [
       "<div>\n",
       "<style scoped>\n",
       "    .dataframe tbody tr th:only-of-type {\n",
       "        vertical-align: middle;\n",
       "    }\n",
       "\n",
       "    .dataframe tbody tr th {\n",
       "        vertical-align: top;\n",
       "    }\n",
       "\n",
       "    .dataframe thead th {\n",
       "        text-align: right;\n",
       "    }\n",
       "</style>\n",
       "<table border=\"1\" class=\"dataframe\">\n",
       "  <thead>\n",
       "    <tr style=\"text-align: right;\">\n",
       "      <th></th>\n",
       "      <th>IATA_CODE</th>\n",
       "      <th>AIRLINE</th>\n",
       "    </tr>\n",
       "  </thead>\n",
       "  <tbody>\n",
       "    <tr>\n",
       "      <th>0</th>\n",
       "      <td>UA</td>\n",
       "      <td>United Air Lines Inc.</td>\n",
       "    </tr>\n",
       "    <tr>\n",
       "      <th>1</th>\n",
       "      <td>AA</td>\n",
       "      <td>American Airlines Inc.</td>\n",
       "    </tr>\n",
       "    <tr>\n",
       "      <th>2</th>\n",
       "      <td>US</td>\n",
       "      <td>US Airways Inc.</td>\n",
       "    </tr>\n",
       "    <tr>\n",
       "      <th>3</th>\n",
       "      <td>F9</td>\n",
       "      <td>Frontier Airlines Inc.</td>\n",
       "    </tr>\n",
       "    <tr>\n",
       "      <th>4</th>\n",
       "      <td>B6</td>\n",
       "      <td>JetBlue Airways</td>\n",
       "    </tr>\n",
       "  </tbody>\n",
       "</table>\n",
       "</div>"
      ],
      "text/plain": [
       "  IATA_CODE                 AIRLINE\n",
       "0        UA   United Air Lines Inc.\n",
       "1        AA  American Airlines Inc.\n",
       "2        US         US Airways Inc.\n",
       "3        F9  Frontier Airlines Inc.\n",
       "4        B6         JetBlue Airways"
      ]
     },
     "execution_count": 60,
     "metadata": {},
     "output_type": "execute_result"
    }
   ],
   "source": [
    "df_airlines.head()"
   ]
  },
  {
   "cell_type": "code",
   "execution_count": 61,
   "metadata": {
    "id": "4h6c8avG_5nA"
   },
   "outputs": [
    {
     "data": {
      "text/html": [
       "<div>\n",
       "<style scoped>\n",
       "    .dataframe tbody tr th:only-of-type {\n",
       "        vertical-align: middle;\n",
       "    }\n",
       "\n",
       "    .dataframe tbody tr th {\n",
       "        vertical-align: top;\n",
       "    }\n",
       "\n",
       "    .dataframe thead th {\n",
       "        text-align: right;\n",
       "    }\n",
       "</style>\n",
       "<table border=\"1\" class=\"dataframe\">\n",
       "  <thead>\n",
       "    <tr style=\"text-align: right;\">\n",
       "      <th></th>\n",
       "      <th>IATA_CODE</th>\n",
       "      <th>AIRLINE</th>\n",
       "    </tr>\n",
       "  </thead>\n",
       "  <tbody>\n",
       "    <tr>\n",
       "      <th>9</th>\n",
       "      <td>DL</td>\n",
       "      <td>Delta Air Lines Inc.</td>\n",
       "    </tr>\n",
       "    <tr>\n",
       "      <th>10</th>\n",
       "      <td>EV</td>\n",
       "      <td>Atlantic Southeast Airlines</td>\n",
       "    </tr>\n",
       "    <tr>\n",
       "      <th>11</th>\n",
       "      <td>HA</td>\n",
       "      <td>Hawaiian Airlines Inc.</td>\n",
       "    </tr>\n",
       "    <tr>\n",
       "      <th>12</th>\n",
       "      <td>MQ</td>\n",
       "      <td>American Eagle Airlines Inc.</td>\n",
       "    </tr>\n",
       "    <tr>\n",
       "      <th>13</th>\n",
       "      <td>VX</td>\n",
       "      <td>Virgin America</td>\n",
       "    </tr>\n",
       "  </tbody>\n",
       "</table>\n",
       "</div>"
      ],
      "text/plain": [
       "   IATA_CODE                       AIRLINE\n",
       "9         DL          Delta Air Lines Inc.\n",
       "10        EV   Atlantic Southeast Airlines\n",
       "11        HA        Hawaiian Airlines Inc.\n",
       "12        MQ  American Eagle Airlines Inc.\n",
       "13        VX                Virgin America"
      ]
     },
     "execution_count": 61,
     "metadata": {},
     "output_type": "execute_result"
    }
   ],
   "source": [
    "df_airlines.tail()"
   ]
  },
  {
   "cell_type": "code",
   "execution_count": 62,
   "metadata": {
    "id": "gzI8Wyr4_7MK"
   },
   "outputs": [
    {
     "name": "stdout",
     "output_type": "stream",
     "text": [
      "<class 'pandas.core.frame.DataFrame'>\n",
      "RangeIndex: 14 entries, 0 to 13\n",
      "Data columns (total 2 columns):\n",
      " #   Column     Non-Null Count  Dtype \n",
      "---  ------     --------------  ----- \n",
      " 0   IATA_CODE  14 non-null     object\n",
      " 1   AIRLINE    14 non-null     object\n",
      "dtypes: object(2)\n",
      "memory usage: 356.0+ bytes\n"
     ]
    }
   ],
   "source": [
    "df_airlines.info()"
   ]
  },
  {
   "cell_type": "code",
   "execution_count": 63,
   "metadata": {
    "id": "mE369moW_8oc"
   },
   "outputs": [
    {
     "data": {
      "text/html": [
       "<div>\n",
       "<style scoped>\n",
       "    .dataframe tbody tr th:only-of-type {\n",
       "        vertical-align: middle;\n",
       "    }\n",
       "\n",
       "    .dataframe tbody tr th {\n",
       "        vertical-align: top;\n",
       "    }\n",
       "\n",
       "    .dataframe thead th {\n",
       "        text-align: right;\n",
       "    }\n",
       "</style>\n",
       "<table border=\"1\" class=\"dataframe\">\n",
       "  <thead>\n",
       "    <tr style=\"text-align: right;\">\n",
       "      <th></th>\n",
       "      <th>IATA_CODE</th>\n",
       "      <th>AIRLINE</th>\n",
       "    </tr>\n",
       "  </thead>\n",
       "  <tbody>\n",
       "    <tr>\n",
       "      <th>count</th>\n",
       "      <td>14</td>\n",
       "      <td>14</td>\n",
       "    </tr>\n",
       "    <tr>\n",
       "      <th>unique</th>\n",
       "      <td>14</td>\n",
       "      <td>14</td>\n",
       "    </tr>\n",
       "    <tr>\n",
       "      <th>top</th>\n",
       "      <td>UA</td>\n",
       "      <td>United Air Lines Inc.</td>\n",
       "    </tr>\n",
       "    <tr>\n",
       "      <th>freq</th>\n",
       "      <td>1</td>\n",
       "      <td>1</td>\n",
       "    </tr>\n",
       "  </tbody>\n",
       "</table>\n",
       "</div>"
      ],
      "text/plain": [
       "       IATA_CODE                AIRLINE\n",
       "count         14                     14\n",
       "unique        14                     14\n",
       "top           UA  United Air Lines Inc.\n",
       "freq           1                      1"
      ]
     },
     "execution_count": 63,
     "metadata": {},
     "output_type": "execute_result"
    }
   ],
   "source": [
    "df_airlines.describe()"
   ]
  },
  {
   "cell_type": "markdown",
   "metadata": {
    "id": "tFJIy4l3AfdH"
   },
   "source": [
    "## Airports"
   ]
  },
  {
   "cell_type": "code",
   "execution_count": 64,
   "metadata": {
    "id": "xVq73xMM_9H8"
   },
   "outputs": [
    {
     "data": {
      "text/html": [
       "<div>\n",
       "<style scoped>\n",
       "    .dataframe tbody tr th:only-of-type {\n",
       "        vertical-align: middle;\n",
       "    }\n",
       "\n",
       "    .dataframe tbody tr th {\n",
       "        vertical-align: top;\n",
       "    }\n",
       "\n",
       "    .dataframe thead th {\n",
       "        text-align: right;\n",
       "    }\n",
       "</style>\n",
       "<table border=\"1\" class=\"dataframe\">\n",
       "  <thead>\n",
       "    <tr style=\"text-align: right;\">\n",
       "      <th></th>\n",
       "      <th>IATA_CODE</th>\n",
       "      <th>AIRPORT</th>\n",
       "      <th>CITY</th>\n",
       "      <th>STATE</th>\n",
       "      <th>COUNTRY</th>\n",
       "      <th>LATITUDE</th>\n",
       "      <th>LONGITUDE</th>\n",
       "    </tr>\n",
       "  </thead>\n",
       "  <tbody>\n",
       "    <tr>\n",
       "      <th>0</th>\n",
       "      <td>ABE</td>\n",
       "      <td>Lehigh Valley International Airport</td>\n",
       "      <td>Allentown</td>\n",
       "      <td>PA</td>\n",
       "      <td>USA</td>\n",
       "      <td>40.65236</td>\n",
       "      <td>-75.44040</td>\n",
       "    </tr>\n",
       "    <tr>\n",
       "      <th>1</th>\n",
       "      <td>ABI</td>\n",
       "      <td>Abilene Regional Airport</td>\n",
       "      <td>Abilene</td>\n",
       "      <td>TX</td>\n",
       "      <td>USA</td>\n",
       "      <td>32.41132</td>\n",
       "      <td>-99.68190</td>\n",
       "    </tr>\n",
       "    <tr>\n",
       "      <th>2</th>\n",
       "      <td>ABQ</td>\n",
       "      <td>Albuquerque International Sunport</td>\n",
       "      <td>Albuquerque</td>\n",
       "      <td>NM</td>\n",
       "      <td>USA</td>\n",
       "      <td>35.04022</td>\n",
       "      <td>-106.60919</td>\n",
       "    </tr>\n",
       "    <tr>\n",
       "      <th>3</th>\n",
       "      <td>ABR</td>\n",
       "      <td>Aberdeen Regional Airport</td>\n",
       "      <td>Aberdeen</td>\n",
       "      <td>SD</td>\n",
       "      <td>USA</td>\n",
       "      <td>45.44906</td>\n",
       "      <td>-98.42183</td>\n",
       "    </tr>\n",
       "    <tr>\n",
       "      <th>4</th>\n",
       "      <td>ABY</td>\n",
       "      <td>Southwest Georgia Regional Airport</td>\n",
       "      <td>Albany</td>\n",
       "      <td>GA</td>\n",
       "      <td>USA</td>\n",
       "      <td>31.53552</td>\n",
       "      <td>-84.19447</td>\n",
       "    </tr>\n",
       "  </tbody>\n",
       "</table>\n",
       "</div>"
      ],
      "text/plain": [
       "  IATA_CODE                              AIRPORT         CITY STATE COUNTRY   \n",
       "0       ABE  Lehigh Valley International Airport    Allentown    PA     USA  \\\n",
       "1       ABI             Abilene Regional Airport      Abilene    TX     USA   \n",
       "2       ABQ    Albuquerque International Sunport  Albuquerque    NM     USA   \n",
       "3       ABR            Aberdeen Regional Airport     Aberdeen    SD     USA   \n",
       "4       ABY   Southwest Georgia Regional Airport       Albany    GA     USA   \n",
       "\n",
       "   LATITUDE  LONGITUDE  \n",
       "0  40.65236  -75.44040  \n",
       "1  32.41132  -99.68190  \n",
       "2  35.04022 -106.60919  \n",
       "3  45.44906  -98.42183  \n",
       "4  31.53552  -84.19447  "
      ]
     },
     "execution_count": 64,
     "metadata": {},
     "output_type": "execute_result"
    }
   ],
   "source": [
    "df_airports.head()"
   ]
  },
  {
   "cell_type": "code",
   "execution_count": 65,
   "metadata": {
    "id": "1m6EXbxD_9L9"
   },
   "outputs": [
    {
     "data": {
      "text/html": [
       "<div>\n",
       "<style scoped>\n",
       "    .dataframe tbody tr th:only-of-type {\n",
       "        vertical-align: middle;\n",
       "    }\n",
       "\n",
       "    .dataframe tbody tr th {\n",
       "        vertical-align: top;\n",
       "    }\n",
       "\n",
       "    .dataframe thead th {\n",
       "        text-align: right;\n",
       "    }\n",
       "</style>\n",
       "<table border=\"1\" class=\"dataframe\">\n",
       "  <thead>\n",
       "    <tr style=\"text-align: right;\">\n",
       "      <th></th>\n",
       "      <th>IATA_CODE</th>\n",
       "      <th>AIRPORT</th>\n",
       "      <th>CITY</th>\n",
       "      <th>STATE</th>\n",
       "      <th>COUNTRY</th>\n",
       "      <th>LATITUDE</th>\n",
       "      <th>LONGITUDE</th>\n",
       "    </tr>\n",
       "  </thead>\n",
       "  <tbody>\n",
       "    <tr>\n",
       "      <th>317</th>\n",
       "      <td>WRG</td>\n",
       "      <td>Wrangell Airport</td>\n",
       "      <td>Wrangell</td>\n",
       "      <td>AK</td>\n",
       "      <td>USA</td>\n",
       "      <td>56.48433</td>\n",
       "      <td>-132.36982</td>\n",
       "    </tr>\n",
       "    <tr>\n",
       "      <th>318</th>\n",
       "      <td>WYS</td>\n",
       "      <td>Westerly State Airport</td>\n",
       "      <td>West Yellowstone</td>\n",
       "      <td>MT</td>\n",
       "      <td>USA</td>\n",
       "      <td>44.68840</td>\n",
       "      <td>-111.11764</td>\n",
       "    </tr>\n",
       "    <tr>\n",
       "      <th>319</th>\n",
       "      <td>XNA</td>\n",
       "      <td>Northwest Arkansas Regional Airport</td>\n",
       "      <td>Fayetteville/Springdale/Rogers</td>\n",
       "      <td>AR</td>\n",
       "      <td>USA</td>\n",
       "      <td>36.28187</td>\n",
       "      <td>-94.30681</td>\n",
       "    </tr>\n",
       "    <tr>\n",
       "      <th>320</th>\n",
       "      <td>YAK</td>\n",
       "      <td>Yakutat Airport</td>\n",
       "      <td>Yakutat</td>\n",
       "      <td>AK</td>\n",
       "      <td>USA</td>\n",
       "      <td>59.50336</td>\n",
       "      <td>-139.66023</td>\n",
       "    </tr>\n",
       "    <tr>\n",
       "      <th>321</th>\n",
       "      <td>YUM</td>\n",
       "      <td>Yuma International Airport</td>\n",
       "      <td>Yuma</td>\n",
       "      <td>AZ</td>\n",
       "      <td>USA</td>\n",
       "      <td>32.65658</td>\n",
       "      <td>-114.60597</td>\n",
       "    </tr>\n",
       "  </tbody>\n",
       "</table>\n",
       "</div>"
      ],
      "text/plain": [
       "    IATA_CODE                              AIRPORT   \n",
       "317       WRG                     Wrangell Airport  \\\n",
       "318       WYS               Westerly State Airport   \n",
       "319       XNA  Northwest Arkansas Regional Airport   \n",
       "320       YAK                      Yakutat Airport   \n",
       "321       YUM           Yuma International Airport   \n",
       "\n",
       "                               CITY STATE COUNTRY  LATITUDE  LONGITUDE  \n",
       "317                        Wrangell    AK     USA  56.48433 -132.36982  \n",
       "318                West Yellowstone    MT     USA  44.68840 -111.11764  \n",
       "319  Fayetteville/Springdale/Rogers    AR     USA  36.28187  -94.30681  \n",
       "320                         Yakutat    AK     USA  59.50336 -139.66023  \n",
       "321                            Yuma    AZ     USA  32.65658 -114.60597  "
      ]
     },
     "execution_count": 65,
     "metadata": {},
     "output_type": "execute_result"
    }
   ],
   "source": [
    "df_airports.tail()"
   ]
  },
  {
   "cell_type": "code",
   "execution_count": 66,
   "metadata": {
    "id": "MG9Hg0rg_9Rc"
   },
   "outputs": [
    {
     "name": "stdout",
     "output_type": "stream",
     "text": [
      "<class 'pandas.core.frame.DataFrame'>\n",
      "RangeIndex: 322 entries, 0 to 321\n",
      "Data columns (total 7 columns):\n",
      " #   Column     Non-Null Count  Dtype  \n",
      "---  ------     --------------  -----  \n",
      " 0   IATA_CODE  322 non-null    object \n",
      " 1   AIRPORT    322 non-null    object \n",
      " 2   CITY       322 non-null    object \n",
      " 3   STATE      322 non-null    object \n",
      " 4   COUNTRY    322 non-null    object \n",
      " 5   LATITUDE   319 non-null    float64\n",
      " 6   LONGITUDE  319 non-null    float64\n",
      "dtypes: float64(2), object(5)\n",
      "memory usage: 17.7+ KB\n"
     ]
    }
   ],
   "source": [
    "df_airports.info()"
   ]
  },
  {
   "cell_type": "code",
   "execution_count": 67,
   "metadata": {
    "id": "YFIrbPFK_9Xj"
   },
   "outputs": [
    {
     "data": {
      "text/html": [
       "<div>\n",
       "<style scoped>\n",
       "    .dataframe tbody tr th:only-of-type {\n",
       "        vertical-align: middle;\n",
       "    }\n",
       "\n",
       "    .dataframe tbody tr th {\n",
       "        vertical-align: top;\n",
       "    }\n",
       "\n",
       "    .dataframe thead th {\n",
       "        text-align: right;\n",
       "    }\n",
       "</style>\n",
       "<table border=\"1\" class=\"dataframe\">\n",
       "  <thead>\n",
       "    <tr style=\"text-align: right;\">\n",
       "      <th></th>\n",
       "      <th>LATITUDE</th>\n",
       "      <th>LONGITUDE</th>\n",
       "    </tr>\n",
       "  </thead>\n",
       "  <tbody>\n",
       "    <tr>\n",
       "      <th>count</th>\n",
       "      <td>319.000000</td>\n",
       "      <td>319.000000</td>\n",
       "    </tr>\n",
       "    <tr>\n",
       "      <th>mean</th>\n",
       "      <td>38.981244</td>\n",
       "      <td>-98.378964</td>\n",
       "    </tr>\n",
       "    <tr>\n",
       "      <th>std</th>\n",
       "      <td>8.616736</td>\n",
       "      <td>21.523492</td>\n",
       "    </tr>\n",
       "    <tr>\n",
       "      <th>min</th>\n",
       "      <td>13.483450</td>\n",
       "      <td>-176.646030</td>\n",
       "    </tr>\n",
       "    <tr>\n",
       "      <th>25%</th>\n",
       "      <td>33.652040</td>\n",
       "      <td>-110.839385</td>\n",
       "    </tr>\n",
       "    <tr>\n",
       "      <th>50%</th>\n",
       "      <td>39.297610</td>\n",
       "      <td>-93.403070</td>\n",
       "    </tr>\n",
       "    <tr>\n",
       "      <th>75%</th>\n",
       "      <td>43.154675</td>\n",
       "      <td>-82.722995</td>\n",
       "    </tr>\n",
       "    <tr>\n",
       "      <th>max</th>\n",
       "      <td>71.285450</td>\n",
       "      <td>-64.798560</td>\n",
       "    </tr>\n",
       "  </tbody>\n",
       "</table>\n",
       "</div>"
      ],
      "text/plain": [
       "         LATITUDE   LONGITUDE\n",
       "count  319.000000  319.000000\n",
       "mean    38.981244  -98.378964\n",
       "std      8.616736   21.523492\n",
       "min     13.483450 -176.646030\n",
       "25%     33.652040 -110.839385\n",
       "50%     39.297610  -93.403070\n",
       "75%     43.154675  -82.722995\n",
       "max     71.285450  -64.798560"
      ]
     },
     "execution_count": 67,
     "metadata": {},
     "output_type": "execute_result"
    }
   ],
   "source": [
    "df_airports.describe()"
   ]
  },
  {
   "cell_type": "markdown",
   "metadata": {
    "id": "1gwgCS_CVUJs"
   },
   "source": [
    "# DATA ENGENERING"
   ]
  },
  {
   "cell_type": "markdown",
   "metadata": {
    "id": "M4POz6QK-FvT"
   },
   "source": [
    "## Flights tabel"
   ]
  },
  {
   "cell_type": "markdown",
   "metadata": {
    "id": "AO62nVf8CATc"
   },
   "source": [
    "## GENERAL"
   ]
  },
  {
   "cell_type": "code",
   "execution_count": 68,
   "metadata": {
    "id": "79bw9v4VB_m7"
   },
   "outputs": [],
   "source": [
    "df_flights = df_flights.dropna(how='all')"
   ]
  },
  {
   "cell_type": "code",
   "execution_count": 69,
   "metadata": {
    "colab": {
     "base_uri": "https://localhost:8080/"
    },
    "id": "N6Xei-rUHsiP",
    "outputId": "3eb6cad4-63ca-4e53-f9be-da502b114de0"
   },
   "outputs": [
    {
     "data": {
      "text/plain": [
       "RangeIndex(start=0, stop=5819079, step=1)"
      ]
     },
     "execution_count": 69,
     "metadata": {},
     "output_type": "execute_result"
    }
   ],
   "source": [
    "df_flights.index"
   ]
  },
  {
   "cell_type": "code",
   "execution_count": 70,
   "metadata": {
    "id": "VxZkw3y0JnTx"
   },
   "outputs": [],
   "source": [
    "df_flights = del_column('FLIGHT_NUMBER')"
   ]
  },
  {
   "cell_type": "code",
   "execution_count": 71,
   "metadata": {
    "id": "H6WfvlsHGROE"
   },
   "outputs": [],
   "source": [
    "df_flights = del_column('TAIL_NUMBER')"
   ]
  },
  {
   "cell_type": "markdown",
   "metadata": {
    "id": "E3NVvyxIPvIW"
   },
   "source": [
    "### ADDING DATA COLUMN"
   ]
  },
  {
   "cell_type": "code",
   "execution_count": 72,
   "metadata": {
    "id": "powT-wW7WnVP"
   },
   "outputs": [],
   "source": [
    "# df_flights['DAY'] = df_flights['DAY'].astype(str)\n",
    "# df_flights['MONTH'] = df_flights['MONTH'].astype(str)\n",
    "# df_flights['YEAR'] = df_flights['YEAR'].astype(str)"
   ]
  },
  {
   "cell_type": "code",
   "execution_count": 73,
   "metadata": {
    "id": "Gsh32TZwVp-T"
   },
   "outputs": [],
   "source": [
    "#df_flights[\"FULL_DATA\"] = df_flights[['DAY', 'MONTH', 'YEAR']].agg('-'.join, axis=1)"
   ]
  },
  {
   "cell_type": "code",
   "execution_count": 74,
   "metadata": {
    "id": "EG3TgKUQXTtH"
   },
   "outputs": [],
   "source": [
    "df_flights[\"FULL_DATA\"] = df_flights[\"DAY\"].map(str) + \"-\" + df_flights[\"MONTH\"].map(str) + \"-\" + df_flights['YEAR'].map(str)"
   ]
  },
  {
   "cell_type": "code",
   "execution_count": 75,
   "metadata": {
    "id": "YVDNiCfGXedp"
   },
   "outputs": [],
   "source": [
    "#df_flights['FULL_DATA'] = pd.to_datetime(df_flights.FULL_DATA, format=\"%d-%m-%Y\")"
   ]
  },
  {
   "cell_type": "code",
   "execution_count": 76,
   "metadata": {
    "id": "QnU04BlhxJUB"
   },
   "outputs": [],
   "source": [
    "#df_flights['FULL_DATA'].type()"
   ]
  },
  {
   "cell_type": "markdown",
   "metadata": {
    "id": "PByFwoqF9ziM"
   },
   "source": [
    "### CANCELLATION_REASON "
   ]
  },
  {
   "cell_type": "code",
   "execution_count": 77,
   "metadata": {
    "colab": {
     "base_uri": "https://localhost:8080/"
    },
    "id": "0NScH-BP-XGp",
    "outputId": "4fc7e0c6-07b4-45a6-b16b-dbc57f0bcff0"
   },
   "outputs": [
    {
     "data": {
      "text/plain": [
       "array([nan, 'A', 'B', 'C', 'D'], dtype=object)"
      ]
     },
     "execution_count": 77,
     "metadata": {},
     "output_type": "execute_result"
    }
   ],
   "source": [
    "unique('CANCELLATION_REASON')"
   ]
  },
  {
   "cell_type": "code",
   "execution_count": 78,
   "metadata": {
    "colab": {
     "base_uri": "https://localhost:8080/"
    },
    "id": "0k30HxDS__UX",
    "outputId": "bfb88e7f-ccf5-4fc8-a85c-c99e417564a9"
   },
   "outputs": [
    {
     "data": {
      "text/plain": [
       "RangeIndex(start=0, stop=5819079, step=1)"
      ]
     },
     "execution_count": 78,
     "metadata": {},
     "output_type": "execute_result"
    }
   ],
   "source": [
    "df_flights.index"
   ]
  },
  {
   "cell_type": "code",
   "execution_count": 79,
   "metadata": {
    "colab": {
     "base_uri": "https://localhost:8080/"
    },
    "id": "RxVdL8GS_qq5",
    "outputId": "9a1a51c5-281a-414b-90f1-d9c389438005"
   },
   "outputs": [
    {
     "data": {
      "text/plain": [
       "5729195"
      ]
     },
     "execution_count": 79,
     "metadata": {},
     "output_type": "execute_result"
    }
   ],
   "source": [
    "count_nan_in_column(df_flights, 'CANCELLATION_REASON')"
   ]
  },
  {
   "cell_type": "code",
   "execution_count": 80,
   "metadata": {
    "colab": {
     "base_uri": "https://localhost:8080/"
    },
    "id": "HMmfQkB0AlbD",
    "outputId": "d7c1c100-1baf-4035-e570-a5c48135f836"
   },
   "outputs": [
    {
     "name": "stdout",
     "output_type": "stream",
     "text": [
      "   Option_A  Option_B  Option_C  Option_D\n",
      "0     False     False     False     False\n",
      "1     False     False     False     False\n",
      "2     False     False     False     False\n",
      "3     False     False     False     False\n",
      "4     False     False     False     False\n"
     ]
    }
   ],
   "source": [
    "y = pd.get_dummies(df_flights.CANCELLATION_REASON, prefix='Option')\n",
    "print(y.head())"
   ]
  },
  {
   "cell_type": "code",
   "execution_count": 81,
   "metadata": {
    "id": "KbJl5IdcD6c1"
   },
   "outputs": [],
   "source": [
    "df_flights = pd.concat([df_flights, y], axis=1)"
   ]
  },
  {
   "cell_type": "code",
   "execution_count": 82,
   "metadata": {
    "colab": {
     "base_uri": "https://localhost:8080/"
    },
    "id": "Cvgr5PuKE_5V",
    "outputId": "8b56c42f-faeb-49c6-8311-706f0b72e536"
   },
   "outputs": [
    {
     "data": {
      "text/plain": [
       "0"
      ]
     },
     "execution_count": 82,
     "metadata": {},
     "output_type": "execute_result"
    }
   ],
   "source": [
    "count_nan_in_column(df_flights, 'Option_A')"
   ]
  },
  {
   "cell_type": "code",
   "execution_count": 83,
   "metadata": {
    "id": "AijG3g15FyYB"
   },
   "outputs": [],
   "source": [
    "df_flights = df_flights.drop(['CANCELLATION_REASON'], axis=1)"
   ]
  },
  {
   "cell_type": "code",
   "execution_count": 84,
   "metadata": {
    "colab": {
     "base_uri": "https://localhost:8080/"
    },
    "id": "RfdK1WZ2H3jN",
    "outputId": "8c895ea6-949a-4d53-8d9e-2debd2beb857"
   },
   "outputs": [
    {
     "name": "stdout",
     "output_type": "stream",
     "text": [
      "<class 'pandas.core.frame.DataFrame'>\n",
      "RangeIndex: 5819079 entries, 0 to 5819078\n",
      "Data columns (total 33 columns):\n",
      " #   Column               Dtype  \n",
      "---  ------               -----  \n",
      " 0   YEAR                 int64  \n",
      " 1   MONTH                int64  \n",
      " 2   DAY                  int64  \n",
      " 3   DAY_OF_WEEK          int64  \n",
      " 4   AIRLINE              object \n",
      " 5   ORIGIN_AIRPORT       object \n",
      " 6   DESTINATION_AIRPORT  object \n",
      " 7   SCHEDULED_DEPARTURE  int64  \n",
      " 8   DEPARTURE_TIME       float64\n",
      " 9   DEPARTURE_DELAY      float64\n",
      " 10  TAXI_OUT             float64\n",
      " 11  WHEELS_OFF           float64\n",
      " 12  SCHEDULED_TIME       float64\n",
      " 13  ELAPSED_TIME         float64\n",
      " 14  AIR_TIME             float64\n",
      " 15  DISTANCE             int64  \n",
      " 16  WHEELS_ON            float64\n",
      " 17  TAXI_IN              float64\n",
      " 18  SCHEDULED_ARRIVAL    int64  \n",
      " 19  ARRIVAL_TIME         float64\n",
      " 20  ARRIVAL_DELAY        float64\n",
      " 21  DIVERTED             int64  \n",
      " 22  CANCELLED            int64  \n",
      " 23  AIR_SYSTEM_DELAY     float64\n",
      " 24  SECURITY_DELAY       float64\n",
      " 25  AIRLINE_DELAY        float64\n",
      " 26  LATE_AIRCRAFT_DELAY  float64\n",
      " 27  WEATHER_DELAY        float64\n",
      " 28  FULL_DATA            object \n",
      " 29  Option_A             bool   \n",
      " 30  Option_B             bool   \n",
      " 31  Option_C             bool   \n",
      " 32  Option_D             bool   \n",
      "dtypes: bool(4), float64(16), int64(9), object(4)\n",
      "memory usage: 1.3+ GB\n"
     ]
    }
   ],
   "source": [
    "df_flights.info()"
   ]
  },
  {
   "cell_type": "markdown",
   "metadata": {
    "id": "m0HYNCQcgD7s"
   },
   "source": [
    "### DISTANCE"
   ]
  },
  {
   "cell_type": "markdown",
   "metadata": {
    "id": "dyQoZrhAhNcN"
   },
   "source": [
    "Mimo, że w jakiś wartościach z kropka znaujda sie wartosci inne niz 0 to przy odleglosciach liczonych w kilommetrach, metry nie maja znaczenia "
   ]
  },
  {
   "cell_type": "code",
   "execution_count": 85,
   "metadata": {
    "colab": {
     "base_uri": "https://localhost:8080/"
    },
    "id": "AxVZ-9XlgGeN",
    "outputId": "b1ba00ca-518d-4837-cde9-a97c2b288957"
   },
   "outputs": [
    {
     "name": "stdout",
     "output_type": "stream",
     "text": [
      "<class 'pandas.core.series.Series'>\n",
      "RangeIndex: 5819079 entries, 0 to 5819078\n",
      "Series name: DISTANCE\n",
      "Non-Null Count    Dtype\n",
      "--------------    -----\n",
      "5819079 non-null  int64\n",
      "dtypes: int64(1)\n",
      "memory usage: 44.4 MB\n"
     ]
    }
   ],
   "source": [
    "df_flights['DISTANCE'].info()"
   ]
  },
  {
   "cell_type": "code",
   "execution_count": 86,
   "metadata": {
    "colab": {
     "base_uri": "https://localhost:8080/"
    },
    "id": "zRNMpwhPgYBn",
    "outputId": "cc0e3b30-c9a3-4fb5-b3d0-4a04326c5a3f"
   },
   "outputs": [
    {
     "data": {
      "text/plain": [
       "0    1448\n",
       "1    2330\n",
       "2    2296\n",
       "3    2342\n",
       "4    1448\n",
       "Name: DISTANCE, dtype: int64"
      ]
     },
     "execution_count": 86,
     "metadata": {},
     "output_type": "execute_result"
    }
   ],
   "source": [
    "df_flights['DISTANCE'].head()"
   ]
  },
  {
   "cell_type": "code",
   "execution_count": 87,
   "metadata": {
    "colab": {
     "base_uri": "https://localhost:8080/"
    },
    "id": "AASQtAt4gq42",
    "outputId": "2af4c46e-4bea-4e19-c0dd-ccda93bfca5a"
   },
   "outputs": [
    {
     "data": {
      "text/plain": [
       "4983"
      ]
     },
     "execution_count": 87,
     "metadata": {},
     "output_type": "execute_result"
    }
   ],
   "source": [
    "max(df_flights['DISTANCE'])"
   ]
  },
  {
   "cell_type": "code",
   "execution_count": 88,
   "metadata": {
    "colab": {
     "base_uri": "https://localhost:8080/"
    },
    "id": "FrH7iWN4gu-e",
    "outputId": "f96aebdf-01c3-4f0e-810c-b416ee3f841c"
   },
   "outputs": [
    {
     "data": {
      "text/plain": [
       "21"
      ]
     },
     "execution_count": 88,
     "metadata": {},
     "output_type": "execute_result"
    }
   ],
   "source": [
    "min(df_flights['DISTANCE'])"
   ]
  },
  {
   "cell_type": "code",
   "execution_count": 89,
   "metadata": {
    "colab": {
     "base_uri": "https://localhost:8080/"
    },
    "id": "gvmq83-NgeSM",
    "outputId": "588d0873-87ee-4059-8832-608a41ced0b5"
   },
   "outputs": [
    {
     "name": "stdout",
     "output_type": "stream",
     "text": [
      "False\n"
     ]
    }
   ],
   "source": [
    "float_check('DISTANCE')"
   ]
  },
  {
   "cell_type": "code",
   "execution_count": 90,
   "metadata": {
    "id": "JhrKbTm_g3VX"
   },
   "outputs": [],
   "source": [
    "df_flights['DISTANCE'] = df_flights['DISTANCE'].astype(int)"
   ]
  },
  {
   "cell_type": "code",
   "execution_count": 91,
   "metadata": {
    "colab": {
     "base_uri": "https://localhost:8080/"
    },
    "id": "ZUqknky7hHx0",
    "outputId": "8248fdc0-75d0-4758-becf-f858bc059054"
   },
   "outputs": [
    {
     "data": {
      "text/plain": [
       "0          1448\n",
       "1          2330\n",
       "2          2296\n",
       "3          2342\n",
       "4          1448\n",
       "           ... \n",
       "5819074    2611\n",
       "5819075    1617\n",
       "5819076    1598\n",
       "5819077    1189\n",
       "5819078    1576\n",
       "Name: DISTANCE, Length: 5819079, dtype: int32"
      ]
     },
     "execution_count": 91,
     "metadata": {},
     "output_type": "execute_result"
    }
   ],
   "source": [
    "df_flights['DISTANCE']"
   ]
  },
  {
   "cell_type": "markdown",
   "metadata": {
    "id": "8WWDaBa6hgDM"
   },
   "source": [
    "### DIVERTED"
   ]
  },
  {
   "cell_type": "code",
   "execution_count": 92,
   "metadata": {
    "colab": {
     "base_uri": "https://localhost:8080/"
    },
    "id": "suT34-1Dhm6M",
    "outputId": "d60322ab-04ed-4e41-e209-d811cc19f6bf"
   },
   "outputs": [
    {
     "name": "stdout",
     "output_type": "stream",
     "text": [
      "<class 'pandas.core.series.Series'>\n",
      "RangeIndex: 5819079 entries, 0 to 5819078\n",
      "Series name: DIVERTED\n",
      "Non-Null Count    Dtype\n",
      "--------------    -----\n",
      "5819079 non-null  int64\n",
      "dtypes: int64(1)\n",
      "memory usage: 44.4 MB\n"
     ]
    }
   ],
   "source": [
    "df_flights['DIVERTED'].info()"
   ]
  },
  {
   "cell_type": "code",
   "execution_count": 93,
   "metadata": {
    "colab": {
     "base_uri": "https://localhost:8080/"
    },
    "id": "QL2HgY92hqsJ",
    "outputId": "7cb691df-6029-47c8-c606-fbc51c338c55"
   },
   "outputs": [
    {
     "data": {
      "text/plain": [
       "0    0\n",
       "1    0\n",
       "2    0\n",
       "3    0\n",
       "4    0\n",
       "Name: DIVERTED, dtype: int64"
      ]
     },
     "execution_count": 93,
     "metadata": {},
     "output_type": "execute_result"
    }
   ],
   "source": [
    "df_flights['DIVERTED'].head()"
   ]
  },
  {
   "cell_type": "code",
   "execution_count": 94,
   "metadata": {
    "colab": {
     "base_uri": "https://localhost:8080/"
    },
    "id": "AiGtL-syhx0y",
    "outputId": "51dc7e0a-1c65-432b-a40d-719e64e3b54f"
   },
   "outputs": [
    {
     "data": {
      "text/plain": [
       "array([0, 1], dtype=int64)"
      ]
     },
     "execution_count": 94,
     "metadata": {},
     "output_type": "execute_result"
    }
   ],
   "source": [
    "unique('DIVERTED')"
   ]
  },
  {
   "cell_type": "code",
   "execution_count": 95,
   "metadata": {
    "id": "z-q0H3JPh16s"
   },
   "outputs": [],
   "source": [
    "df_flights['DIVERTED'] = df_flights['DIVERTED'].astype(int)"
   ]
  },
  {
   "cell_type": "code",
   "execution_count": 96,
   "metadata": {
    "colab": {
     "base_uri": "https://localhost:8080/"
    },
    "id": "joQAGfZgh8pJ",
    "outputId": "80008042-4fe6-4a0c-913f-ccd4191a3622"
   },
   "outputs": [
    {
     "data": {
      "text/plain": [
       "0          0\n",
       "1          0\n",
       "2          0\n",
       "3          0\n",
       "4          0\n",
       "          ..\n",
       "5819074    0\n",
       "5819075    0\n",
       "5819076    0\n",
       "5819077    0\n",
       "5819078    0\n",
       "Name: DIVERTED, Length: 5819079, dtype: int32"
      ]
     },
     "execution_count": 96,
     "metadata": {},
     "output_type": "execute_result"
    }
   ],
   "source": [
    "df_flights['DIVERTED']"
   ]
  },
  {
   "cell_type": "markdown",
   "metadata": {
    "id": "cVdyqo1diBbV"
   },
   "source": [
    "### CANCELED"
   ]
  },
  {
   "cell_type": "code",
   "execution_count": 97,
   "metadata": {
    "colab": {
     "base_uri": "https://localhost:8080/"
    },
    "id": "qEiFL8xUiNVu",
    "outputId": "bd7fe6e8-140b-4768-bca7-356531c1b9ca"
   },
   "outputs": [
    {
     "name": "stdout",
     "output_type": "stream",
     "text": [
      "<class 'pandas.core.series.Series'>\n",
      "RangeIndex: 5819079 entries, 0 to 5819078\n",
      "Series name: CANCELLED\n",
      "Non-Null Count    Dtype\n",
      "--------------    -----\n",
      "5819079 non-null  int64\n",
      "dtypes: int64(1)\n",
      "memory usage: 44.4 MB\n"
     ]
    }
   ],
   "source": [
    "df_flights['CANCELLED'].info()"
   ]
  },
  {
   "cell_type": "code",
   "execution_count": 98,
   "metadata": {
    "colab": {
     "base_uri": "https://localhost:8080/"
    },
    "id": "GYpUk2mciU_m",
    "outputId": "3d623e49-da23-475f-9dad-0e09aaf01bfb"
   },
   "outputs": [
    {
     "data": {
      "text/plain": [
       "array([0, 1], dtype=int64)"
      ]
     },
     "execution_count": 98,
     "metadata": {},
     "output_type": "execute_result"
    }
   ],
   "source": [
    "unique('CANCELLED')"
   ]
  },
  {
   "cell_type": "code",
   "execution_count": 99,
   "metadata": {
    "id": "AmWyCkOniYB4"
   },
   "outputs": [],
   "source": [
    "df_flights['CANCELLED'] = df_flights['CANCELLED'].astype(int)"
   ]
  },
  {
   "cell_type": "code",
   "execution_count": 100,
   "metadata": {
    "colab": {
     "base_uri": "https://localhost:8080/"
    },
    "id": "rBJFEAteib3l",
    "outputId": "404c7428-c001-4a96-bbb3-8307019fff85"
   },
   "outputs": [
    {
     "data": {
      "text/plain": [
       "0          0\n",
       "1          0\n",
       "2          0\n",
       "3          0\n",
       "4          0\n",
       "          ..\n",
       "5819074    0\n",
       "5819075    0\n",
       "5819076    0\n",
       "5819077    0\n",
       "5819078    0\n",
       "Name: CANCELLED, Length: 5819079, dtype: int32"
      ]
     },
     "execution_count": 100,
     "metadata": {},
     "output_type": "execute_result"
    }
   ],
   "source": [
    "df_flights['CANCELLED']"
   ]
  },
  {
   "cell_type": "markdown",
   "metadata": {
    "id": "D5q1QdmEi6ob"
   },
   "source": [
    "## AIRPORTS AND AIRLINE"
   ]
  },
  {
   "cell_type": "markdown",
   "metadata": {
    "id": "fuJ4izjtjADC"
   },
   "source": [
    "### AIRLINE"
   ]
  },
  {
   "cell_type": "code",
   "execution_count": 101,
   "metadata": {
    "colab": {
     "base_uri": "https://localhost:8080/"
    },
    "id": "v2eQwuAli_L-",
    "outputId": "94265dcc-fa58-45d4-cd8a-5572329d066e"
   },
   "outputs": [
    {
     "data": {
      "text/plain": [
       "0          AS\n",
       "1          AA\n",
       "2          US\n",
       "3          AA\n",
       "4          AS\n",
       "           ..\n",
       "5819074    B6\n",
       "5819075    B6\n",
       "5819076    B6\n",
       "5819077    B6\n",
       "5819078    B6\n",
       "Name: AIRLINE, Length: 5819079, dtype: object"
      ]
     },
     "execution_count": 101,
     "metadata": {},
     "output_type": "execute_result"
    }
   ],
   "source": [
    "df_flights['AIRLINE']"
   ]
  },
  {
   "cell_type": "code",
   "execution_count": 102,
   "metadata": {
    "colab": {
     "base_uri": "https://localhost:8080/",
     "height": 0
    },
    "id": "XCHf9EEzjvYI",
    "outputId": "9b43287b-21fa-48d7-850c-099ff8f0d699"
   },
   "outputs": [
    {
     "data": {
      "text/html": [
       "<div>\n",
       "<style scoped>\n",
       "    .dataframe tbody tr th:only-of-type {\n",
       "        vertical-align: middle;\n",
       "    }\n",
       "\n",
       "    .dataframe tbody tr th {\n",
       "        vertical-align: top;\n",
       "    }\n",
       "\n",
       "    .dataframe thead th {\n",
       "        text-align: right;\n",
       "    }\n",
       "</style>\n",
       "<table border=\"1\" class=\"dataframe\">\n",
       "  <thead>\n",
       "    <tr style=\"text-align: right;\">\n",
       "      <th></th>\n",
       "      <th>IATA_CODE</th>\n",
       "      <th>AIRLINE</th>\n",
       "    </tr>\n",
       "  </thead>\n",
       "  <tbody>\n",
       "    <tr>\n",
       "      <th>0</th>\n",
       "      <td>UA</td>\n",
       "      <td>United Air Lines Inc.</td>\n",
       "    </tr>\n",
       "    <tr>\n",
       "      <th>1</th>\n",
       "      <td>AA</td>\n",
       "      <td>American Airlines Inc.</td>\n",
       "    </tr>\n",
       "    <tr>\n",
       "      <th>2</th>\n",
       "      <td>US</td>\n",
       "      <td>US Airways Inc.</td>\n",
       "    </tr>\n",
       "    <tr>\n",
       "      <th>3</th>\n",
       "      <td>F9</td>\n",
       "      <td>Frontier Airlines Inc.</td>\n",
       "    </tr>\n",
       "    <tr>\n",
       "      <th>4</th>\n",
       "      <td>B6</td>\n",
       "      <td>JetBlue Airways</td>\n",
       "    </tr>\n",
       "    <tr>\n",
       "      <th>5</th>\n",
       "      <td>OO</td>\n",
       "      <td>Skywest Airlines Inc.</td>\n",
       "    </tr>\n",
       "    <tr>\n",
       "      <th>6</th>\n",
       "      <td>AS</td>\n",
       "      <td>Alaska Airlines Inc.</td>\n",
       "    </tr>\n",
       "    <tr>\n",
       "      <th>7</th>\n",
       "      <td>NK</td>\n",
       "      <td>Spirit Air Lines</td>\n",
       "    </tr>\n",
       "    <tr>\n",
       "      <th>8</th>\n",
       "      <td>WN</td>\n",
       "      <td>Southwest Airlines Co.</td>\n",
       "    </tr>\n",
       "    <tr>\n",
       "      <th>9</th>\n",
       "      <td>DL</td>\n",
       "      <td>Delta Air Lines Inc.</td>\n",
       "    </tr>\n",
       "    <tr>\n",
       "      <th>10</th>\n",
       "      <td>EV</td>\n",
       "      <td>Atlantic Southeast Airlines</td>\n",
       "    </tr>\n",
       "    <tr>\n",
       "      <th>11</th>\n",
       "      <td>HA</td>\n",
       "      <td>Hawaiian Airlines Inc.</td>\n",
       "    </tr>\n",
       "    <tr>\n",
       "      <th>12</th>\n",
       "      <td>MQ</td>\n",
       "      <td>American Eagle Airlines Inc.</td>\n",
       "    </tr>\n",
       "    <tr>\n",
       "      <th>13</th>\n",
       "      <td>VX</td>\n",
       "      <td>Virgin America</td>\n",
       "    </tr>\n",
       "  </tbody>\n",
       "</table>\n",
       "</div>"
      ],
      "text/plain": [
       "   IATA_CODE                       AIRLINE\n",
       "0         UA         United Air Lines Inc.\n",
       "1         AA        American Airlines Inc.\n",
       "2         US               US Airways Inc.\n",
       "3         F9        Frontier Airlines Inc.\n",
       "4         B6               JetBlue Airways\n",
       "5         OO         Skywest Airlines Inc.\n",
       "6         AS          Alaska Airlines Inc.\n",
       "7         NK              Spirit Air Lines\n",
       "8         WN        Southwest Airlines Co.\n",
       "9         DL          Delta Air Lines Inc.\n",
       "10        EV   Atlantic Southeast Airlines\n",
       "11        HA        Hawaiian Airlines Inc.\n",
       "12        MQ  American Eagle Airlines Inc.\n",
       "13        VX                Virgin America"
      ]
     },
     "execution_count": 102,
     "metadata": {},
     "output_type": "execute_result"
    }
   ],
   "source": [
    "df_airlines"
   ]
  },
  {
   "cell_type": "code",
   "execution_count": 103,
   "metadata": {
    "colab": {
     "base_uri": "https://localhost:8080/"
    },
    "id": "YvP2o7uQlA95",
    "outputId": "ff74f2ee-b85e-456b-c200-af5fcdf74891"
   },
   "outputs": [
    {
     "data": {
      "text/plain": [
       "0"
      ]
     },
     "execution_count": 103,
     "metadata": {},
     "output_type": "execute_result"
    }
   ],
   "source": [
    "count_nan_in_column(df_flights, 'AIRLINE')  "
   ]
  },
  {
   "cell_type": "code",
   "execution_count": 104,
   "metadata": {
    "colab": {
     "base_uri": "https://localhost:8080/"
    },
    "id": "V3Gar5XqlFwZ",
    "outputId": "b4a529e5-ab75-4f1b-ee1e-1f34868d27f4"
   },
   "outputs": [
    {
     "name": "stdout",
     "output_type": "stream",
     "text": [
      "   Airlines_AA  Airlines_AS  Airlines_B6  Airlines_DL  Airlines_EV   \n",
      "0        False         True        False        False        False  \\\n",
      "1         True        False        False        False        False   \n",
      "2        False        False        False        False        False   \n",
      "3         True        False        False        False        False   \n",
      "4        False         True        False        False        False   \n",
      "\n",
      "   Airlines_F9  Airlines_HA  Airlines_MQ  Airlines_NK  Airlines_OO   \n",
      "0        False        False        False        False        False  \\\n",
      "1        False        False        False        False        False   \n",
      "2        False        False        False        False        False   \n",
      "3        False        False        False        False        False   \n",
      "4        False        False        False        False        False   \n",
      "\n",
      "   Airlines_UA  Airlines_US  Airlines_VX  Airlines_WN  \n",
      "0        False        False        False        False  \n",
      "1        False        False        False        False  \n",
      "2        False         True        False        False  \n",
      "3        False        False        False        False  \n",
      "4        False        False        False        False  \n"
     ]
    }
   ],
   "source": [
    "y = pd.get_dummies(df_flights.AIRLINE, prefix='Airlines')\n",
    "print(y.head()) "
   ]
  },
  {
   "cell_type": "code",
   "execution_count": 105,
   "metadata": {
    "id": "fM1bZ1BslVO0"
   },
   "outputs": [],
   "source": [
    "df_flights = pd.concat([df_flights, y], axis=1)"
   ]
  },
  {
   "cell_type": "code",
   "execution_count": 106,
   "metadata": {
    "colab": {
     "base_uri": "https://localhost:8080/"
    },
    "id": "4HDFVBoVleKp",
    "outputId": "c26b54a4-7b7a-40ee-e3b2-d7359b7ee707"
   },
   "outputs": [
    {
     "data": {
      "text/plain": [
       "0"
      ]
     },
     "execution_count": 106,
     "metadata": {},
     "output_type": "execute_result"
    }
   ],
   "source": [
    "count_nan_in_column(df_flights, 'Airlines_AA')"
   ]
  },
  {
   "cell_type": "code",
   "execution_count": 107,
   "metadata": {
    "id": "gVIIaJAulovD"
   },
   "outputs": [],
   "source": [
    "df_flights = df_flights.drop(['AIRLINE'], axis=1)"
   ]
  },
  {
   "cell_type": "code",
   "execution_count": 108,
   "metadata": {
    "colab": {
     "base_uri": "https://localhost:8080/"
    },
    "id": "yGpkJu2nlyhF",
    "outputId": "f3f7399e-b17a-4505-de39-b2bf5957921b"
   },
   "outputs": [
    {
     "name": "stdout",
     "output_type": "stream",
     "text": [
      "<class 'pandas.core.frame.DataFrame'>\n",
      "RangeIndex: 5819079 entries, 0 to 5819078\n",
      "Data columns (total 46 columns):\n",
      " #   Column               Dtype  \n",
      "---  ------               -----  \n",
      " 0   YEAR                 int64  \n",
      " 1   MONTH                int64  \n",
      " 2   DAY                  int64  \n",
      " 3   DAY_OF_WEEK          int64  \n",
      " 4   ORIGIN_AIRPORT       object \n",
      " 5   DESTINATION_AIRPORT  object \n",
      " 6   SCHEDULED_DEPARTURE  int64  \n",
      " 7   DEPARTURE_TIME       float64\n",
      " 8   DEPARTURE_DELAY      float64\n",
      " 9   TAXI_OUT             float64\n",
      " 10  WHEELS_OFF           float64\n",
      " 11  SCHEDULED_TIME       float64\n",
      " 12  ELAPSED_TIME         float64\n",
      " 13  AIR_TIME             float64\n",
      " 14  DISTANCE             int32  \n",
      " 15  WHEELS_ON            float64\n",
      " 16  TAXI_IN              float64\n",
      " 17  SCHEDULED_ARRIVAL    int64  \n",
      " 18  ARRIVAL_TIME         float64\n",
      " 19  ARRIVAL_DELAY        float64\n",
      " 20  DIVERTED             int32  \n",
      " 21  CANCELLED            int32  \n",
      " 22  AIR_SYSTEM_DELAY     float64\n",
      " 23  SECURITY_DELAY       float64\n",
      " 24  AIRLINE_DELAY        float64\n",
      " 25  LATE_AIRCRAFT_DELAY  float64\n",
      " 26  WEATHER_DELAY        float64\n",
      " 27  FULL_DATA            object \n",
      " 28  Option_A             bool   \n",
      " 29  Option_B             bool   \n",
      " 30  Option_C             bool   \n",
      " 31  Option_D             bool   \n",
      " 32  Airlines_AA          bool   \n",
      " 33  Airlines_AS          bool   \n",
      " 34  Airlines_B6          bool   \n",
      " 35  Airlines_DL          bool   \n",
      " 36  Airlines_EV          bool   \n",
      " 37  Airlines_F9          bool   \n",
      " 38  Airlines_HA          bool   \n",
      " 39  Airlines_MQ          bool   \n",
      " 40  Airlines_NK          bool   \n",
      " 41  Airlines_OO          bool   \n",
      " 42  Airlines_UA          bool   \n",
      " 43  Airlines_US          bool   \n",
      " 44  Airlines_VX          bool   \n",
      " 45  Airlines_WN          bool   \n",
      "dtypes: bool(18), float64(16), int32(3), int64(6), object(3)\n",
      "memory usage: 1.2+ GB\n"
     ]
    }
   ],
   "source": [
    "df_flights.info()"
   ]
  },
  {
   "cell_type": "markdown",
   "metadata": {
    "id": "ohvp08cMl7y-"
   },
   "source": [
    "### AIRPORTS"
   ]
  },
  {
   "cell_type": "markdown",
   "metadata": {
    "id": "p2L2I01TmRAV"
   },
   "source": [
    "#### ORIGIN_AIRPORT"
   ]
  },
  {
   "cell_type": "code",
   "execution_count": 109,
   "metadata": {
    "colab": {
     "base_uri": "https://localhost:8080/"
    },
    "id": "B8c4CIFvmAFk",
    "outputId": "9d858a76-9fc7-4798-8cb6-a8cae448ac36"
   },
   "outputs": [
    {
     "data": {
      "text/plain": [
       "0          ANC\n",
       "1          LAX\n",
       "2          SFO\n",
       "3          LAX\n",
       "4          SEA\n",
       "          ... \n",
       "5819074    LAX\n",
       "5819075    JFK\n",
       "5819076    JFK\n",
       "5819077    MCO\n",
       "5819078    JFK\n",
       "Name: ORIGIN_AIRPORT, Length: 5819079, dtype: object"
      ]
     },
     "execution_count": 109,
     "metadata": {},
     "output_type": "execute_result"
    }
   ],
   "source": [
    "df_flights['ORIGIN_AIRPORT']"
   ]
  },
  {
   "cell_type": "code",
   "execution_count": 110,
   "metadata": {
    "colab": {
     "base_uri": "https://localhost:8080/"
    },
    "id": "5lZK1YorSUDv",
    "outputId": "19560e36-18fa-47d8-f4ef-d5b5d259ff63"
   },
   "outputs": [
    {
     "data": {
      "text/plain": [
       "0"
      ]
     },
     "execution_count": 110,
     "metadata": {},
     "output_type": "execute_result"
    }
   ],
   "source": [
    "count_nan_in_column(df_flights, 'ORIGIN_AIRPORT')"
   ]
  },
  {
   "cell_type": "code",
   "execution_count": 111,
   "metadata": {
    "colab": {
     "base_uri": "https://localhost:8080/"
    },
    "id": "tQ8omEkVmYPE",
    "outputId": "6959b908-ddf9-40ee-9dcd-2baf58d0afc8"
   },
   "outputs": [
    {
     "data": {
      "text/plain": [
       "array(['ANC', 'LAX', 'SFO', 'SEA', 'LAS', 'DEN', 'SLC', 'PDX', 'FAI',\n",
       "       'MSP', 'PHX', 'SJU', 'PBG', 'IAG', 'PSE', 'BQN', 'ORD', 'GEG',\n",
       "       'HNL', 'ONT', 'MCO', 'BOS', 'HIB', 'ABR', 'MAF', 'DFW', 'MKE',\n",
       "       'IAH', 'BNA', 'BRO', 'VPS', 'BOI', 'BJI', 'SGF', 'PHL', 'SBN',\n",
       "       'RDD', 'EUG', 'IAD', 'BUF', 'PWM', 'JFK', 'CRP', 'PIA', 'FAT',\n",
       "       'SMF', 'AUS', 'MCI', 'ATL', 'JAX', 'MFR', 'IDA', 'MSN', 'DCA',\n",
       "       'SAT', 'CHS', 'SBA', 'SMX', 'IND', 'CLE', 'GSP', 'BDL', 'ABI',\n",
       "       'RIC', 'BFL', 'OMA', 'RDM', 'FLL', 'CID', 'TPA', 'SYR', 'ROC',\n",
       "       'TYR', 'LAN', 'XNA', 'GSO', 'EWR', 'PBI', 'RSW', 'OAK', 'PVD',\n",
       "       'RNO', 'PIT', 'ABQ', 'MIA', 'BWI', 'LGA', 'TUL', 'LIT', 'MSY',\n",
       "       'OKC', 'ATW', 'PNS', 'MEM', 'TYS', 'MHT', 'SAV', 'CLT', 'GRB',\n",
       "       'ABE', 'JAN', 'OAJ', 'FAR', 'ERI', 'LEX', 'CWA', 'MSO', 'TTN',\n",
       "       'AMA', 'CLL', 'HOU', 'JLN', 'MLI', 'RDU', 'CVG', 'MHK', 'MOB',\n",
       "       'TLH', 'BHM', 'CAE', 'TXK', 'ACY', 'DTW', 'RAP', 'TUS', 'EAU',\n",
       "       'DLH', 'FSD', 'INL', 'CMX', 'SPI', 'CLD', 'COD', 'CMH', 'LRD',\n",
       "       'PSC', 'CPR', 'ACV', 'DAL', 'PAH', 'MRY', 'ESC', 'ISN', 'PSP',\n",
       "       'MFE', 'STL', 'BTV', 'FSM', 'AEX', 'SPS', 'ACT', 'SJT', 'MTJ',\n",
       "       'GCC', 'OGG', 'SJC', 'GUC', 'ORF', 'MOT', 'MLU', 'KOA', 'SAN',\n",
       "       'LAW', 'PIB', 'MGM', 'SBP', 'COS', 'LAR', 'DRO', 'BIS', 'ITO',\n",
       "       'BTR', 'GRI', 'HLN', 'BZN', 'MDW', 'MDT', 'SCE', 'LIH', 'TWF',\n",
       "       'BPT', 'GPT', 'STC', 'HPN', 'MLB', 'PLN', 'CIU', 'CAK', 'DSM',\n",
       "       'BLI', 'SHV', 'ROW', 'FWA', 'SNA', 'ALB', 'HOB', 'LNK', 'CMI',\n",
       "       'COU', 'GTF', 'EKO', 'LGB', 'AVL', 'HSV', 'SAF', 'GRR', 'SUX',\n",
       "       'LFT', 'HYS', 'ELP', 'DVL', 'ISP', 'BUR', 'DAB', 'DAY', 'GRK',\n",
       "       'GJT', 'BMI', 'LBE', 'ASE', 'RKS', 'GUM', 'TVC', 'ALO', 'IMT',\n",
       "       'LCH', 'JNU', 'JAC', 'MEI', 'DBQ', 'GCK', 'GNV', 'BRD', 'DIK',\n",
       "       'SDF', 'LBB', 'AVP', 'BTM', 'ELM', 'PIH', 'ICT', 'SUN', 'LWS',\n",
       "       'VEL', 'STT', 'YUM', 'FLG', 'FCA', 'HDN', 'JMS', 'ROA', 'CHA',\n",
       "       'EYW', 'MYR', 'CRW', 'MQT', 'CHO', 'ECP', 'EVV', 'EGE', 'MBS',\n",
       "       'GFK', 'TOL', 'BIL', 'OTZ', 'KTN', 'STX', 'ILM', 'PUB', 'RHI',\n",
       "       'CDC', 'HRL', 'SCC', 'FNT', 'LSE', 'MMH', 'APN', 'AGS', 'CEC',\n",
       "       'DHN', 'WRG', 'PHF', 'CNY', 'BRW', 'GGG', 'AZO', 'SRQ', 'ORH',\n",
       "       'TRI', 'VLD', 'SIT', 'BQK', 'PSG', 'FAY', 'MKG', 'CSG', 'EWN',\n",
       "       'OME', 'SGU', 'RST', 'GTR', 'BET', 'ABY', 'SWF', 'ILG', 'ADK',\n",
       "       'UST', 'YAK', 'CDV', 'OTH', 'ADQ', 'PPG', 'BGM', 'BGR', 'ITH',\n",
       "       'ACK', 'MVY', 'WYS', 'DLG', 'AKN', 'GST', 'HYA', '14747', '14771',\n",
       "       '12889', '12892', '14869', '10299', '11292', '14107', '11630',\n",
       "       '10732', '14254', '10141', '10627', '11982', '12173', '13930',\n",
       "       '14683', '12266', '11618', '10721', '13487', '11884', '15919',\n",
       "       '13851', '11111', '10693', '12191', '14783', '15016', '14487',\n",
       "       '10423', '15370', '11953', '13891', '15376', '11778', '11278',\n",
       "       '14100', '13204', '15304', '11637', '14842', '10155', '11775',\n",
       "       '11298', '11057', '13931', '10821', '14122', '11049', '10990',\n",
       "       '10631', '13158', '14108', '13198', '11447', '12206', '13495',\n",
       "       '14057', '15624', '10747', '15411', '12891', '10994', '13256',\n",
       "       '10792', '14492', '12451', '13127', '10781', '14960', '12278',\n",
       "       '14685', '11995', '13485', '11977', '10257', '13796', '13232',\n",
       "       '13296', '14570', '14893', '14524', '12217', '10713', '10208',\n",
       "       '10136', '11603', '14689', '11471', '11315', '13264', '12478',\n",
       "       '14814', '11308', '11066', '12896', '10397', '14307', '11721',\n",
       "       '11140', '10185', '13277', '11203', '13342', '11433', '11697',\n",
       "       '12953', '10599', '12156', '14952', '10620', '11042', '15096',\n",
       "       '10408', '15249', '11423', '12915', '12264', '12339', '10140',\n",
       "       '13871', '14027', '13244', '11267', '11540', '14576', '10868',\n",
       "       '13486', '13476', '14489', '12945', '15607', '10529', '11986',\n",
       "       '14635', '13303', '10785', '15380', '11996', '10561', '10874',\n",
       "       '13367', '10146', '10431', '11973', '10980', '12197', '14098',\n",
       "       '12323', '10577', '11150', '10135', '11617', '13795', '13029',\n",
       "       '11003', '11146', '11577', '15356', '11259', '10279', '14321',\n",
       "       '14843', '11638', '14828', '11481', '12951', '10434', '12448',\n",
       "       '14730', '15323', '14252', '11193', '10849', '14193', '14986',\n",
       "       '11641', '12992', '13422', '11612', '11823', '11980', '13290',\n",
       "       '10158', '10685', '13377', '11109', '11076', '11122', '11865',\n",
       "       '14543', '14905', '11587', '14457', '12335', '12343', '12003',\n",
       "       '10157', '12884', '14633', '15048', '10268', '15295', '12389',\n",
       "       '11525', '14262', '12888', '12391', '11648', '14696', '12758',\n",
       "       '13830', '10469', '15412', '10731', '14679', '14831', '11413',\n",
       "       '13433', '12982', '11867', '14698', '11537', '15389', '12402',\n",
       "       '11337', '13360', '13076', '14006', '10728', '15401', '13230',\n",
       "       '12016', '11067', '11274', '11921', '12519', '11013', '10779',\n",
       "       '14150', '14794', '12511', '12177', '12523', '14908', '12007',\n",
       "       '14588', '13577', '13061', '15041', '14109', '10800', '12954',\n",
       "       '12441', '12898', '11695', '16218', '14113', '11624', '11503',\n",
       "       '10739', '14574', '14711', '12129', '15070', '14520', '13184',\n",
       "       '11252', '12280', '13241', '11898', '15024', '14674', '10551',\n",
       "       '12819', '13459', '10581', '13970', '10372', '10918', '14709',\n",
       "       '12255', '11905', '10333', '15841', '13344', '13933', '15991',\n",
       "       '10754', '14256', '12094', '13873', '11097', '10154', '10926',\n",
       "       '13964', '13541', '15027', '10170', '10165', '15497', '12265',\n",
       "       '14222', '14025', '13502'], dtype=object)"
      ]
     },
     "execution_count": 111,
     "metadata": {},
     "output_type": "execute_result"
    }
   ],
   "source": [
    "unique('ORIGIN_AIRPORT')"
   ]
  },
  {
   "cell_type": "code",
   "execution_count": 112,
   "metadata": {
    "colab": {
     "base_uri": "https://localhost:8080/"
    },
    "id": "3KpjtiCHmd_r",
    "outputId": "b06bdeda-c3bb-4b47-cd64-173f18ddda43"
   },
   "outputs": [
    {
     "data": {
      "text/plain": [
       "0      ABE\n",
       "1      ABI\n",
       "2      ABQ\n",
       "3      ABR\n",
       "4      ABY\n",
       "      ... \n",
       "317    WRG\n",
       "318    WYS\n",
       "319    XNA\n",
       "320    YAK\n",
       "321    YUM\n",
       "Name: IATA_CODE, Length: 322, dtype: object"
      ]
     },
     "execution_count": 112,
     "metadata": {},
     "output_type": "execute_result"
    }
   ],
   "source": [
    "df_airports['IATA_CODE']"
   ]
  },
  {
   "cell_type": "code",
   "execution_count": 113,
   "metadata": {
    "colab": {
     "base_uri": "https://localhost:8080/"
    },
    "id": "RndMrSkXnHyg",
    "outputId": "e07ff8d3-cece-4d40-d9df-66dd80035da8"
   },
   "outputs": [
    {
     "name": "stdout",
     "output_type": "stream",
     "text": [
      "[0, 1, 2, 3, 4, 5, 6, 7, 8, 9, 10, 11, 12, 13, 14, 15, 16, 17, 18, 19, 20, 21, 22, 23, 24, 25, 26, 27, 28, 29, 30, 31, 32, 33, 34, 35, 36, 37, 38, 39, 40, 41, 42, 43, 44, 45, 46, 47, 48, 49, 50, 51, 52, 53, 54, 55, 56, 57, 58, 59, 60, 61, 62, 63, 64, 65, 66, 67, 68, 69, 70, 71, 72, 73, 74, 75, 76, 77, 78, 79, 80, 81, 82, 83, 84, 85, 86, 87, 88, 89, 90, 91, 92, 93, 94, 95, 96, 97, 98, 99, 100, 101, 102, 103, 104, 105, 106, 107, 108, 109, 110, 111, 112, 113, 114, 115, 116, 117, 118, 119, 120, 121, 122, 123, 124, 125, 126, 127, 128, 129, 130, 131, 132, 133, 134, 135, 136, 137, 138, 139, 140, 141, 142, 143, 144, 145, 146, 147, 148, 149, 150, 151, 152, 153, 154, 155, 156, 157, 158, 159, 160, 161, 162, 163, 164, 165, 166, 167, 168, 169, 170, 171, 172, 173, 174, 175, 176, 177, 178, 179, 180, 181, 182, 183, 184, 185, 186, 187, 188, 189, 190, 191, 192, 193, 194, 195, 196, 197, 198, 199, 200, 201, 202, 203, 204, 205, 206, 207, 208, 209, 210, 211, 212, 213, 214, 215, 216, 217, 218, 219, 220, 221, 222, 223, 224, 225, 226, 227, 228, 229, 230, 231, 232, 233, 234, 235, 236, 237, 238, 239, 240, 241, 242, 243, 244, 245, 246, 247, 248, 249, 250, 251, 252, 253, 254, 255, 256, 257, 258, 259, 260, 261, 262, 263, 264, 265, 266, 267, 268, 269, 270, 271, 272, 273, 274, 275, 276, 277, 278, 279, 280, 281, 282, 283, 284, 285, 286, 287, 288, 289, 290, 291, 292, 293, 294, 295, 296, 297, 298, 299, 300, 301, 302, 303, 304, 305, 306, 307, 308, 309, 310, 311, 312, 313, 314, 315, 316, 317, 318, 319, 320, 321] ['ABE', 'ABI', 'ABQ', 'ABR', 'ABY', 'ACK', 'ACT', 'ACV', 'ACY', 'ADK', 'ADQ', 'AEX', 'AGS', 'AKN', 'ALB', 'ALO', 'AMA', 'ANC', 'APN', 'ASE', 'ATL', 'ATW', 'AUS', 'AVL', 'AVP', 'AZO', 'BDL', 'BET', 'BFL', 'BGM', 'BGR', 'BHM', 'BIL', 'BIS', 'BJI', 'BLI', 'BMI', 'BNA', 'BOI', 'BOS', 'BPT', 'BQK', 'BQN', 'BRD', 'BRO', 'BRW', 'BTM', 'BTR', 'BTV', 'BUF', 'BUR', 'BWI', 'BZN', 'CAE', 'CAK', 'CDC', 'CDV', 'CEC', 'CHA', 'CHO', 'CHS', 'CID', 'CIU', 'CLD', 'CLE', 'CLL', 'CLT', 'CMH', 'CMI', 'CMX', 'CNY', 'COD', 'COS', 'COU', 'CPR', 'CRP', 'CRW', 'CSG', 'CVG', 'CWA', 'DAB', 'DAL', 'DAY', 'DBQ', 'DCA', 'DEN', 'DFW', 'DHN', 'DIK', 'DLG', 'DLH', 'DRO', 'DSM', 'DTW', 'DVL', 'EAU', 'ECP', 'EGE', 'EKO', 'ELM', 'ELP', 'ERI', 'ESC', 'EUG', 'EVV', 'EWN', 'EWR', 'EYW', 'FAI', 'FAR', 'FAT', 'FAY', 'FCA', 'FLG', 'FLL', 'FNT', 'FSD', 'FSM', 'FWA', 'GCC', 'GCK', 'GEG', 'GFK', 'GGG', 'GJT', 'GNV', 'GPT', 'GRB', 'GRI', 'GRK', 'GRR', 'GSO', 'GSP', 'GST', 'GTF', 'GTR', 'GUC', 'GUM', 'HDN', 'HIB', 'HLN', 'HNL', 'HOB', 'HOU', 'HPN', 'HRL', 'HSV', 'HYA', 'HYS', 'IAD', 'IAG', 'IAH', 'ICT', 'IDA', 'ILG', 'ILM', 'IMT', 'IND', 'INL', 'ISN', 'ISP', 'ITH', 'ITO', 'JAC', 'JAN', 'JAX', 'JFK', 'JLN', 'JMS', 'JNU', 'KOA', 'KTN', 'LAN', 'LAR', 'LAS', 'LAW', 'LAX', 'LBB', 'LBE', 'LCH', 'LEX', 'LFT', 'LGA', 'LGB', 'LIH', 'LIT', 'LNK', 'LRD', 'LSE', 'LWS', 'MAF', 'MBS', 'MCI', 'MCO', 'MDT', 'MDW', 'MEI', 'MEM', 'MFE', 'MFR', 'MGM', 'MHK', 'MHT', 'MIA', 'MKE', 'MKG', 'MLB', 'MLI', 'MLU', 'MMH', 'MOB', 'MOT', 'MQT', 'MRY', 'MSN', 'MSO', 'MSP', 'MSY', 'MTJ', 'MVY', 'MYR', 'OAJ', 'OAK', 'OGG', 'OKC', 'OMA', 'OME', 'ONT', 'ORD', 'ORF', 'ORH', 'OTH', 'OTZ', 'PAH', 'PBG', 'PBI', 'PDX', 'PHF', 'PHL', 'PHX', 'PIA', 'PIB', 'PIH', 'PIT', 'PLN', 'PNS', 'PPG', 'PSC', 'PSE', 'PSG', 'PSP', 'PUB', 'PVD', 'PWM', 'RAP', 'RDD', 'RDM', 'RDU', 'RHI', 'RIC', 'RKS', 'RNO', 'ROA', 'ROC', 'ROW', 'RST', 'RSW', 'SAF', 'SAN', 'SAT', 'SAV', 'SBA', 'SBN', 'SBP', 'SCC', 'SCE', 'SDF', 'SEA', 'SFO', 'SGF', 'SGU', 'SHV', 'SIT', 'SJC', 'SJT', 'SJU', 'SLC', 'SMF', 'SMX', 'SNA', 'SPI', 'SPS', 'SRQ', 'STC', 'STL', 'STT', 'STX', 'SUN', 'SUX', 'SWF', 'SYR', 'TLH', 'TOL', 'TPA', 'TRI', 'TTN', 'TUL', 'TUS', 'TVC', 'TWF', 'TXK', 'TYR', 'TYS', 'UST', 'VEL', 'VLD', 'VPS', 'WRG', 'WYS', 'XNA', 'YAK', 'YUM']\n"
     ]
    }
   ],
   "source": [
    "lst_number = []\n",
    "lst_name = []\n",
    "for i, name in enumerate(df_airports['IATA_CODE']):\n",
    "  lst_number.append(i)\n",
    "  lst_name.append(name)\n",
    "\n",
    "print(lst_number, lst_name)"
   ]
  },
  {
   "cell_type": "code",
   "execution_count": 114,
   "metadata": {
    "id": "JTwMTG_OoNGm"
   },
   "outputs": [],
   "source": [
    "data_dict = dict(zip(lst_name, lst_number))\n"
   ]
  },
  {
   "cell_type": "code",
   "execution_count": 115,
   "metadata": {
    "colab": {
     "base_uri": "https://localhost:8080/"
    },
    "id": "uVh4Ba4FPi_9",
    "outputId": "29ec37cd-8d5c-4b54-825a-6909a6d43b92"
   },
   "outputs": [
    {
     "data": {
      "text/plain": [
       "{'ABE': 0,\n",
       " 'ABI': 1,\n",
       " 'ABQ': 2,\n",
       " 'ABR': 3,\n",
       " 'ABY': 4,\n",
       " 'ACK': 5,\n",
       " 'ACT': 6,\n",
       " 'ACV': 7,\n",
       " 'ACY': 8,\n",
       " 'ADK': 9,\n",
       " 'ADQ': 10,\n",
       " 'AEX': 11,\n",
       " 'AGS': 12,\n",
       " 'AKN': 13,\n",
       " 'ALB': 14,\n",
       " 'ALO': 15,\n",
       " 'AMA': 16,\n",
       " 'ANC': 17,\n",
       " 'APN': 18,\n",
       " 'ASE': 19,\n",
       " 'ATL': 20,\n",
       " 'ATW': 21,\n",
       " 'AUS': 22,\n",
       " 'AVL': 23,\n",
       " 'AVP': 24,\n",
       " 'AZO': 25,\n",
       " 'BDL': 26,\n",
       " 'BET': 27,\n",
       " 'BFL': 28,\n",
       " 'BGM': 29,\n",
       " 'BGR': 30,\n",
       " 'BHM': 31,\n",
       " 'BIL': 32,\n",
       " 'BIS': 33,\n",
       " 'BJI': 34,\n",
       " 'BLI': 35,\n",
       " 'BMI': 36,\n",
       " 'BNA': 37,\n",
       " 'BOI': 38,\n",
       " 'BOS': 39,\n",
       " 'BPT': 40,\n",
       " 'BQK': 41,\n",
       " 'BQN': 42,\n",
       " 'BRD': 43,\n",
       " 'BRO': 44,\n",
       " 'BRW': 45,\n",
       " 'BTM': 46,\n",
       " 'BTR': 47,\n",
       " 'BTV': 48,\n",
       " 'BUF': 49,\n",
       " 'BUR': 50,\n",
       " 'BWI': 51,\n",
       " 'BZN': 52,\n",
       " 'CAE': 53,\n",
       " 'CAK': 54,\n",
       " 'CDC': 55,\n",
       " 'CDV': 56,\n",
       " 'CEC': 57,\n",
       " 'CHA': 58,\n",
       " 'CHO': 59,\n",
       " 'CHS': 60,\n",
       " 'CID': 61,\n",
       " 'CIU': 62,\n",
       " 'CLD': 63,\n",
       " 'CLE': 64,\n",
       " 'CLL': 65,\n",
       " 'CLT': 66,\n",
       " 'CMH': 67,\n",
       " 'CMI': 68,\n",
       " 'CMX': 69,\n",
       " 'CNY': 70,\n",
       " 'COD': 71,\n",
       " 'COS': 72,\n",
       " 'COU': 73,\n",
       " 'CPR': 74,\n",
       " 'CRP': 75,\n",
       " 'CRW': 76,\n",
       " 'CSG': 77,\n",
       " 'CVG': 78,\n",
       " 'CWA': 79,\n",
       " 'DAB': 80,\n",
       " 'DAL': 81,\n",
       " 'DAY': 82,\n",
       " 'DBQ': 83,\n",
       " 'DCA': 84,\n",
       " 'DEN': 85,\n",
       " 'DFW': 86,\n",
       " 'DHN': 87,\n",
       " 'DIK': 88,\n",
       " 'DLG': 89,\n",
       " 'DLH': 90,\n",
       " 'DRO': 91,\n",
       " 'DSM': 92,\n",
       " 'DTW': 93,\n",
       " 'DVL': 94,\n",
       " 'EAU': 95,\n",
       " 'ECP': 96,\n",
       " 'EGE': 97,\n",
       " 'EKO': 98,\n",
       " 'ELM': 99,\n",
       " 'ELP': 100,\n",
       " 'ERI': 101,\n",
       " 'ESC': 102,\n",
       " 'EUG': 103,\n",
       " 'EVV': 104,\n",
       " 'EWN': 105,\n",
       " 'EWR': 106,\n",
       " 'EYW': 107,\n",
       " 'FAI': 108,\n",
       " 'FAR': 109,\n",
       " 'FAT': 110,\n",
       " 'FAY': 111,\n",
       " 'FCA': 112,\n",
       " 'FLG': 113,\n",
       " 'FLL': 114,\n",
       " 'FNT': 115,\n",
       " 'FSD': 116,\n",
       " 'FSM': 117,\n",
       " 'FWA': 118,\n",
       " 'GCC': 119,\n",
       " 'GCK': 120,\n",
       " 'GEG': 121,\n",
       " 'GFK': 122,\n",
       " 'GGG': 123,\n",
       " 'GJT': 124,\n",
       " 'GNV': 125,\n",
       " 'GPT': 126,\n",
       " 'GRB': 127,\n",
       " 'GRI': 128,\n",
       " 'GRK': 129,\n",
       " 'GRR': 130,\n",
       " 'GSO': 131,\n",
       " 'GSP': 132,\n",
       " 'GST': 133,\n",
       " 'GTF': 134,\n",
       " 'GTR': 135,\n",
       " 'GUC': 136,\n",
       " 'GUM': 137,\n",
       " 'HDN': 138,\n",
       " 'HIB': 139,\n",
       " 'HLN': 140,\n",
       " 'HNL': 141,\n",
       " 'HOB': 142,\n",
       " 'HOU': 143,\n",
       " 'HPN': 144,\n",
       " 'HRL': 145,\n",
       " 'HSV': 146,\n",
       " 'HYA': 147,\n",
       " 'HYS': 148,\n",
       " 'IAD': 149,\n",
       " 'IAG': 150,\n",
       " 'IAH': 151,\n",
       " 'ICT': 152,\n",
       " 'IDA': 153,\n",
       " 'ILG': 154,\n",
       " 'ILM': 155,\n",
       " 'IMT': 156,\n",
       " 'IND': 157,\n",
       " 'INL': 158,\n",
       " 'ISN': 159,\n",
       " 'ISP': 160,\n",
       " 'ITH': 161,\n",
       " 'ITO': 162,\n",
       " 'JAC': 163,\n",
       " 'JAN': 164,\n",
       " 'JAX': 165,\n",
       " 'JFK': 166,\n",
       " 'JLN': 167,\n",
       " 'JMS': 168,\n",
       " 'JNU': 169,\n",
       " 'KOA': 170,\n",
       " 'KTN': 171,\n",
       " 'LAN': 172,\n",
       " 'LAR': 173,\n",
       " 'LAS': 174,\n",
       " 'LAW': 175,\n",
       " 'LAX': 176,\n",
       " 'LBB': 177,\n",
       " 'LBE': 178,\n",
       " 'LCH': 179,\n",
       " 'LEX': 180,\n",
       " 'LFT': 181,\n",
       " 'LGA': 182,\n",
       " 'LGB': 183,\n",
       " 'LIH': 184,\n",
       " 'LIT': 185,\n",
       " 'LNK': 186,\n",
       " 'LRD': 187,\n",
       " 'LSE': 188,\n",
       " 'LWS': 189,\n",
       " 'MAF': 190,\n",
       " 'MBS': 191,\n",
       " 'MCI': 192,\n",
       " 'MCO': 193,\n",
       " 'MDT': 194,\n",
       " 'MDW': 195,\n",
       " 'MEI': 196,\n",
       " 'MEM': 197,\n",
       " 'MFE': 198,\n",
       " 'MFR': 199,\n",
       " 'MGM': 200,\n",
       " 'MHK': 201,\n",
       " 'MHT': 202,\n",
       " 'MIA': 203,\n",
       " 'MKE': 204,\n",
       " 'MKG': 205,\n",
       " 'MLB': 206,\n",
       " 'MLI': 207,\n",
       " 'MLU': 208,\n",
       " 'MMH': 209,\n",
       " 'MOB': 210,\n",
       " 'MOT': 211,\n",
       " 'MQT': 212,\n",
       " 'MRY': 213,\n",
       " 'MSN': 214,\n",
       " 'MSO': 215,\n",
       " 'MSP': 216,\n",
       " 'MSY': 217,\n",
       " 'MTJ': 218,\n",
       " 'MVY': 219,\n",
       " 'MYR': 220,\n",
       " 'OAJ': 221,\n",
       " 'OAK': 222,\n",
       " 'OGG': 223,\n",
       " 'OKC': 224,\n",
       " 'OMA': 225,\n",
       " 'OME': 226,\n",
       " 'ONT': 227,\n",
       " 'ORD': 228,\n",
       " 'ORF': 229,\n",
       " 'ORH': 230,\n",
       " 'OTH': 231,\n",
       " 'OTZ': 232,\n",
       " 'PAH': 233,\n",
       " 'PBG': 234,\n",
       " 'PBI': 235,\n",
       " 'PDX': 236,\n",
       " 'PHF': 237,\n",
       " 'PHL': 238,\n",
       " 'PHX': 239,\n",
       " 'PIA': 240,\n",
       " 'PIB': 241,\n",
       " 'PIH': 242,\n",
       " 'PIT': 243,\n",
       " 'PLN': 244,\n",
       " 'PNS': 245,\n",
       " 'PPG': 246,\n",
       " 'PSC': 247,\n",
       " 'PSE': 248,\n",
       " 'PSG': 249,\n",
       " 'PSP': 250,\n",
       " 'PUB': 251,\n",
       " 'PVD': 252,\n",
       " 'PWM': 253,\n",
       " 'RAP': 254,\n",
       " 'RDD': 255,\n",
       " 'RDM': 256,\n",
       " 'RDU': 257,\n",
       " 'RHI': 258,\n",
       " 'RIC': 259,\n",
       " 'RKS': 260,\n",
       " 'RNO': 261,\n",
       " 'ROA': 262,\n",
       " 'ROC': 263,\n",
       " 'ROW': 264,\n",
       " 'RST': 265,\n",
       " 'RSW': 266,\n",
       " 'SAF': 267,\n",
       " 'SAN': 268,\n",
       " 'SAT': 269,\n",
       " 'SAV': 270,\n",
       " 'SBA': 271,\n",
       " 'SBN': 272,\n",
       " 'SBP': 273,\n",
       " 'SCC': 274,\n",
       " 'SCE': 275,\n",
       " 'SDF': 276,\n",
       " 'SEA': 277,\n",
       " 'SFO': 278,\n",
       " 'SGF': 279,\n",
       " 'SGU': 280,\n",
       " 'SHV': 281,\n",
       " 'SIT': 282,\n",
       " 'SJC': 283,\n",
       " 'SJT': 284,\n",
       " 'SJU': 285,\n",
       " 'SLC': 286,\n",
       " 'SMF': 287,\n",
       " 'SMX': 288,\n",
       " 'SNA': 289,\n",
       " 'SPI': 290,\n",
       " 'SPS': 291,\n",
       " 'SRQ': 292,\n",
       " 'STC': 293,\n",
       " 'STL': 294,\n",
       " 'STT': 295,\n",
       " 'STX': 296,\n",
       " 'SUN': 297,\n",
       " 'SUX': 298,\n",
       " 'SWF': 299,\n",
       " 'SYR': 300,\n",
       " 'TLH': 301,\n",
       " 'TOL': 302,\n",
       " 'TPA': 303,\n",
       " 'TRI': 304,\n",
       " 'TTN': 305,\n",
       " 'TUL': 306,\n",
       " 'TUS': 307,\n",
       " 'TVC': 308,\n",
       " 'TWF': 309,\n",
       " 'TXK': 310,\n",
       " 'TYR': 311,\n",
       " 'TYS': 312,\n",
       " 'UST': 313,\n",
       " 'VEL': 314,\n",
       " 'VLD': 315,\n",
       " 'VPS': 316,\n",
       " 'WRG': 317,\n",
       " 'WYS': 318,\n",
       " 'XNA': 319,\n",
       " 'YAK': 320,\n",
       " 'YUM': 321}"
      ]
     },
     "execution_count": 115,
     "metadata": {},
     "output_type": "execute_result"
    }
   ],
   "source": [
    "data_dict"
   ]
  },
  {
   "cell_type": "code",
   "execution_count": 116,
   "metadata": {
    "id": "5hYOYtJRPp27"
   },
   "outputs": [],
   "source": [
    "lst = df_flights['ORIGIN_AIRPORT'].tolist()"
   ]
  },
  {
   "cell_type": "code",
   "execution_count": 117,
   "metadata": {
    "colab": {
     "base_uri": "https://localhost:8080/"
    },
    "id": "OGWLJOkoQb1R",
    "outputId": "bed93f76-11d6-410f-9646-ef9ba2f33eda"
   },
   "outputs": [
    {
     "data": {
      "text/plain": [
       "5819079"
      ]
     },
     "execution_count": 117,
     "metadata": {},
     "output_type": "execute_result"
    }
   ],
   "source": [
    "len(lst)"
   ]
  },
  {
   "cell_type": "code",
   "execution_count": 118,
   "metadata": {
    "id": "6xSEvHugQBUM"
   },
   "outputs": [],
   "source": [
    "lst_acro = []\n",
    "\n",
    "for acro in lst:\n",
    "  if acro in data_dict:\n",
    "    number = data_dict[acro]\n",
    "    number = int(number)\n",
    "    lst_acro.append(number)\n",
    "  else:\n",
    "    lst_acro.append(acro)"
   ]
  },
  {
   "cell_type": "code",
   "execution_count": 119,
   "metadata": {
    "colab": {
     "base_uri": "https://localhost:8080/"
    },
    "id": "k_m5NfQJQYff",
    "outputId": "7c01c442-c73e-41a7-b9eb-b9404155ff21"
   },
   "outputs": [
    {
     "data": {
      "text/plain": [
       "5819079"
      ]
     },
     "execution_count": 119,
     "metadata": {},
     "output_type": "execute_result"
    }
   ],
   "source": [
    "len(lst_acro)"
   ]
  },
  {
   "cell_type": "code",
   "execution_count": 120,
   "metadata": {
    "id": "uji94DYBEYME"
   },
   "outputs": [],
   "source": [
    "# data_list = df_flights['ORIGIN_AIRPORT']\n",
    "# lst_of_acro_in_number = []\n",
    "# acro = []\n",
    "\n",
    "# for acro in data_list:\n",
    "#   for i in range(len(lst_name)):\n",
    "#     if str(acro) == lst_name[i]:\n",
    "#       x = lst_name.index(lst_name[i])\n",
    "#       lst_of_acro_in_number.append(x)\n",
    "#       i += 1\n",
    "#     else:\n",
    "#       i += 1\n",
    "#       continue"
   ]
  },
  {
   "cell_type": "code",
   "execution_count": 121,
   "metadata": {
    "id": "WbESr2CT_1oR"
   },
   "outputs": [],
   "source": [
    "df_acro_in_num = pd.DataFrame(lst_acro, columns=['AIR_ACRO_IN_NUM'])"
   ]
  },
  {
   "cell_type": "code",
   "execution_count": 122,
   "metadata": {
    "id": "zlxiDglZG1jB"
   },
   "outputs": [],
   "source": [
    "df_flights = pd.concat([df_flights, df_acro_in_num], axis=1, join='inner')"
   ]
  },
  {
   "cell_type": "code",
   "execution_count": 123,
   "metadata": {
    "colab": {
     "base_uri": "https://localhost:8080/"
    },
    "id": "LObnDT21HEMH",
    "outputId": "04b58aab-476a-4a7e-9b3e-311efce0515a"
   },
   "outputs": [
    {
     "name": "stdout",
     "output_type": "stream",
     "text": [
      "<class 'pandas.core.frame.DataFrame'>\n",
      "RangeIndex: 5819079 entries, 0 to 5819078\n",
      "Data columns (total 47 columns):\n",
      " #   Column               Dtype  \n",
      "---  ------               -----  \n",
      " 0   YEAR                 int64  \n",
      " 1   MONTH                int64  \n",
      " 2   DAY                  int64  \n",
      " 3   DAY_OF_WEEK          int64  \n",
      " 4   ORIGIN_AIRPORT       object \n",
      " 5   DESTINATION_AIRPORT  object \n",
      " 6   SCHEDULED_DEPARTURE  int64  \n",
      " 7   DEPARTURE_TIME       float64\n",
      " 8   DEPARTURE_DELAY      float64\n",
      " 9   TAXI_OUT             float64\n",
      " 10  WHEELS_OFF           float64\n",
      " 11  SCHEDULED_TIME       float64\n",
      " 12  ELAPSED_TIME         float64\n",
      " 13  AIR_TIME             float64\n",
      " 14  DISTANCE             int32  \n",
      " 15  WHEELS_ON            float64\n",
      " 16  TAXI_IN              float64\n",
      " 17  SCHEDULED_ARRIVAL    int64  \n",
      " 18  ARRIVAL_TIME         float64\n",
      " 19  ARRIVAL_DELAY        float64\n",
      " 20  DIVERTED             int32  \n",
      " 21  CANCELLED            int32  \n",
      " 22  AIR_SYSTEM_DELAY     float64\n",
      " 23  SECURITY_DELAY       float64\n",
      " 24  AIRLINE_DELAY        float64\n",
      " 25  LATE_AIRCRAFT_DELAY  float64\n",
      " 26  WEATHER_DELAY        float64\n",
      " 27  FULL_DATA            object \n",
      " 28  Option_A             bool   \n",
      " 29  Option_B             bool   \n",
      " 30  Option_C             bool   \n",
      " 31  Option_D             bool   \n",
      " 32  Airlines_AA          bool   \n",
      " 33  Airlines_AS          bool   \n",
      " 34  Airlines_B6          bool   \n",
      " 35  Airlines_DL          bool   \n",
      " 36  Airlines_EV          bool   \n",
      " 37  Airlines_F9          bool   \n",
      " 38  Airlines_HA          bool   \n",
      " 39  Airlines_MQ          bool   \n",
      " 40  Airlines_NK          bool   \n",
      " 41  Airlines_OO          bool   \n",
      " 42  Airlines_UA          bool   \n",
      " 43  Airlines_US          bool   \n",
      " 44  Airlines_VX          bool   \n",
      " 45  Airlines_WN          bool   \n",
      " 46  AIR_ACRO_IN_NUM      object \n",
      "dtypes: bool(18), float64(16), int32(3), int64(6), object(4)\n",
      "memory usage: 1.3+ GB\n"
     ]
    }
   ],
   "source": [
    "df_flights.info()"
   ]
  },
  {
   "cell_type": "code",
   "execution_count": 124,
   "metadata": {
    "colab": {
     "base_uri": "https://localhost:8080/"
    },
    "id": "IQk3_uRwHK32",
    "outputId": "1d3b1279-1f40-4b3a-bf88-a4da53f4ef92"
   },
   "outputs": [
    {
     "data": {
      "text/plain": [
       "0           17\n",
       "1          176\n",
       "2          278\n",
       "3          176\n",
       "4          277\n",
       "          ... \n",
       "5819074    176\n",
       "5819075    166\n",
       "5819076    166\n",
       "5819077    193\n",
       "5819078    166\n",
       "Name: AIR_ACRO_IN_NUM, Length: 5819079, dtype: object"
      ]
     },
     "execution_count": 124,
     "metadata": {},
     "output_type": "execute_result"
    }
   ],
   "source": [
    "df_flights['AIR_ACRO_IN_NUM']"
   ]
  },
  {
   "cell_type": "code",
   "execution_count": 125,
   "metadata": {
    "colab": {
     "base_uri": "https://localhost:8080/"
    },
    "id": "UDy4MJmxHYOo",
    "outputId": "32909e4b-4908-4173-da10-9fe7e56e974d"
   },
   "outputs": [
    {
     "data": {
      "text/plain": [
       "0"
      ]
     },
     "execution_count": 125,
     "metadata": {},
     "output_type": "execute_result"
    }
   ],
   "source": [
    "count_nan_in_column(df_flights, 'AIR_ACRO_IN_NUM')"
   ]
  },
  {
   "cell_type": "code",
   "execution_count": 126,
   "metadata": {
    "colab": {
     "base_uri": "https://localhost:8080/"
    },
    "id": "Yg9juKdmIIIu",
    "outputId": "04117261-e25f-4e7c-9019-39c17c7f0513"
   },
   "outputs": [
    {
     "data": {
      "text/plain": [
       "0"
      ]
     },
     "execution_count": 126,
     "metadata": {},
     "output_type": "execute_result"
    }
   ],
   "source": [
    "count_nan_in_column(df_flights, 'ORIGIN_AIRPORT')"
   ]
  },
  {
   "cell_type": "markdown",
   "metadata": {
    "id": "nXA0m2FAIu1q"
   },
   "source": [
    "#### DESTINATION_AIRPORT"
   ]
  },
  {
   "cell_type": "code",
   "execution_count": 127,
   "metadata": {
    "colab": {
     "base_uri": "https://localhost:8080/"
    },
    "id": "8vi4Y7dbIwGZ",
    "outputId": "c2298055-4ecf-4a58-9f70-69195c6f7bb5"
   },
   "outputs": [
    {
     "data": {
      "text/plain": [
       "0"
      ]
     },
     "execution_count": 127,
     "metadata": {},
     "output_type": "execute_result"
    }
   ],
   "source": [
    "count_nan_in_column(df_flights, 'DESTINATION_AIRPORT')"
   ]
  },
  {
   "cell_type": "code",
   "execution_count": 128,
   "metadata": {
    "id": "pFiPIldtTYsU"
   },
   "outputs": [],
   "source": [
    "lst = df_flights['DESTINATION_AIRPORT'].tolist()"
   ]
  },
  {
   "cell_type": "code",
   "execution_count": 129,
   "metadata": {
    "id": "Azul1PEmTdi1"
   },
   "outputs": [],
   "source": [
    "lst_acro = []\n",
    "\n",
    "for acro in lst:\n",
    "  if acro in data_dict:\n",
    "    number = data_dict[acro]\n",
    "    lst_acro.append(number)\n",
    "  else:\n",
    "    lst_acro.append(acro)"
   ]
  },
  {
   "cell_type": "code",
   "execution_count": 130,
   "metadata": {
    "id": "ViGiqWT3JWNf"
   },
   "outputs": [],
   "source": [
    "df_dest_acro_in_num = pd.DataFrame(lst_acro, columns=['DEST_AIR_ACRO_IN_NUM'])"
   ]
  },
  {
   "cell_type": "code",
   "execution_count": 131,
   "metadata": {
    "id": "mQAn4hn3Jbxp"
   },
   "outputs": [],
   "source": [
    "df_flights = pd.concat([df_flights, df_dest_acro_in_num], axis=1, join='inner')"
   ]
  },
  {
   "cell_type": "code",
   "execution_count": 132,
   "metadata": {
    "colab": {
     "base_uri": "https://localhost:8080/"
    },
    "id": "1mAms2pJJewR",
    "outputId": "1185ffc8-7069-47f7-80d3-d1730ee3789d"
   },
   "outputs": [
    {
     "name": "stdout",
     "output_type": "stream",
     "text": [
      "<class 'pandas.core.frame.DataFrame'>\n",
      "RangeIndex: 5819079 entries, 0 to 5819078\n",
      "Data columns (total 48 columns):\n",
      " #   Column                Dtype  \n",
      "---  ------                -----  \n",
      " 0   YEAR                  int64  \n",
      " 1   MONTH                 int64  \n",
      " 2   DAY                   int64  \n",
      " 3   DAY_OF_WEEK           int64  \n",
      " 4   ORIGIN_AIRPORT        object \n",
      " 5   DESTINATION_AIRPORT   object \n",
      " 6   SCHEDULED_DEPARTURE   int64  \n",
      " 7   DEPARTURE_TIME        float64\n",
      " 8   DEPARTURE_DELAY       float64\n",
      " 9   TAXI_OUT              float64\n",
      " 10  WHEELS_OFF            float64\n",
      " 11  SCHEDULED_TIME        float64\n",
      " 12  ELAPSED_TIME          float64\n",
      " 13  AIR_TIME              float64\n",
      " 14  DISTANCE              int32  \n",
      " 15  WHEELS_ON             float64\n",
      " 16  TAXI_IN               float64\n",
      " 17  SCHEDULED_ARRIVAL     int64  \n",
      " 18  ARRIVAL_TIME          float64\n",
      " 19  ARRIVAL_DELAY         float64\n",
      " 20  DIVERTED              int32  \n",
      " 21  CANCELLED             int32  \n",
      " 22  AIR_SYSTEM_DELAY      float64\n",
      " 23  SECURITY_DELAY        float64\n",
      " 24  AIRLINE_DELAY         float64\n",
      " 25  LATE_AIRCRAFT_DELAY   float64\n",
      " 26  WEATHER_DELAY         float64\n",
      " 27  FULL_DATA             object \n",
      " 28  Option_A              bool   \n",
      " 29  Option_B              bool   \n",
      " 30  Option_C              bool   \n",
      " 31  Option_D              bool   \n",
      " 32  Airlines_AA           bool   \n",
      " 33  Airlines_AS           bool   \n",
      " 34  Airlines_B6           bool   \n",
      " 35  Airlines_DL           bool   \n",
      " 36  Airlines_EV           bool   \n",
      " 37  Airlines_F9           bool   \n",
      " 38  Airlines_HA           bool   \n",
      " 39  Airlines_MQ           bool   \n",
      " 40  Airlines_NK           bool   \n",
      " 41  Airlines_OO           bool   \n",
      " 42  Airlines_UA           bool   \n",
      " 43  Airlines_US           bool   \n",
      " 44  Airlines_VX           bool   \n",
      " 45  Airlines_WN           bool   \n",
      " 46  AIR_ACRO_IN_NUM       object \n",
      " 47  DEST_AIR_ACRO_IN_NUM  object \n",
      "dtypes: bool(18), float64(16), int32(3), int64(6), object(5)\n",
      "memory usage: 1.3+ GB\n"
     ]
    }
   ],
   "source": [
    "df_flights.info()"
   ]
  },
  {
   "cell_type": "code",
   "execution_count": 133,
   "metadata": {
    "colab": {
     "base_uri": "https://localhost:8080/"
    },
    "id": "UJ-lpKoCW-G0",
    "outputId": "fe78ef03-53e3-4484-d76c-0f7ad2c6d40d"
   },
   "outputs": [
    {
     "data": {
      "text/plain": [
       "RangeIndex(start=0, stop=5819079, step=1)"
      ]
     },
     "execution_count": 133,
     "metadata": {},
     "output_type": "execute_result"
    }
   ],
   "source": [
    "df_flights.index"
   ]
  },
  {
   "cell_type": "markdown",
   "metadata": {
    "id": "eSlRRDX0_dE1"
   },
   "source": [
    "## TIME IN MINUTES"
   ]
  },
  {
   "cell_type": "markdown",
   "metadata": {
    "id": "Txpl07hSK_TC"
   },
   "source": [
    "###AIRLINE_DELAY"
   ]
  },
  {
   "cell_type": "code",
   "execution_count": 134,
   "metadata": {
    "id": "zb5RGU-EpTkP"
   },
   "outputs": [],
   "source": [
    "data_value = df_flights['FULL_DATA']"
   ]
  },
  {
   "cell_type": "code",
   "execution_count": 135,
   "metadata": {
    "colab": {
     "base_uri": "https://localhost:8080/"
    },
    "id": "8PJoZC81LBpP",
    "outputId": "d999f798-78b3-4304-fd4d-7c3fb0a871b2"
   },
   "outputs": [
    {
     "name": "stdout",
     "output_type": "stream",
     "text": [
      "<class 'pandas.core.series.Series'>\n",
      "RangeIndex: 5819079 entries, 0 to 5819078\n",
      "Series name: AIRLINE_DELAY\n",
      "Non-Null Count    Dtype  \n",
      "--------------    -----  \n",
      "1063439 non-null  float64\n",
      "dtypes: float64(1)\n",
      "memory usage: 44.4 MB\n"
     ]
    }
   ],
   "source": [
    "df_flights['AIRLINE_DELAY'].info()\n"
   ]
  },
  {
   "cell_type": "code",
   "execution_count": 136,
   "metadata": {
    "id": "9cFF4DbDLTei"
   },
   "outputs": [],
   "source": [
    "#df_flights['AIRLINE_DELAY'].describe()"
   ]
  },
  {
   "cell_type": "code",
   "execution_count": 137,
   "metadata": {
    "id": "vW5-rF0rc3U8"
   },
   "outputs": [],
   "source": [
    "#first = count_nan_in_column(df_flights, 'AIRLINE_DELAY')"
   ]
  },
  {
   "cell_type": "code",
   "execution_count": 138,
   "metadata": {
    "id": "t8uooZ5-1uVs"
   },
   "outputs": [],
   "source": [
    "#first"
   ]
  },
  {
   "cell_type": "code",
   "execution_count": 139,
   "metadata": {
    "id": "kGZEiIeKvTwo"
   },
   "outputs": [],
   "source": [
    "#second = df_flights['AIRLINE_DELAY'].count()"
   ]
  },
  {
   "cell_type": "code",
   "execution_count": 140,
   "metadata": {
    "id": "u6fDtCzqvzBQ"
   },
   "outputs": [],
   "source": [
    "#nan_per(first, second)"
   ]
  },
  {
   "cell_type": "code",
   "execution_count": 141,
   "metadata": {
    "id": "Mhk39Mphpq_0"
   },
   "outputs": [],
   "source": [
    "#draw_plot(df_flights, data_value, 'AIRLINE_DELAY', 8, 6)"
   ]
  },
  {
   "cell_type": "code",
   "execution_count": 142,
   "metadata": {
    "id": "Eo2vj8XDa69g"
   },
   "outputs": [],
   "source": [
    "#airline_delay_sorted = df_flights.sort_values('AIRLINE_DELAY', ascending=False)\n",
    "\n",
    "# dane wydaje sie ze najelpeij wypelnic srednia"
   ]
  },
  {
   "cell_type": "code",
   "execution_count": 143,
   "metadata": {
    "id": "dH7zqh-A17qb"
   },
   "outputs": [],
   "source": [
    "#sum_my_column(df_flights, 'FULL_DATA', 'AIRLINE_DELAY', 8, 6)"
   ]
  },
  {
   "cell_type": "code",
   "execution_count": 144,
   "metadata": {
    "id": "mqb5VF0HB6tj"
   },
   "outputs": [],
   "source": [
    "#plt.hist(df_flights['AIRLINE_DELAY'])"
   ]
  },
  {
   "cell_type": "code",
   "execution_count": 145,
   "metadata": {
    "colab": {
     "base_uri": "https://localhost:8080/"
    },
    "id": "_oSzycmbPdqy",
    "outputId": "cb888352-16c2-49ba-d483-29a774b2c54d"
   },
   "outputs": [
    {
     "data": {
      "text/plain": [
       "RangeIndex(start=0, stop=5819079, step=1)"
      ]
     },
     "execution_count": 145,
     "metadata": {},
     "output_type": "execute_result"
    }
   ],
   "source": [
    "df_flights.index"
   ]
  },
  {
   "cell_type": "code",
   "execution_count": 146,
   "metadata": {
    "id": "asAJbkzCFshB"
   },
   "outputs": [],
   "source": [
    "upper = df_flights['AIRLINE_DELAY'].quantile(.99)\n",
    "lower = df_flights['AIRLINE_DELAY'].quantile(.05)"
   ]
  },
  {
   "cell_type": "code",
   "execution_count": 147,
   "metadata": {
    "colab": {
     "base_uri": "https://localhost:8080/"
    },
    "id": "lPufcDfRFzDG",
    "outputId": "4691d7df-0d74-42dd-efb2-c6d4f9c89378"
   },
   "outputs": [
    {
     "data": {
      "text/plain": [
       "211.0"
      ]
     },
     "execution_count": 147,
     "metadata": {},
     "output_type": "execute_result"
    }
   ],
   "source": [
    "upper"
   ]
  },
  {
   "cell_type": "code",
   "execution_count": 148,
   "metadata": {
    "colab": {
     "base_uri": "https://localhost:8080/"
    },
    "id": "K2nR8_duF1xs",
    "outputId": "adb7f576-4803-4af4-8598-68190e770336"
   },
   "outputs": [
    {
     "data": {
      "text/plain": [
       "0.0"
      ]
     },
     "execution_count": 148,
     "metadata": {},
     "output_type": "execute_result"
    }
   ],
   "source": [
    "lower"
   ]
  },
  {
   "cell_type": "code",
   "execution_count": 149,
   "metadata": {
    "colab": {
     "base_uri": "https://localhost:8080/"
    },
    "id": "np8ewdOaGExH",
    "outputId": "b480a128-b65e-4ab8-8ff8-26622f589952"
   },
   "outputs": [
    {
     "data": {
      "text/plain": [
       "RangeIndex(start=0, stop=5819079, step=1)"
      ]
     },
     "execution_count": 149,
     "metadata": {},
     "output_type": "execute_result"
    }
   ],
   "source": [
    "df_flights.index"
   ]
  },
  {
   "cell_type": "code",
   "execution_count": 150,
   "metadata": {
    "colab": {
     "base_uri": "https://localhost:8080/"
    },
    "id": "MwwDa1iZD7NV",
    "outputId": "a1673c45-d7f5-4fa8-a55c-122e2526acf7"
   },
   "outputs": [
    {
     "name": "stdout",
     "output_type": "stream",
     "text": [
      "3.3580058817435186\n"
     ]
    }
   ],
   "source": [
    "df_flights[\"AIRLINE_DELAY\"] = np.where(df_flights[\"AIRLINE_DELAY\"] <lower, lower,df_flights['AIRLINE_DELAY'])\n",
    "df_flights[\"AIRLINE_DELAY\"] = np.where(df_flights[\"AIRLINE_DELAY\"] >upper, upper,df_flights['AIRLINE_DELAY'])\n",
    "print(df_flights['AIRLINE_DELAY'].skew())"
   ]
  },
  {
   "cell_type": "code",
   "execution_count": 151,
   "metadata": {
    "colab": {
     "base_uri": "https://localhost:8080/"
    },
    "id": "ZuC_SsHlFq8q",
    "outputId": "aa41056c-af0b-47b6-bce8-cfc19aac9b67"
   },
   "outputs": [
    {
     "data": {
      "text/plain": [
       "RangeIndex(start=0, stop=5819079, step=1)"
      ]
     },
     "execution_count": 151,
     "metadata": {},
     "output_type": "execute_result"
    }
   ],
   "source": [
    "df_flights.index"
   ]
  },
  {
   "cell_type": "code",
   "execution_count": 152,
   "metadata": {
    "id": "soinhEOtGUaM"
   },
   "outputs": [],
   "source": [
    "#plt.hist(df_flights['AIRLINE_DELAY'])"
   ]
  },
  {
   "cell_type": "code",
   "execution_count": 153,
   "metadata": {
    "id": "ttCIF8o3HLqD"
   },
   "outputs": [],
   "source": [
    "#first = count_nan_in_column(df_flights, 'AIRLINE_DELAY')\n",
    "#second = df_flights['AIRLINE_DELAY'].count()\n",
    "#nan_per(first, second)"
   ]
  },
  {
   "cell_type": "code",
   "execution_count": 154,
   "metadata": {
    "id": "8H3tN5-UHwpC"
   },
   "outputs": [],
   "source": [
    "#sum_my_column(df_flights, 'FULL_DATA', 'AIRLINE_DELAY', 8, 6)"
   ]
  },
  {
   "cell_type": "code",
   "execution_count": 155,
   "metadata": {
    "id": "RwfmW9xBCKDg"
   },
   "outputs": [],
   "source": [
    "# def delate_outlayers(df, column, low, up):\n",
    "#   lower = df[column].quantile(low)\n",
    "#   upper = df[column].quantile(up)\n",
    "#   return df[(df[column]=<upper) & (df[column]>=lower)]"
   ]
  },
  {
   "cell_type": "code",
   "execution_count": 156,
   "metadata": {
    "id": "cPLGW5fOBt1i"
   },
   "outputs": [],
   "source": [
    "#plt.hist(df_flights['AIRLINE_DELAY'])"
   ]
  },
  {
   "cell_type": "code",
   "execution_count": 157,
   "metadata": {
    "id": "EY2IlFceKspR"
   },
   "outputs": [],
   "source": [
    "#df_flights.index"
   ]
  },
  {
   "cell_type": "markdown",
   "metadata": {
    "id": "GWWlh-uo6eVH"
   },
   "source": [
    "### LATE_AIRCRAFT_DELAY"
   ]
  },
  {
   "cell_type": "code",
   "execution_count": 158,
   "metadata": {
    "id": "QDXB4t2N6f3U"
   },
   "outputs": [],
   "source": [
    "#sum_my_column(df_flights, 'FULL_DATA', 'LATE_AIRCRAFT_DELAY', 8, 6)"
   ]
  },
  {
   "cell_type": "code",
   "execution_count": 159,
   "metadata": {
    "id": "5i9xSCN7C6oX"
   },
   "outputs": [],
   "source": [
    "#plt.hist(df_flights['LATE_AIRCRAFT_DELAY'])"
   ]
  },
  {
   "cell_type": "code",
   "execution_count": 160,
   "metadata": {
    "id": "Z7EyGclIPyBo"
   },
   "outputs": [],
   "source": [
    "df_flights['LATE_AIRCRAFT_DELAY'] = delate_outlayers(df_flights, 'LATE_AIRCRAFT_DELAY', 0.05, 0.99)"
   ]
  },
  {
   "cell_type": "code",
   "execution_count": 161,
   "metadata": {
    "colab": {
     "base_uri": "https://localhost:8080/"
    },
    "id": "Pf18Q3GMQKN3",
    "outputId": "48b1de68-8a1b-4355-d52e-e5c5d37a0093"
   },
   "outputs": [
    {
     "data": {
      "text/plain": [
       "(2.4963621058855514, RangeIndex(start=0, stop=5819079, step=1))"
      ]
     },
     "execution_count": 161,
     "metadata": {},
     "output_type": "execute_result"
    }
   ],
   "source": [
    "descript_lenght(df_flights, 'LATE_AIRCRAFT_DELAY')"
   ]
  },
  {
   "cell_type": "code",
   "execution_count": 162,
   "metadata": {
    "id": "0P_ApCQgRB_J"
   },
   "outputs": [],
   "source": [
    "#plt.hist(df_flights['LATE_AIRCRAFT_DELAY'])"
   ]
  },
  {
   "cell_type": "code",
   "execution_count": 163,
   "metadata": {
    "id": "T4j_IpuiR0FW"
   },
   "outputs": [],
   "source": [
    "#sum_my_column(df_flights, 'FULL_DATA', 'LATE_AIRCRAFT_DELAY', 8, 6)"
   ]
  },
  {
   "cell_type": "code",
   "execution_count": 164,
   "metadata": {
    "id": "UlMTlX0mqPFP"
   },
   "outputs": [],
   "source": [
    "#test = df_flights['ORIGIN_AIRPORT'].loc[:100]"
   ]
  },
  {
   "cell_type": "code",
   "execution_count": 165,
   "metadata": {
    "id": "dQ2zOEPhqbi3"
   },
   "outputs": [],
   "source": [
    "#test"
   ]
  },
  {
   "cell_type": "code",
   "execution_count": 166,
   "metadata": {
    "id": "LYgdD1ws4K2W"
   },
   "outputs": [],
   "source": [
    "# lst_test = []\n",
    "# for i in test:\n",
    "#   lst_test.append(i)\n",
    "\n",
    "# print(lst_test)"
   ]
  },
  {
   "cell_type": "code",
   "execution_count": 167,
   "metadata": {
    "id": "XIExxHCwq52Y"
   },
   "outputs": [],
   "source": [
    "#lst_name"
   ]
  },
  {
   "cell_type": "code",
   "execution_count": 168,
   "metadata": {
    "id": "0UK7InmTshl8"
   },
   "outputs": [],
   "source": [
    "#lst_name[66]"
   ]
  },
  {
   "cell_type": "markdown",
   "metadata": {
    "id": "YHH4Onxx00k_"
   },
   "source": [
    "przejrzyj liste 1 i przejrzyj liste druga\n",
    "\n",
    "porownaj dwie listy \n",
    "\n",
    "jesli wartosc znaleziona na liscie jeden jest rowna jakiejkowielk wartosci na liscie dwa to wez id z listy numer dwa i zapisz na 3 liscie "
   ]
  },
  {
   "cell_type": "code",
   "execution_count": 169,
   "metadata": {
    "id": "C_xdSo6A-6pb"
   },
   "outputs": [],
   "source": [
    "# for acro in test:\n",
    "#   print(acro)"
   ]
  },
  {
   "cell_type": "code",
   "execution_count": 170,
   "metadata": {
    "id": "8wyE8Fto1XXG"
   },
   "outputs": [],
   "source": [
    "#lst_name[1]"
   ]
  },
  {
   "cell_type": "code",
   "execution_count": 171,
   "metadata": {
    "id": "xXDyGZS-7P0y"
   },
   "outputs": [],
   "source": [
    "\n",
    "# if acro[0] == acro_small[0]:\n",
    "#   print('suc')\n",
    "# elif acro[0] == acro_small[1]:\n",
    "#   print('suc')\n",
    "# else acro[0] == acro_small[2]:\n",
    "#   print('suc')\n"
   ]
  },
  {
   "cell_type": "code",
   "execution_count": 172,
   "metadata": {
    "id": "HO2Ncxym9hmW"
   },
   "outputs": [],
   "source": [
    "# for acro in test:\n",
    "#   if acro[0] == acro_small[0]:\n",
    "#     print('suc')\n",
    "#   elif acro[0] == acro_small[1]:\n",
    "#     print('suc')\n",
    "#   else acro[0] == acro_small[2]:\n",
    "#     print('suc')\n"
   ]
  },
  {
   "cell_type": "code",
   "execution_count": 173,
   "metadata": {
    "id": "NxQUYQoc8BAk"
   },
   "outputs": [],
   "source": [
    "# lst = []\n",
    "# for i in range(len(lst_name)):\n",
    "#   if str(acro) == lst_name[i]:\n",
    "#     x = lst_name.index(lst_name[i])\n",
    "#     lst.append(x)\n",
    "#     i += 1\n",
    "#   else:\n",
    "#     i += 1\n",
    "#     continue\n",
    "\n",
    "# print(lst)"
   ]
  },
  {
   "cell_type": "code",
   "execution_count": 174,
   "metadata": {
    "id": "ZrYbBi2-_ZQG"
   },
   "outputs": [],
   "source": [
    "# lst = []\n",
    "# for acro in test:\n",
    "#   for i in range(len(lst_name)):\n",
    "#     if str(acro) == lst_name[i]:\n",
    "#       x = lst_name.index(lst_name[i])\n",
    "#       lst.append(x)\n",
    "#       i += 1\n",
    "#     else:\n",
    "#       i += 1\n",
    "#       continue\n",
    "\n",
    "# print(lst)  "
   ]
  },
  {
   "cell_type": "markdown",
   "metadata": {
    "id": "bwK4DELz6qfP"
   },
   "source": [
    "###WEATHER_DELAY"
   ]
  },
  {
   "cell_type": "code",
   "execution_count": 175,
   "metadata": {
    "id": "9IU5HBjg6rlF"
   },
   "outputs": [],
   "source": [
    "#sum_my_column(df_flights, 'FULL_DATA', 'WEATHER_DELAY', 8, 6)"
   ]
  },
  {
   "cell_type": "code",
   "execution_count": 176,
   "metadata": {
    "id": "vmz5SRm0DhbV"
   },
   "outputs": [],
   "source": [
    "#plt.hist(df_flights['WEATHER_DELAY'])"
   ]
  },
  {
   "cell_type": "code",
   "execution_count": 177,
   "metadata": {
    "colab": {
     "base_uri": "https://localhost:8080/"
    },
    "id": "FdRAXvBITRmN",
    "outputId": "89c16953-9b8c-437b-cbf3-d88651c61142"
   },
   "outputs": [
    {
     "data": {
      "text/plain": [
       "(5.985065400515409, RangeIndex(start=0, stop=5819079, step=1))"
      ]
     },
     "execution_count": 177,
     "metadata": {},
     "output_type": "execute_result"
    }
   ],
   "source": [
    "df_flights['WEATHER_DELAY'] = delate_outlayers(df_flights, 'WEATHER_DELAY', 0.05, 0.99)\n",
    "descript_lenght(df_flights, 'WEATHER_DELAY')"
   ]
  },
  {
   "cell_type": "code",
   "execution_count": 178,
   "metadata": {
    "id": "8iTBcg3eTiO1"
   },
   "outputs": [],
   "source": [
    "#plt.hist(df_flights['WEATHER_DELAY'])"
   ]
  },
  {
   "cell_type": "code",
   "execution_count": 179,
   "metadata": {
    "id": "jzzzEiMmUWVq"
   },
   "outputs": [],
   "source": [
    "#sum_my_column(df_flights, 'FULL_DATA', 'WEATHER_DELAY', 8, 6)"
   ]
  },
  {
   "cell_type": "markdown",
   "metadata": {
    "id": "Om1X1WvU6vvY"
   },
   "source": [
    "### SECURITY_DELAY"
   ]
  },
  {
   "cell_type": "markdown",
   "metadata": {
    "id": "d_NHoJ6DFC7B"
   },
   "source": [
    "NIE TYKAC DANE LATWO UTRACIC, nany na 0, bez usuwania outlierow"
   ]
  },
  {
   "cell_type": "code",
   "execution_count": 180,
   "metadata": {
    "id": "Mm_P7Dwu651A"
   },
   "outputs": [],
   "source": [
    "#sum_my_column(df_flights, 'FULL_DATA', 'SECURITY_DELAY', 8, 6)"
   ]
  },
  {
   "cell_type": "code",
   "execution_count": 181,
   "metadata": {
    "id": "uXVdUPy9Ec9W"
   },
   "outputs": [],
   "source": [
    "#plt.hist(df_flights['SECURITY_DELAY'])"
   ]
  },
  {
   "cell_type": "code",
   "execution_count": 182,
   "metadata": {
    "id": "R3aLzl01WwNZ"
   },
   "outputs": [],
   "source": [
    "# # zostawic na kopi do prezentacji\n",
    "# df_flights_1 = df_flights[:]\n",
    "# df_flights_1['SECURITY_DELAY'] = delate_outlayers(df_flights_1, 'SECURITY_DELAY', 0.05, 0.99)\n",
    "# descript_lenght(df_flights_1, 'SECURITY_DELAY')"
   ]
  },
  {
   "cell_type": "code",
   "execution_count": 183,
   "metadata": {
    "id": "wcuBEZYWXDJg"
   },
   "outputs": [],
   "source": [
    "#plt.hist(df_flights_1['SECURITY_DELAY'])"
   ]
  },
  {
   "cell_type": "code",
   "execution_count": 184,
   "metadata": {
    "id": "VQle4ZLHXR6V"
   },
   "outputs": [],
   "source": [
    "#sum_my_column(df_flights, 'FULL_DATA', 'SECURITY_DELAY', 8, 6)"
   ]
  },
  {
   "cell_type": "markdown",
   "metadata": {
    "id": "ClH1FvgB6585"
   },
   "source": [
    "### AIR_SYSTEM_DELAY"
   ]
  },
  {
   "cell_type": "code",
   "execution_count": 185,
   "metadata": {
    "id": "teVtYMKq7AWi"
   },
   "outputs": [],
   "source": [
    "#sum_my_column(df_flights, 'FULL_DATA', 'AIR_SYSTEM_DELAY', 8, 6)"
   ]
  },
  {
   "cell_type": "code",
   "execution_count": 186,
   "metadata": {
    "colab": {
     "base_uri": "https://localhost:8080/"
    },
    "id": "AmsaAip-W0-Z",
    "outputId": "f91e3a68-dcc7-4923-8fd6-b96729d9f444"
   },
   "outputs": [
    {
     "data": {
      "text/plain": [
       "(3.0014244559203043, RangeIndex(start=0, stop=5819079, step=1))"
      ]
     },
     "execution_count": 186,
     "metadata": {},
     "output_type": "execute_result"
    }
   ],
   "source": [
    "df_flights['AIR_SYSTEM_DELAY'] = delate_outlayers(df_flights, 'AIR_SYSTEM_DELAY', 0.05, 0.99)\n",
    "descript_lenght(df_flights, 'AIR_SYSTEM_DELAY')"
   ]
  },
  {
   "cell_type": "code",
   "execution_count": 187,
   "metadata": {
    "id": "IoU2d_5WX3Yu"
   },
   "outputs": [],
   "source": [
    "#plt.hist(df_flights['AIR_SYSTEM_DELAY'])"
   ]
  },
  {
   "cell_type": "code",
   "execution_count": 188,
   "metadata": {
    "id": "tuGHFkThX9wH"
   },
   "outputs": [],
   "source": [
    "#sum_my_column(df_flights, 'FULL_DATA', 'AIR_SYSTEM_DELAY', 8, 6)"
   ]
  },
  {
   "cell_type": "markdown",
   "metadata": {
    "id": "LLPLQkr6fZAg"
   },
   "source": [
    "### LESS THEN 5% DATA"
   ]
  },
  {
   "cell_type": "markdown",
   "metadata": {
    "id": "xXbVKlUI7Ad0"
   },
   "source": [
    "### ARRIVAL_DELAY"
   ]
  },
  {
   "cell_type": "code",
   "execution_count": 189,
   "metadata": {
    "id": "XNF3g3mW7Kob"
   },
   "outputs": [],
   "source": [
    "#sum_my_column(df_flights, 'FULL_DATA', 'ARRIVAL_DELAY', 8, 6)\n",
    "\n",
    "# minuty ale w dziwnej formie"
   ]
  },
  {
   "cell_type": "code",
   "execution_count": 190,
   "metadata": {
    "colab": {
     "base_uri": "https://localhost:8080/"
    },
    "id": "rf0X-HVzY6O5",
    "outputId": "b5d153d5-5866-4114-ddf8-d3c38955c57c"
   },
   "outputs": [
    {
     "data": {
      "text/plain": [
       "(4.255508404360429, RangeIndex(start=0, stop=5819079, step=1))"
      ]
     },
     "execution_count": 190,
     "metadata": {},
     "output_type": "execute_result"
    }
   ],
   "source": [
    "\n",
    "df_flights['ARRIVAL_DELAY'] = delate_outlayers(df_flights, 'ARRIVAL_DELAY', 0.05, 0.999)\n",
    "descript_lenght(df_flights, 'ARRIVAL_DELAY')"
   ]
  },
  {
   "cell_type": "code",
   "execution_count": 191,
   "metadata": {
    "id": "XwSkB-NRZDBS"
   },
   "outputs": [],
   "source": [
    "#plt.hist(df_flights['ARRIVAL_DELAY'])"
   ]
  },
  {
   "cell_type": "code",
   "execution_count": 192,
   "metadata": {
    "id": "zp-KOsleZDkz"
   },
   "outputs": [],
   "source": [
    "#sum_my_column(df_flights, 'FULL_DATA', 'ARRIVAL_DELAY', 8, 6)"
   ]
  },
  {
   "cell_type": "markdown",
   "metadata": {
    "id": "d4oxMe5o7Kv3"
   },
   "source": [
    "### TAXI_IN"
   ]
  },
  {
   "cell_type": "code",
   "execution_count": 193,
   "metadata": {
    "id": "aVuZERVF7QMf"
   },
   "outputs": [],
   "source": [
    "#sum_my_column(df_flights, 'FULL_DATA', 'TAXI_IN', 8, 6)"
   ]
  },
  {
   "cell_type": "code",
   "execution_count": 194,
   "metadata": {
    "colab": {
     "base_uri": "https://localhost:8080/"
    },
    "id": "hxCrAmKTZKFV",
    "outputId": "68886811-ff7e-4620-df3f-dbcdc9cb89c3"
   },
   "outputs": [
    {
     "data": {
      "text/plain": [
       "(2.369260109345568, RangeIndex(start=0, stop=5819079, step=1))"
      ]
     },
     "execution_count": 194,
     "metadata": {},
     "output_type": "execute_result"
    }
   ],
   "source": [
    "df_flights['TAXI_IN'] = delate_outlayers(df_flights, 'TAXI_IN', 0.05, 0.99)\n",
    "descript_lenght(df_flights, 'TAXI_IN')"
   ]
  },
  {
   "cell_type": "code",
   "execution_count": 195,
   "metadata": {
    "id": "7Cq0Y4H2ZKs6"
   },
   "outputs": [],
   "source": [
    "#plt.hist(df_flights['TAXI_IN'])"
   ]
  },
  {
   "cell_type": "code",
   "execution_count": 196,
   "metadata": {
    "id": "oeCFoSEUZPuM"
   },
   "outputs": [],
   "source": [
    "#sum_my_column(df_flights, 'FULL_DATA', 'TAXI_IN', 8, 6)"
   ]
  },
  {
   "cell_type": "markdown",
   "metadata": {
    "id": "iMerOhyQ7QSN"
   },
   "source": [
    "### AIR_TIME"
   ]
  },
  {
   "cell_type": "code",
   "execution_count": 197,
   "metadata": {
    "id": "9IaiP0XI7RpI"
   },
   "outputs": [],
   "source": [
    "#sum_my_column(df_flights, 'FULL_DATA', 'AIR_TIME', 8, 6)"
   ]
  },
  {
   "cell_type": "code",
   "execution_count": 198,
   "metadata": {
    "id": "3OwRWHJHc0iT"
   },
   "outputs": [],
   "source": [
    "#plt.hist(df_flights['AIR_TIME'])"
   ]
  },
  {
   "cell_type": "code",
   "execution_count": 199,
   "metadata": {
    "colab": {
     "base_uri": "https://localhost:8080/"
    },
    "id": "_b2XmDSzZU5W",
    "outputId": "60ce325b-a7bd-4481-e597-7b003116d66f"
   },
   "outputs": [
    {
     "data": {
      "text/plain": [
       "(1.258804435079732, RangeIndex(start=0, stop=5819079, step=1))"
      ]
     },
     "execution_count": 199,
     "metadata": {},
     "output_type": "execute_result"
    }
   ],
   "source": [
    "df_flights['AIR_TIME'] = delate_outlayers(df_flights, 'AIR_TIME', 0.05, 0.99)\n",
    "descript_lenght(df_flights, 'AIR_TIME')"
   ]
  },
  {
   "cell_type": "code",
   "execution_count": 200,
   "metadata": {
    "id": "jeRM0ZNiZXuo"
   },
   "outputs": [],
   "source": [
    "#plt.hist(df_flights['AIR_TIME'])"
   ]
  },
  {
   "cell_type": "code",
   "execution_count": 201,
   "metadata": {
    "id": "LBx1pHjyZaW5"
   },
   "outputs": [],
   "source": [
    "#sum_my_column(df_flights, 'FULL_DATA', 'AIR_TIME', 8, 6)"
   ]
  },
  {
   "cell_type": "markdown",
   "metadata": {
    "id": "Pant7baz7Ry6"
   },
   "source": [
    "###ELAPSED_TIME "
   ]
  },
  {
   "cell_type": "code",
   "execution_count": 202,
   "metadata": {
    "id": "QmEdB0df7bsM"
   },
   "outputs": [],
   "source": [
    "#sum_my_column(df_flights, 'FULL_DATA', 'ELAPSED_TIME', 8, 6)"
   ]
  },
  {
   "cell_type": "code",
   "execution_count": 203,
   "metadata": {
    "colab": {
     "base_uri": "https://localhost:8080/"
    },
    "id": "RS4QcgxHZpZt",
    "outputId": "77fad645-6462-4875-a4de-23699e6bf271"
   },
   "outputs": [
    {
     "data": {
      "text/plain": [
       "(1.236429181759507, RangeIndex(start=0, stop=5819079, step=1))"
      ]
     },
     "execution_count": 203,
     "metadata": {},
     "output_type": "execute_result"
    }
   ],
   "source": [
    "df_flights['ELAPSED_TIME'] = delate_outlayers(df_flights, 'ELAPSED_TIME', 0.05, 0.99)\n",
    "descript_lenght(df_flights, 'ELAPSED_TIME')"
   ]
  },
  {
   "cell_type": "code",
   "execution_count": 204,
   "metadata": {
    "id": "v7ne0OJBZ3hJ"
   },
   "outputs": [],
   "source": [
    "#plt.hist(df_flights['ELAPSED_TIME'])"
   ]
  },
  {
   "cell_type": "code",
   "execution_count": 205,
   "metadata": {
    "id": "UqXc0RCHaOyJ"
   },
   "outputs": [],
   "source": [
    "#sum_my_column(df_flights, 'FULL_DATA', 'ELAPSED_TIME', 8, 6)"
   ]
  },
  {
   "cell_type": "markdown",
   "metadata": {
    "id": "iKFGdr_Y7d4c"
   },
   "source": [
    "### TAXI_OUT "
   ]
  },
  {
   "cell_type": "code",
   "execution_count": 206,
   "metadata": {
    "id": "3EZEvXwv7gLi"
   },
   "outputs": [],
   "source": [
    "#sum_my_column(df_flights, 'FULL_DATA', 'TAXI_OUT', 8, 6)"
   ]
  },
  {
   "cell_type": "code",
   "execution_count": 207,
   "metadata": {
    "colab": {
     "base_uri": "https://localhost:8080/"
    },
    "id": "fqg2gHZJZsIm",
    "outputId": "e34e5464-e159-411c-d0de-c03ca29f8be5"
   },
   "outputs": [
    {
     "data": {
      "text/plain": [
       "(1.9284559625197493, RangeIndex(start=0, stop=5819079, step=1))"
      ]
     },
     "execution_count": 207,
     "metadata": {},
     "output_type": "execute_result"
    }
   ],
   "source": [
    "df_flights['TAXI_OUT'] = delate_outlayers(df_flights, 'TAXI_OUT', 0.05, 0.99)\n",
    "descript_lenght(df_flights, 'TAXI_OUT')"
   ]
  },
  {
   "cell_type": "code",
   "execution_count": 208,
   "metadata": {
    "id": "rzVGXAsYZ-k3"
   },
   "outputs": [],
   "source": [
    "#plt.hist(df_flights['TAXI_OUT'])"
   ]
  },
  {
   "cell_type": "code",
   "execution_count": 209,
   "metadata": {
    "id": "cG2Eb0IRaSqK"
   },
   "outputs": [],
   "source": [
    "#sum_my_column(df_flights, 'FULL_DATA', 'TAXI_OUT', 8, 6)"
   ]
  },
  {
   "cell_type": "markdown",
   "metadata": {
    "id": "Pnk2pMYl7gSg"
   },
   "source": [
    "### DEPARTURE_DELAY "
   ]
  },
  {
   "cell_type": "code",
   "execution_count": 210,
   "metadata": {
    "id": "X_lKiCJ97jj8"
   },
   "outputs": [],
   "source": [
    "#sum_my_column(df_flights, 'FULL_DATA', 'DEPARTURE_DELAY', 8, 6)"
   ]
  },
  {
   "cell_type": "code",
   "execution_count": 211,
   "metadata": {
    "colab": {
     "base_uri": "https://localhost:8080/"
    },
    "id": "SZXPsPfuZthO",
    "outputId": "a8aab8bb-6434-45e3-9134-c4abcfd9ce14"
   },
   "outputs": [
    {
     "data": {
      "text/plain": [
       "(3.4247223309142716, RangeIndex(start=0, stop=5819079, step=1))"
      ]
     },
     "execution_count": 211,
     "metadata": {},
     "output_type": "execute_result"
    }
   ],
   "source": [
    "df_flights['DEPARTURE_DELAY'] = delate_outlayers(df_flights, 'DEPARTURE_DELAY', 0.05, 0.99)\n",
    "descript_lenght(df_flights, 'DEPARTURE_DELAY')"
   ]
  },
  {
   "cell_type": "code",
   "execution_count": 212,
   "metadata": {
    "id": "9R1s0kujaAfc"
   },
   "outputs": [],
   "source": [
    "#plt.hist(df_flights['DEPARTURE_DELAY'])"
   ]
  },
  {
   "cell_type": "code",
   "execution_count": 213,
   "metadata": {
    "id": "WyjhFfifaXRa"
   },
   "outputs": [],
   "source": [
    "#sum_my_column(df_flights, 'FULL_DATA', 'DEPARTURE_DELAY', 8, 6)"
   ]
  },
  {
   "cell_type": "markdown",
   "metadata": {
    "id": "dw-QMUhO7kKw"
   },
   "source": [
    "###SCHEDULED_TIME"
   ]
  },
  {
   "cell_type": "code",
   "execution_count": 214,
   "metadata": {
    "id": "btDnzvAz8CIO"
   },
   "outputs": [],
   "source": [
    "#sum_my_column(df_flights, 'FULL_DATA', 'SCHEDULED_TIME', 8, 6)"
   ]
  },
  {
   "cell_type": "code",
   "execution_count": 215,
   "metadata": {
    "colab": {
     "base_uri": "https://localhost:8080/"
    },
    "id": "BXCrNWCnZvlc",
    "outputId": "e49b8faa-5f30-4718-b440-e4c60d36381b"
   },
   "outputs": [
    {
     "data": {
      "text/plain": [
       "(1.2558856041339261, RangeIndex(start=0, stop=5819079, step=1))"
      ]
     },
     "execution_count": 215,
     "metadata": {},
     "output_type": "execute_result"
    }
   ],
   "source": [
    "df_flights['SCHEDULED_TIME'] = delate_outlayers(df_flights, 'SCHEDULED_TIME', 0.05, 0.99)\n",
    "descript_lenght(df_flights, 'SCHEDULED_TIME')"
   ]
  },
  {
   "cell_type": "code",
   "execution_count": 216,
   "metadata": {
    "id": "tG9mTdWkaCcv"
   },
   "outputs": [],
   "source": [
    "#plt.hist(df_flights['SCHEDULED_TIME'])"
   ]
  },
  {
   "cell_type": "code",
   "execution_count": 217,
   "metadata": {
    "id": "KZT_iP3faZEZ"
   },
   "outputs": [],
   "source": [
    "#sum_my_column(df_flights, 'FULL_DATA', 'SCHEDULED_TIME', 8, 6)"
   ]
  },
  {
   "cell_type": "markdown",
   "metadata": {
    "id": "l5Z62j-u5MNs"
   },
   "source": [
    "## TIME IN HOURS"
   ]
  },
  {
   "cell_type": "code",
   "execution_count": 218,
   "metadata": {
    "id": "Tvewpv3h0JJp"
   },
   "outputs": [],
   "source": [
    "# for column in df_flights.columns:\n",
    "#   print(column)"
   ]
  },
  {
   "cell_type": "code",
   "execution_count": 219,
   "metadata": {
    "id": "zpfbiQmK0lGM"
   },
   "outputs": [],
   "source": [
    "# df_flights.index"
   ]
  },
  {
   "cell_type": "markdown",
   "metadata": {
    "id": "P1rcqk7KuXHT"
   },
   "source": [
    "### ARRIVAL_TIME"
   ]
  },
  {
   "cell_type": "code",
   "execution_count": 220,
   "metadata": {
    "colab": {
     "base_uri": "https://localhost:8080/"
    },
    "id": "fpZoAxXDEGFa",
    "outputId": "1e1484fe-b6cf-4fb7-addf-7d867feae227"
   },
   "outputs": [
    {
     "data": {
      "text/plain": [
       "0          408.0\n",
       "1          741.0\n",
       "2          811.0\n",
       "3          756.0\n",
       "4          259.0\n",
       "           ...  \n",
       "5819074    753.0\n",
       "5819075    430.0\n",
       "5819076    432.0\n",
       "5819077    330.0\n",
       "5819078    442.0\n",
       "Name: ARRIVAL_TIME, Length: 5819079, dtype: float64"
      ]
     },
     "execution_count": 220,
     "metadata": {},
     "output_type": "execute_result"
    }
   ],
   "source": [
    "df_flights['ARRIVAL_TIME']"
   ]
  },
  {
   "cell_type": "code",
   "execution_count": 221,
   "metadata": {
    "id": "KTgQNtdoEdNj"
   },
   "outputs": [],
   "source": [
    "df_flights = df_flights.dropna(subset=['ARRIVAL_TIME'])"
   ]
  },
  {
   "cell_type": "code",
   "execution_count": 222,
   "metadata": {
    "id": "wkU0zeLTFAO2"
   },
   "outputs": [],
   "source": [
    "df_flights['ARRIVAL_TIME'] = df_flights['ARRIVAL_TIME'].astype(int)"
   ]
  },
  {
   "cell_type": "code",
   "execution_count": 223,
   "metadata": {
    "id": "XaJgMBCxEp09"
   },
   "outputs": [],
   "source": [
    "times = df_flights['ARRIVAL_TIME'].tolist()\n",
    "times_str = [str(time) for time in times]"
   ]
  },
  {
   "cell_type": "code",
   "execution_count": 224,
   "metadata": {
    "id": "rQVInmMa20Qi"
   },
   "outputs": [],
   "source": [
    "formatted_times = []\n",
    "\n",
    "for time in times_str:\n",
    "    time = time.zfill(4)  # Wypełnienie zerami z przodu, jeśli liczba jest krótsza niż 4 cyfry\n",
    "    hour = time[:2]\n",
    "    minute = time[2:]\n",
    "    formatted_time = f'{hour}:{minute}'\n",
    "    formatted_times.append(formatted_time)\n",
    "\n",
    "\n"
   ]
  },
  {
   "cell_type": "code",
   "execution_count": 225,
   "metadata": {
    "id": "-zWRo-GtEs9w"
   },
   "outputs": [],
   "source": [
    "formatted_times = list(map(lambda x: replace_time(x), formatted_times))"
   ]
  },
  {
   "cell_type": "code",
   "execution_count": 226,
   "metadata": {
    "id": "m1eDyHp4EvXn"
   },
   "outputs": [],
   "source": [
    "df_flights['ARRIVAL_TIME'] =  formatted_times\n",
    "df_flights['ARRIVAL_TIME_D_T'] = df_flights['FULL_DATA'].map(str) +\" \"+ df_flights[\"ARRIVAL_TIME\"]\n",
    "df_flights['ARRIVAL_TIME_D_T'] = pd.to_datetime(df_flights['ARRIVAL_TIME_D_T'], format='mixed')"
   ]
  },
  {
   "cell_type": "code",
   "execution_count": 227,
   "metadata": {
    "id": "kkRETRZC2P_1"
   },
   "outputs": [
    {
     "data": {
      "text/plain": [
       "0         2015-01-01 04:08:00\n",
       "1         2015-01-01 07:41:00\n",
       "2         2015-01-01 08:11:00\n",
       "3         2015-01-01 07:56:00\n",
       "4         2015-01-01 02:59:00\n",
       "                  ...        \n",
       "5819074   2015-12-31 07:53:00\n",
       "5819075   2015-12-31 04:30:00\n",
       "5819076   2015-12-31 04:32:00\n",
       "5819077   2015-12-31 03:30:00\n",
       "5819078   2015-12-31 04:42:00\n",
       "Name: ARRIVAL_TIME_D_T, Length: 5726566, dtype: datetime64[ns]"
      ]
     },
     "execution_count": 227,
     "metadata": {},
     "output_type": "execute_result"
    }
   ],
   "source": [
    "df_flights['ARRIVAL_TIME_D_T']"
   ]
  },
  {
   "cell_type": "code",
   "execution_count": 228,
   "metadata": {
    "id": "NfyRdXC36uN_"
   },
   "outputs": [],
   "source": [
    "# times = df_flights['ARRIVAL_TIME'].tolist()\n",
    "\n",
    "# formatted_times = []\n",
    "\n",
    "# for time in times:\n",
    "#     time = time.zfill(4)  # Wypełnienie zerami z przodu, jeśli liczba jest krótsza niż 4 cyfry\n",
    "#     hour = time[:2]\n",
    "#     minute = time[2:]\n",
    "#     formatted_time = f'{hour}:{minute}'\n",
    "#     formatted_times.append(formatted_time)\n",
    "\n",
    "# print(formatted_times)"
   ]
  },
  {
   "cell_type": "code",
   "execution_count": 229,
   "metadata": {
    "id": "R9wOkLht3Tcj"
   },
   "outputs": [],
   "source": [
    "#df_flights['ARRIVAL_TIME'] =  df_flights['ARRIVAL_TIME'].apply(lambda x: f'{x//60:01d}:{x%60:02d}' if x < 60 else f'{x//100:01d}:00')"
   ]
  },
  {
   "cell_type": "code",
   "execution_count": 230,
   "metadata": {
    "id": "R4JXMl18v2kE"
   },
   "outputs": [],
   "source": [
    "#df_flights['ARRIVAL_DATA_AND_TIME'] = df_flights['FULL_DATA'].astype(str) +\" \"+ df_flights[\"ARRIVAL_TIME\"].astype(str).replace(' 24:', ' 00:')\n"
   ]
  },
  {
   "cell_type": "code",
   "execution_count": 231,
   "metadata": {
    "id": "5_lsERCt5sG6"
   },
   "outputs": [],
   "source": [
    "#df_flights['ARRIVAL_DATA_AND_TIME']"
   ]
  },
  {
   "cell_type": "code",
   "execution_count": 232,
   "metadata": {
    "id": "O6Dpb_KE5jqz"
   },
   "outputs": [],
   "source": [
    "# df_flights['ARRIVAL_TIME_D_T'] = pd.to_datetime(df_flights['ARRIVAL_DATA_AND_TIME'])"
   ]
  },
  {
   "cell_type": "code",
   "execution_count": 233,
   "metadata": {
    "id": "2cKXnAfyzl3M"
   },
   "outputs": [],
   "source": [
    "#sum_my_column(df_flights, 'FULL_DATA', 'ARRIVAL_TIME', 8, 6)"
   ]
  },
  {
   "cell_type": "code",
   "execution_count": 234,
   "metadata": {
    "id": "bIuo56K31a5p"
   },
   "outputs": [],
   "source": [
    "#float_check('ARRIVAL_TIME')"
   ]
  },
  {
   "cell_type": "code",
   "execution_count": 235,
   "metadata": {
    "id": "0L_4vlqZ2jB4"
   },
   "outputs": [],
   "source": [
    "#df_flights = df_flights.dropna(subset=['ARRIVAL_TIME'])"
   ]
  },
  {
   "cell_type": "code",
   "execution_count": 236,
   "metadata": {
    "id": "QT7sdDKO3beq"
   },
   "outputs": [],
   "source": [
    "#df_flights.index"
   ]
  },
  {
   "cell_type": "code",
   "execution_count": 237,
   "metadata": {
    "id": "JH-zNdRv3ny3"
   },
   "outputs": [],
   "source": [
    "#df_flights['ARRIVAL_TIME'] = df_flights['ARRIVAL_TIME'].astype(int)"
   ]
  },
  {
   "cell_type": "code",
   "execution_count": 238,
   "metadata": {
    "id": "l-sp_l824Xbh"
   },
   "outputs": [],
   "source": [
    "#df_flights['ARRIVAL_TIME'].head()"
   ]
  },
  {
   "cell_type": "code",
   "execution_count": 239,
   "metadata": {
    "id": "3ukp6B9k3mQe"
   },
   "outputs": [],
   "source": [
    "#low = separate_time(df_flights, \"ARRIVAL_TIME\",\"<\", 60 )"
   ]
  },
  {
   "cell_type": "code",
   "execution_count": 240,
   "metadata": {
    "id": "FlUjpVuu4OpM"
   },
   "outputs": [],
   "source": [
    "#top = separate_time(df_flights, \"ARRIVAL_TIME\",\">\", 60 )"
   ]
  },
  {
   "cell_type": "code",
   "execution_count": 241,
   "metadata": {
    "id": "3SoeuwQP4mjr"
   },
   "outputs": [],
   "source": [
    "#low['ARRIVAL_TIME_WORK'] = convert_time_before_1_AM(low['ARRIVAL_TIME'])"
   ]
  },
  {
   "cell_type": "code",
   "execution_count": 242,
   "metadata": {
    "id": "IEiXO4CH4-V5"
   },
   "outputs": [],
   "source": [
    "#top['ARRIVAL_TIME_WORK'] = convert_to_time(top['ARRIVAL_TIME'])"
   ]
  },
  {
   "cell_type": "code",
   "execution_count": 243,
   "metadata": {
    "id": "dpZ1dMf45cXh"
   },
   "outputs": [],
   "source": [
    "#df_flights = low.append(top)"
   ]
  },
  {
   "cell_type": "code",
   "execution_count": 244,
   "metadata": {
    "id": "GNAxgfbQ5iQ4"
   },
   "outputs": [],
   "source": [
    "#df_flights['ARRIVAL_TIME_WORK']"
   ]
  },
  {
   "cell_type": "code",
   "execution_count": 245,
   "metadata": {
    "id": "niwYdaOo_aFH"
   },
   "outputs": [],
   "source": [
    "#df_flights['ARRIVAL_DATA_AND_TIME'] = df_flights['FULL_DATA'].astype(str) +\" \"+ df_flights[\"ARRIVAL_TIME_WORK\"].astype(str)"
   ]
  },
  {
   "cell_type": "markdown",
   "metadata": {
    "id": "7dUDx9IV3Qhg"
   },
   "source": []
  },
  {
   "cell_type": "code",
   "execution_count": 246,
   "metadata": {
    "id": "hSm1EDDFAH6s"
   },
   "outputs": [],
   "source": [
    "#df_flights['ARRIVAL_DATA_AND_TIME']"
   ]
  },
  {
   "cell_type": "code",
   "execution_count": 247,
   "metadata": {
    "id": "5BzOE3crDXGV"
   },
   "outputs": [],
   "source": [
    "#df_flights.query('ARRIVAL_TIME_WORK == \"24:00\"')"
   ]
  },
  {
   "cell_type": "code",
   "execution_count": 248,
   "metadata": {
    "id": "-rbefk0VAVwN"
   },
   "outputs": [],
   "source": [
    "#df_flights['ARRIVAL_DATA_AND_TIME'] = pd.to_datetime(df_flights['ARRIVAL_DATA_AND_TIME'])"
   ]
  },
  {
   "cell_type": "code",
   "execution_count": 249,
   "metadata": {
    "id": "Cgv4zRBGF5QN"
   },
   "outputs": [],
   "source": [
    "#df_flights['ARRIVAL_DATA_AND_TIME']"
   ]
  },
  {
   "cell_type": "markdown",
   "metadata": {
    "id": "FRWY36EH7w-L"
   },
   "source": [
    "### SCHEDULED_ARRIVAL"
   ]
  },
  {
   "cell_type": "code",
   "execution_count": 250,
   "metadata": {
    "id": "XA3HOsn56R_L"
   },
   "outputs": [],
   "source": [
    "# df_flights['SCHEDULED_ARRIVAL']"
   ]
  },
  {
   "cell_type": "code",
   "execution_count": 251,
   "metadata": {
    "id": "L0uCh1bk7qs0"
   },
   "outputs": [],
   "source": [
    "times = df_flights['SCHEDULED_ARRIVAL'].tolist()"
   ]
  },
  {
   "cell_type": "code",
   "execution_count": 252,
   "metadata": {
    "id": "2yiII9b88SaY"
   },
   "outputs": [],
   "source": [
    "times_str = [str(time) for time in times]"
   ]
  },
  {
   "cell_type": "code",
   "execution_count": 253,
   "metadata": {
    "id": "8OvK2S057Oka"
   },
   "outputs": [],
   "source": [
    "formatted_times = []\n",
    "\n",
    "for time in times_str:\n",
    "    time = time.zfill(4)  # Wypełnienie zerami z przodu, jeśli liczba jest krótsza niż 4 cyfry\n",
    "    hour = time[:2]\n",
    "    minute = time[2:]\n",
    "    formatted_time = f'{hour}:{minute}'\n",
    "    formatted_times.append(formatted_time)"
   ]
  },
  {
   "cell_type": "code",
   "execution_count": 254,
   "metadata": {
    "id": "PlVF8YOdB0iy"
   },
   "outputs": [],
   "source": [
    "formatted_times = list(map(lambda x: replace_time(x), formatted_times))"
   ]
  },
  {
   "cell_type": "code",
   "execution_count": 255,
   "metadata": {
    "id": "WNPHajEizugD"
   },
   "outputs": [],
   "source": [
    "df_flights['SCHEDULED_ARRIVAL'] =  formatted_times\n",
    "df_flights['SCHEDULED_ARRIVAL_D_T'] = df_flights['FULL_DATA'].map(str) +\" \"+ df_flights[\"SCHEDULED_ARRIVAL\"]\n",
    "df_flights['SCHEDULED_ARRIVAL_D_T'] = pd.to_datetime(df_flights['SCHEDULED_ARRIVAL_D_T'], format='mixed')"
   ]
  },
  {
   "cell_type": "code",
   "execution_count": 256,
   "metadata": {
    "id": "-Jx_bsRY-CLg"
   },
   "outputs": [],
   "source": [
    "#df_flights['SCHEDULED_ARRIVAL_D_T_1'] "
   ]
  },
  {
   "cell_type": "code",
   "execution_count": 257,
   "metadata": {
    "id": "8uLjRvRj70Wb"
   },
   "outputs": [],
   "source": [
    "#sum_my_column(df_flights, 'FULL_DATA', 'SCHEDULED_ARRIVAL', 8, 6)"
   ]
  },
  {
   "cell_type": "code",
   "execution_count": 258,
   "metadata": {
    "id": "eFAvn4La5AUC"
   },
   "outputs": [],
   "source": [
    "#float_check('SCHEDULED_ARRIVAL')"
   ]
  },
  {
   "cell_type": "code",
   "execution_count": 259,
   "metadata": {
    "id": "glWZSQor5HYl"
   },
   "outputs": [],
   "source": [
    "#df_flights['SCHEDULED_ARRIVAL'] = df_flights['SCHEDULED_ARRIVAL'].astype(int)"
   ]
  },
  {
   "cell_type": "code",
   "execution_count": 260,
   "metadata": {
    "id": "L2YCO0cO5LAa"
   },
   "outputs": [],
   "source": [
    "#low = separate_time(df_flights, \"SCHEDULED_ARRIVAL\",\"<\", 60 )"
   ]
  },
  {
   "cell_type": "code",
   "execution_count": 261,
   "metadata": {
    "id": "VYYhuznU5Nf2"
   },
   "outputs": [],
   "source": [
    "#top = separate_time(df_flights, \"SCHEDULED_ARRIVAL\",\">\", 60 )"
   ]
  },
  {
   "cell_type": "code",
   "execution_count": 262,
   "metadata": {
    "id": "xDMCEIke5TTw"
   },
   "outputs": [],
   "source": [
    "#low['SCHEDULED_ARRIVAL'] = convert_time_before_1_AM(low['SCHEDULED_ARRIVAL'])"
   ]
  },
  {
   "cell_type": "code",
   "execution_count": 263,
   "metadata": {
    "id": "tCJ01EY45VcU"
   },
   "outputs": [],
   "source": [
    "#top['SCHEDULED_ARRIVAL'] = convert_to_time(top['SCHEDULED_ARRIVAL'])"
   ]
  },
  {
   "cell_type": "code",
   "execution_count": 264,
   "metadata": {
    "id": "MYcfnQbL5Yme"
   },
   "outputs": [],
   "source": [
    "#df_flights = low.append(top)"
   ]
  },
  {
   "cell_type": "code",
   "execution_count": 265,
   "metadata": {
    "id": "1uiQqHUG5tzU"
   },
   "outputs": [],
   "source": [
    "#df_flights ['SCHEDULED_ARRIVAL']"
   ]
  },
  {
   "cell_type": "code",
   "execution_count": 266,
   "metadata": {
    "id": "Sn6pGQQWGALu"
   },
   "outputs": [],
   "source": [
    "#df_flights['SCHEDULED_ARRIVAL_DATA_AND_TIME'] = df_flights['FULL_DATA'].astype(str) +\" \"+ df_flights[\"SCHEDULED_ARRIVAL\"].astype(str)"
   ]
  },
  {
   "cell_type": "code",
   "execution_count": 267,
   "metadata": {
    "id": "BBFmQGbAGJkV"
   },
   "outputs": [],
   "source": [
    "#df_flights['SCHEDULED_ARRIVAL_DATA_AND_TIME'] = pd.to_datetime(df_flights['SCHEDULED_ARRIVAL_DATA_AND_TIME'])"
   ]
  },
  {
   "cell_type": "code",
   "execution_count": 268,
   "metadata": {
    "id": "yi5dUZTIG8yh"
   },
   "outputs": [],
   "source": [
    "#df_flights['SCHEDULED_ARRIVAL_DATA_AND_TIME']"
   ]
  },
  {
   "cell_type": "markdown",
   "metadata": {
    "id": "wdn2U8aO4R1w"
   },
   "source": [
    "### WHEELS_ON"
   ]
  },
  {
   "cell_type": "code",
   "execution_count": 269,
   "metadata": {
    "id": "OtyMjggHx_iw"
   },
   "outputs": [],
   "source": [
    "# df_flights['WHEELS_ON'] = df_flights['WHEELS_ON'].astype(int)\n",
    "# df_flights['WHEEL_ON'] =  df_flights['WHEEL_ON'].apply(lambda x: f'{x//60:01d}:{x%60:02d}' if x < 60 else f'{x//100:01d}:00')\n",
    "# df_flights['WHEEL_ON_D_T'] = df_flights['FULL_DATA'].map(str) +\" \"+ df_flights[\"WHEEL_ON\"].map(str)\n",
    "# df_flights['WHEEL_ON_D_T'] = pd.to_datetime(df_flights['WHEEL_ON_D_T'])"
   ]
  },
  {
   "cell_type": "code",
   "execution_count": 270,
   "metadata": {
    "id": "z2qgqHnS7Qsx"
   },
   "outputs": [],
   "source": [
    "#sum_my_column(df_flights, 'FULL_DATA', 'WHEELS_ON', 8, 6)"
   ]
  },
  {
   "cell_type": "code",
   "execution_count": 271,
   "metadata": {
    "id": "HzXkufn85y4D"
   },
   "outputs": [],
   "source": [
    "#float_check('WHEELS_ON')"
   ]
  },
  {
   "cell_type": "code",
   "execution_count": 272,
   "metadata": {
    "id": "7yB7ogvT52Ki"
   },
   "outputs": [],
   "source": [
    "#df_flights['WHEELS_ON'] = df_flights['WHEELS_ON'].astype(int)"
   ]
  },
  {
   "cell_type": "code",
   "execution_count": 273,
   "metadata": {
    "id": "pD3sUObN54qI"
   },
   "outputs": [],
   "source": [
    "#low = separate_time(df_flights, \"WHEELS_ON\",\"<\", 60 )"
   ]
  },
  {
   "cell_type": "code",
   "execution_count": 274,
   "metadata": {
    "id": "iTw2vbhB569b"
   },
   "outputs": [],
   "source": [
    "#top = separate_time(df_flights, \"WHEELS_ON\",\">\", 60 )"
   ]
  },
  {
   "cell_type": "code",
   "execution_count": 275,
   "metadata": {
    "id": "WcZzAdKM59rh"
   },
   "outputs": [],
   "source": [
    "#low['WHEELS_ON'] = convert_time_before_1_AM(low['WHEELS_ON'])"
   ]
  },
  {
   "cell_type": "code",
   "execution_count": 276,
   "metadata": {
    "id": "fqb_UbI36AWz"
   },
   "outputs": [],
   "source": [
    "#top['WHEELS_ON'] = convert_to_time(top['WHEELS_ON'])"
   ]
  },
  {
   "cell_type": "code",
   "execution_count": 277,
   "metadata": {
    "id": "E2sjJtuh6C0D"
   },
   "outputs": [],
   "source": [
    "#df_flights = low.append(top)"
   ]
  },
  {
   "cell_type": "code",
   "execution_count": 278,
   "metadata": {
    "id": "b-XNC8iA6FdX"
   },
   "outputs": [],
   "source": [
    "#df_flights "
   ]
  },
  {
   "cell_type": "code",
   "execution_count": 279,
   "metadata": {
    "id": "4dU6lwL9HGpr"
   },
   "outputs": [],
   "source": [
    "#df_flights['WHEELS_ON_DATA_AND_TIME'] = df_flights['FULL_DATA'].astype(str) +\" \"+ df_flights[\"WHEELS_ON\"].astype(str)"
   ]
  },
  {
   "cell_type": "code",
   "execution_count": 280,
   "metadata": {
    "id": "M1AEykwRHJG-"
   },
   "outputs": [],
   "source": [
    "#df_flights['WHEELS_ON_DATA_AND_TIME'] = pd.to_datetime(df_flights['WHEELS_ON_DATA_AND_TIME'])"
   ]
  },
  {
   "cell_type": "code",
   "execution_count": 281,
   "metadata": {
    "id": "eLTJaF1sHK3H"
   },
   "outputs": [],
   "source": [
    "#df_flights['WHEELS_ON_DATA_AND_TIME']"
   ]
  },
  {
   "cell_type": "markdown",
   "metadata": {
    "id": "Ut_q3h1N73Ge"
   },
   "source": [
    "### WHEEL_OFF"
   ]
  },
  {
   "cell_type": "code",
   "execution_count": 282,
   "metadata": {
    "id": "7M-RbUuj67RS"
   },
   "outputs": [],
   "source": [
    "#df_flights['WHEELS_OFF'] = df_flights['WHEELS_OFF'].astype(int)"
   ]
  },
  {
   "cell_type": "code",
   "execution_count": 283,
   "metadata": {
    "id": "d_V0tdQmxuUk"
   },
   "outputs": [],
   "source": [
    "#df_flights['WHEEL_OFF'] =  df_flights['WHEEL_OFF'].apply(lambda x: f'{x//60:01d}:{x%60:02d}' if x < 60 else f'{x//100:01d}:00')"
   ]
  },
  {
   "cell_type": "code",
   "execution_count": 284,
   "metadata": {
    "id": "sM7TNe0JxwiQ"
   },
   "outputs": [],
   "source": [
    "# df_flights['WHEEL_OFF_D_T'] = df_flights['FULL_DATA'].map(str) +\" \"+ df_flights[\"WHEEL_OFF\"].map(str)"
   ]
  },
  {
   "cell_type": "code",
   "execution_count": 285,
   "metadata": {
    "id": "hD7No5R_xyrh"
   },
   "outputs": [],
   "source": [
    "# df_flights['SCHEDULED_DEPARTURE_DATA_AND_TIME'] = pd.to_datetime(df_flights['WHEEL_OFF_D_T'])"
   ]
  },
  {
   "cell_type": "code",
   "execution_count": 286,
   "metadata": {
    "id": "16tp014178l9"
   },
   "outputs": [],
   "source": [
    "#sum_my_column(df_flights, 'FULL_DATA', 'WHEELS_OFF', 8, 6)"
   ]
  },
  {
   "cell_type": "code",
   "execution_count": 287,
   "metadata": {
    "id": "tV-4TTq37DR5"
   },
   "outputs": [],
   "source": [
    "#float_check('WHEELS_OFF')"
   ]
  },
  {
   "cell_type": "code",
   "execution_count": 288,
   "metadata": {
    "id": "SL9sRZat7HNY"
   },
   "outputs": [],
   "source": [
    "#low = separate_time(df_flights, \"WHEELS_OFF\",\"<\", 60 )"
   ]
  },
  {
   "cell_type": "code",
   "execution_count": 289,
   "metadata": {
    "id": "CwyTkqtb7JVO"
   },
   "outputs": [],
   "source": [
    "#top = separate_time(df_flights, \"WHEELS_OFF\",\">\", 60 )"
   ]
  },
  {
   "cell_type": "code",
   "execution_count": 290,
   "metadata": {
    "id": "tSWQr5pp7L3G"
   },
   "outputs": [],
   "source": [
    "#low['WHEELS_OFF'] = convert_time_before_1_AM(low['WHEELS_OFF'])"
   ]
  },
  {
   "cell_type": "code",
   "execution_count": 291,
   "metadata": {
    "id": "aA3P6zyI7NDi"
   },
   "outputs": [],
   "source": [
    "#top['WHEELS_OFF'] = convert_to_time(top['WHEELS_OFF'])"
   ]
  },
  {
   "cell_type": "code",
   "execution_count": 292,
   "metadata": {
    "id": "KW3uPOqJ7RVO"
   },
   "outputs": [],
   "source": [
    "#df_flights = low.append(top)"
   ]
  },
  {
   "cell_type": "code",
   "execution_count": 293,
   "metadata": {
    "id": "MJpW-EVD7SBp"
   },
   "outputs": [],
   "source": [
    "#df_flights"
   ]
  },
  {
   "cell_type": "code",
   "execution_count": 294,
   "metadata": {
    "id": "1U75UtkQHksU"
   },
   "outputs": [],
   "source": [
    "#df_flights['WHEELS_OFF_DATA_AND_TIME'] = df_flights['FULL_DATA'].astype(str) +\" \"+ df_flights[\"WHEELS_OFF\"].astype(str)"
   ]
  },
  {
   "cell_type": "code",
   "execution_count": 295,
   "metadata": {
    "id": "V3g3ED2HHnwZ"
   },
   "outputs": [],
   "source": [
    "#df_flights['WHEELS_OFF_DATA_AND_TIME'] = pd.to_datetime(df_flights['WHEELS_OFF_DATA_AND_TIME'])"
   ]
  },
  {
   "cell_type": "code",
   "execution_count": 296,
   "metadata": {
    "id": "wkIBJpE4HpyM"
   },
   "outputs": [],
   "source": [
    "#df_flights['WHEELS_OFF_DATA_AND_TIME']"
   ]
  },
  {
   "cell_type": "markdown",
   "metadata": {
    "id": "Hd9hwXOc33PR"
   },
   "source": [
    "### SCHEDULED_DEPARTURE "
   ]
  },
  {
   "cell_type": "code",
   "execution_count": 297,
   "metadata": {
    "id": "rbyoupw7wBZL"
   },
   "outputs": [],
   "source": [
    "times = df_flights['SCHEDULED_DEPARTURE'].tolist()\n",
    "\n",
    "times_str = [str(time) for time in times]\n",
    "\n",
    "formatted_times = []\n",
    "\n",
    "for time in times_str:\n",
    "    time = time.zfill(4)  # Wypełnienie zerami z przodu, jeśli liczba jest krótsza niż 4 cyfry\n",
    "    hour = time[:2]\n",
    "    minute = time[2:]\n",
    "    formatted_time = f'{hour}:{minute}'\n",
    "    formatted_times.append(formatted_time)\n",
    "\n",
    "formatted_times = list(map(lambda x: replace_time(x), formatted_times))\n",
    "\n",
    "df_flights['SCHEDULED_DEPARTURE'] =  formatted_times\n",
    "df_flights['SCHEDULED_DEPARTURE_D_T'] = df_flights['FULL_DATA'].map(str) +\" \"+ df_flights[\"SCHEDULED_DEPARTURE\"]\n",
    "df_flights['SCHEDULED_DEPARTURE_D_T'] = pd.to_datetime(df_flights['SCHEDULED_DEPARTURE_D_T'], format='mixed')"
   ]
  },
  {
   "cell_type": "code",
   "execution_count": 298,
   "metadata": {
    "id": "JQ917LvrwETE"
   },
   "outputs": [],
   "source": [
    "# df_flights['SCHEDULED_DEPARTURE'] =  df_flights['SCHEDULED_DEPARTURE'].apply(lambda x: f'{x//60:01d}:{x%60:02d}' if x < 60 else f'{x//100:01d}:00')"
   ]
  },
  {
   "cell_type": "code",
   "execution_count": 299,
   "metadata": {
    "id": "hmNfQ5y3wi4k"
   },
   "outputs": [],
   "source": [
    "# df_flights['SCHEDULED_DEPARTURE'] "
   ]
  },
  {
   "cell_type": "code",
   "execution_count": 300,
   "metadata": {
    "id": "l3v5i-Deu2rW"
   },
   "outputs": [],
   "source": [
    "#sum_my_column(df_flights, 'FULL_DATA', 'SCHEDULED_DEPARTURE', 8, 6)"
   ]
  },
  {
   "cell_type": "code",
   "execution_count": 301,
   "metadata": {
    "id": "w8vqiuZr_Dbs"
   },
   "outputs": [],
   "source": [
    "#max(df_flights['SCHEDULED_DEPARTURE'])"
   ]
  },
  {
   "cell_type": "code",
   "execution_count": 302,
   "metadata": {
    "id": "cY75POpG611W"
   },
   "outputs": [],
   "source": [
    "#float_check('SCHEDULED_DEPARTURE')"
   ]
  },
  {
   "cell_type": "code",
   "execution_count": 303,
   "metadata": {
    "id": "S1FcwHia7VTL"
   },
   "outputs": [],
   "source": [
    "#df_flights['SCHEDULED_DEPARTURE'] = df_flights['SCHEDULED_DEPARTURE'].astype(int)"
   ]
  },
  {
   "cell_type": "code",
   "execution_count": 304,
   "metadata": {
    "id": "F0WwXCgj7ZVy"
   },
   "outputs": [],
   "source": [
    "#low = separate_time(df_flights, \"SCHEDULED_DEPARTURE\",\"<\", 60 )"
   ]
  },
  {
   "cell_type": "code",
   "execution_count": 305,
   "metadata": {
    "id": "RxHk2OnQ7bYs"
   },
   "outputs": [],
   "source": [
    "#top = separate_time(df_flights, \"SCHEDULED_DEPARTURE\",\">\", 60 )"
   ]
  },
  {
   "cell_type": "code",
   "execution_count": 306,
   "metadata": {
    "id": "hMRch8G37dXV"
   },
   "outputs": [],
   "source": [
    "#low['SCHEDULED_DEPARTURE'] = convert_time_before_1_AM(low['SCHEDULED_DEPARTURE'])"
   ]
  },
  {
   "cell_type": "code",
   "execution_count": 307,
   "metadata": {
    "id": "Vaz0En2U7e-f"
   },
   "outputs": [],
   "source": [
    "#top['SCHEDULED_DEPARTURE'] = convert_to_time(top['SCHEDULED_DEPARTURE'])"
   ]
  },
  {
   "cell_type": "code",
   "execution_count": 308,
   "metadata": {
    "id": "oUdh4NCg7hHj"
   },
   "outputs": [],
   "source": [
    "#df_flights = low.append(top)"
   ]
  },
  {
   "cell_type": "code",
   "execution_count": 309,
   "metadata": {
    "id": "9YuVnRUZhRbZ"
   },
   "outputs": [],
   "source": [
    "# del top\n",
    "# del low"
   ]
  },
  {
   "cell_type": "code",
   "execution_count": 310,
   "metadata": {
    "id": "EogJNwkn7isR"
   },
   "outputs": [],
   "source": [
    "#df_flights"
   ]
  },
  {
   "cell_type": "code",
   "execution_count": 311,
   "metadata": {
    "id": "0ebptUHtH4CE"
   },
   "outputs": [],
   "source": [
    "#df_flights['SCHEDULED_DEPARTURE_DATA_AND_TIME'] = df_flights['FULL_DATA'].map(str) +\" \"+ df_flights[\"SCHEDULED_DEPARTURE\"].map(str)"
   ]
  },
  {
   "cell_type": "code",
   "execution_count": 312,
   "metadata": {
    "id": "grmp3ldoH7yN"
   },
   "outputs": [],
   "source": [
    "#df_flights['SCHEDULED_DEPARTURE_DATA_AND_TIME'] = pd.to_datetime(df_flights['SCHEDULED_DEPARTURE_DATA_AND_TIME'])"
   ]
  },
  {
   "cell_type": "code",
   "execution_count": 313,
   "metadata": {
    "id": "aIFmuxG5xXFP"
   },
   "outputs": [],
   "source": [
    "#df_flights['SCHEDULED_DEPARTURE_DATA_AND_TIME']"
   ]
  },
  {
   "cell_type": "code",
   "execution_count": 314,
   "metadata": {
    "id": "kPtPb5qMH-sx"
   },
   "outputs": [],
   "source": [
    "#df_flights['SCHEDULED_DEPARTURE_DATA_AND_TIME']"
   ]
  },
  {
   "cell_type": "markdown",
   "metadata": {
    "id": "-W1SA1676nb7"
   },
   "source": [
    "### DEPARTURE TIME*"
   ]
  },
  {
   "cell_type": "code",
   "execution_count": 315,
   "metadata": {
    "colab": {
     "base_uri": "https://localhost:8080/"
    },
    "id": "0I2cBtbfI60U",
    "outputId": "281011f8-b970-42a8-f899-4e196f8fe23b"
   },
   "outputs": [
    {
     "data": {
      "text/plain": [
       "0          2354.0\n",
       "1             2.0\n",
       "2            18.0\n",
       "3            15.0\n",
       "4            24.0\n",
       "            ...  \n",
       "5819074    2355.0\n",
       "5819075    2355.0\n",
       "5819076    2350.0\n",
       "5819077    2353.0\n",
       "5819078      14.0\n",
       "Name: DEPARTURE_TIME, Length: 5726566, dtype: float64"
      ]
     },
     "execution_count": 315,
     "metadata": {},
     "output_type": "execute_result"
    }
   ],
   "source": [
    "df_flights['DEPARTURE_TIME']"
   ]
  },
  {
   "cell_type": "code",
   "execution_count": 316,
   "metadata": {
    "colab": {
     "base_uri": "https://localhost:8080/"
    },
    "id": "iVcb7icxMrlb",
    "outputId": "d96e63c6-7619-4d17-9972-589d4a590a1f"
   },
   "outputs": [
    {
     "data": {
      "text/plain": [
       "Index([      0,       1,       2,       3,       4,       5,       6,       7,\n",
       "             8,       9,\n",
       "       ...\n",
       "       5819069, 5819070, 5819071, 5819072, 5819073, 5819074, 5819075, 5819076,\n",
       "       5819077, 5819078],\n",
       "      dtype='int64', length=5726566)"
      ]
     },
     "execution_count": 316,
     "metadata": {},
     "output_type": "execute_result"
    }
   ],
   "source": [
    "df_flights['DEPARTURE_TIME'].index"
   ]
  },
  {
   "cell_type": "code",
   "execution_count": 317,
   "metadata": {
    "id": "Fu1hDp7YK_-8"
   },
   "outputs": [],
   "source": [
    "times = df_flights['DEPARTURE_TIME'].tolist()"
   ]
  },
  {
   "cell_type": "code",
   "execution_count": 318,
   "metadata": {
    "id": "MuwS90HpJIR4"
   },
   "outputs": [],
   "source": [
    "df_flights['DEPARTURE_TIME'] = df_flights['DEPARTURE_TIME'].astype(int)"
   ]
  },
  {
   "cell_type": "code",
   "execution_count": 319,
   "metadata": {
    "id": "6bUYRRAVGI4k"
   },
   "outputs": [],
   "source": [
    "times = df_flights['DEPARTURE_TIME'].tolist()\n",
    "\n",
    "times_str = [str(time) for time in times]\n",
    "\n",
    "formatted_times = []\n",
    "\n",
    "for time in times_str:\n",
    "    time = time.zfill(4)  # Wypełnienie zerami z przodu, jeśli liczba jest krótsza niż 4 cyfry\n",
    "    hour = time[:2]\n",
    "    minute = time[2:]\n",
    "    formatted_time = f'{hour}:{minute}'\n",
    "    formatted_times.append(formatted_time)\n",
    "\n",
    "formatted_times = list(map(lambda x: replace_time(x), formatted_times))\n",
    "\n",
    "df_flights['DEPARTURE_TIME'] =  formatted_times\n",
    "df_flights['DEPARTURE_TIME_D_T'] = df_flights['FULL_DATA'].map(str) +\" \"+ df_flights[\"DEPARTURE_TIME\"]\n",
    "df_flights['DEPARTURE_TIME_D_T'] = pd.to_datetime(df_flights['DEPARTURE_TIME_D_T'], format='mixed')"
   ]
  },
  {
   "cell_type": "code",
   "execution_count": 320,
   "metadata": {
    "id": "EggX6MiiyeHK"
   },
   "outputs": [],
   "source": [
    "# df_flights['DEPARTURE_TIME'] = df_flights['DEPARTURE_TIME'].astype(int)"
   ]
  },
  {
   "cell_type": "code",
   "execution_count": 321,
   "metadata": {
    "id": "qKtuZb7CyFta"
   },
   "outputs": [],
   "source": [
    "# df_flights['DEPARTURE_TIME'] =  df_flights['DEPARTURE_TIME'].apply(lambda x: f'{x//60:01d}:{x%60:02d}' if x < 60 else f'{x//100:01d}:00')"
   ]
  },
  {
   "cell_type": "code",
   "execution_count": 322,
   "metadata": {
    "id": "kKx8t1AUyGFC"
   },
   "outputs": [],
   "source": [
    "# df_flights['DEPARTURE TIME_DATA_AND_TIME'] = df_flights['FULL_DATA'].map(str) +\" \"+ df_flights[\"DEPARTURE_TIME\"].map(str)"
   ]
  },
  {
   "cell_type": "code",
   "execution_count": 323,
   "metadata": {
    "id": "tqSy9Dt3yKUZ"
   },
   "outputs": [],
   "source": [
    "#  df_flights['DEPARTURE TIME_DATA_AND_TIME'] = pd.to_datetime(df_flights['SCHEDULED_DEPARTURE_DATA_AND_TIME'])"
   ]
  },
  {
   "cell_type": "code",
   "execution_count": 324,
   "metadata": {
    "id": "Ypz8MP8-6sOw"
   },
   "outputs": [],
   "source": [
    "#sum_my_column(df_flights, 'FULL_DATA', 'DEPARTURE_TIME', 8, 6)"
   ]
  },
  {
   "cell_type": "code",
   "execution_count": 325,
   "metadata": {
    "id": "DpHaXbpD7kKV"
   },
   "outputs": [],
   "source": [
    "#float_check('DEPARTURE_TIME')"
   ]
  },
  {
   "cell_type": "code",
   "execution_count": 326,
   "metadata": {
    "id": "tJUuDRx17xMi"
   },
   "outputs": [],
   "source": [
    "#df_flights['DEPARTURE_TIME'] = df_flights['DEPARTURE_TIME'].astype(int)"
   ]
  },
  {
   "cell_type": "code",
   "execution_count": 327,
   "metadata": {
    "id": "PSs4b0ah7zYz"
   },
   "outputs": [],
   "source": [
    "#low = separate_time(df_flights, \"DEPARTURE_TIME\",\"<\", 60 )"
   ]
  },
  {
   "cell_type": "code",
   "execution_count": 328,
   "metadata": {
    "id": "PISpQUjG71Cd"
   },
   "outputs": [],
   "source": [
    "#top = separate_time(df_flights, \"DEPARTURE_TIME\",\">\", 60 )"
   ]
  },
  {
   "cell_type": "code",
   "execution_count": 329,
   "metadata": {
    "id": "am2FdyjN72vw"
   },
   "outputs": [],
   "source": [
    "#low['DEPARTURE_TIME'] = convert_time_before_1_AM(low['DEPARTURE_TIME'])"
   ]
  },
  {
   "cell_type": "code",
   "execution_count": 330,
   "metadata": {
    "id": "hlJldez674bq"
   },
   "outputs": [],
   "source": [
    "#top['DEPARTURE_TIME'] = convert_to_time(top['DEPARTURE_TIME'])"
   ]
  },
  {
   "cell_type": "code",
   "execution_count": 331,
   "metadata": {
    "id": "c3IJh_bO76UK"
   },
   "outputs": [],
   "source": [
    "#df_flights = low.append(top)"
   ]
  },
  {
   "cell_type": "code",
   "execution_count": 332,
   "metadata": {
    "id": "WJB3TK0076-S"
   },
   "outputs": [],
   "source": [
    "#df_flights"
   ]
  },
  {
   "cell_type": "code",
   "execution_count": 333,
   "metadata": {
    "id": "Bz9CfzUIIHt1"
   },
   "outputs": [],
   "source": [
    "#df_flights['DEPARTURE_TIME_DATA_AND_TIME'] = df_flights['FULL_DATA'].astype(str) +\" \"+ df_flights[\"DEPARTURE_TIME\"].astype(str)"
   ]
  },
  {
   "cell_type": "code",
   "execution_count": 334,
   "metadata": {
    "id": "XgWdW473ILyP"
   },
   "outputs": [],
   "source": [
    "#df_flights['DEPARTURE_TIME_DATA_AND_TIME'] = pd.to_datetime(df_flights['DEPARTURE_TIME_DATA_AND_TIME'])"
   ]
  },
  {
   "cell_type": "code",
   "execution_count": 335,
   "metadata": {
    "id": "kfa-uNiLIN7M"
   },
   "outputs": [],
   "source": [
    "#df_flights['DEPARTURE_TIME_DATA_AND_TIME']"
   ]
  },
  {
   "cell_type": "code",
   "execution_count": 336,
   "metadata": {
    "id": "OiAfZ8L3-sqF"
   },
   "outputs": [],
   "source": [
    "#df_flights.info()"
   ]
  },
  {
   "cell_type": "markdown",
   "metadata": {
    "id": "5aUOTZeeJAp8"
   },
   "source": [
    "## ADD NEW DELAY"
   ]
  },
  {
   "cell_type": "markdown",
   "metadata": {
    "id": "RqLiRrZlJO9K"
   },
   "source": [
    "### DEPARTURE_TARGET"
   ]
  },
  {
   "cell_type": "code",
   "execution_count": 337,
   "metadata": {
    "id": "SQh_kRUGJaxg"
   },
   "outputs": [],
   "source": [
    "df_flights['EXTRA_DEPARTURE_DELAY'] = df_flights['DEPARTURE_TIME_D_T'] - df_flights['SCHEDULED_DEPARTURE_D_T']"
   ]
  },
  {
   "cell_type": "code",
   "execution_count": 338,
   "metadata": {
    "colab": {
     "base_uri": "https://localhost:8080/"
    },
    "id": "6n4j_k4ZKSuj",
    "outputId": "68ae4e07-13fc-443c-e33f-9e28acb39924"
   },
   "outputs": [
    {
     "data": {
      "text/plain": [
       "0           0 days 23:49:00\n",
       "1         -1 days +23:52:00\n",
       "2         -1 days +23:58:00\n",
       "3         -1 days +23:55:00\n",
       "4         -1 days +23:59:00\n",
       "                 ...       \n",
       "5819074   -1 days +23:56:00\n",
       "5819075   -1 days +23:56:00\n",
       "5819076   -1 days +23:51:00\n",
       "5819077   -1 days +23:54:00\n",
       "5819078   -1 days +00:15:00\n",
       "Name: EXTRA_DEPARTURE_DELAY, Length: 5726566, dtype: timedelta64[ns]"
      ]
     },
     "execution_count": 338,
     "metadata": {},
     "output_type": "execute_result"
    }
   ],
   "source": [
    "df_flights['EXTRA_DEPARTURE_DELAY']"
   ]
  },
  {
   "cell_type": "code",
   "execution_count": 339,
   "metadata": {
    "id": "GdMThfWUqDrk"
   },
   "outputs": [],
   "source": [
    "#lst = [str(item) if not pd.isnull(item) else None for item in df_flights['EXTRA_ARRIVAL_DELAY']]"
   ]
  },
  {
   "cell_type": "code",
   "execution_count": 340,
   "metadata": {
    "id": "jec8wyT3qSYT"
   },
   "outputs": [],
   "source": [
    "#lst = df_flights['EXTRA_ARRIVAL_DELAY'].astype(str).where(pd.notnull(df_flights['EXTRA_ARRIVAL_DELAY']), None).tolist()"
   ]
  },
  {
   "cell_type": "code",
   "execution_count": 341,
   "metadata": {
    "id": "SP5ZNoCeqaD8"
   },
   "outputs": [],
   "source": [
    "lst = df_flights['EXTRA_DEPARTURE_DELAY'].apply(lambda x: str(x) if not pd.isnull(x) else None).tolist()"
   ]
  },
  {
   "cell_type": "code",
   "execution_count": 342,
   "metadata": {
    "id": "YcDggXhWq1AK"
   },
   "outputs": [],
   "source": [
    "target = [abs(int(list_item[:2])) for list_item in lst]"
   ]
  },
  {
   "cell_type": "code",
   "execution_count": 343,
   "metadata": {
    "id": "8-Q7KecXNPeE"
   },
   "outputs": [],
   "source": [
    "# test = df_flights.loc[:100, :]\n",
    "# lst = []\n",
    "\n",
    "# for items in test['EXTRA_DEPARTURE_DELAY']:\n",
    "#   items = str(items)\n",
    "#   lst.append(items)\n",
    "  \n",
    "# print(lst)"
   ]
  },
  {
   "cell_type": "code",
   "execution_count": 344,
   "metadata": {
    "id": "pWiv3lhyWb2O"
   },
   "outputs": [],
   "source": [
    "# target = []\n",
    "# for list_items in lst:\n",
    "#   list_item = list_items[:2]\n",
    "#   list_item = int(list_item)\n",
    "#   list_item = abs(list_item)\n",
    "#   target.append(list_item)\n",
    "\n",
    "# print(target)"
   ]
  },
  {
   "cell_type": "code",
   "execution_count": 345,
   "metadata": {
    "id": "FC53LAuDZBNb"
   },
   "outputs": [],
   "source": [
    "df_flights['DEPARTURE_TARGET'] = target"
   ]
  },
  {
   "cell_type": "code",
   "execution_count": 346,
   "metadata": {
    "colab": {
     "base_uri": "https://localhost:8080/"
    },
    "id": "6Y55504sZKHo",
    "outputId": "f0e1a5b7-037d-446e-92f7-ebb1f5ecf64d"
   },
   "outputs": [
    {
     "data": {
      "text/plain": [
       "0          0\n",
       "1          1\n",
       "2          1\n",
       "3          1\n",
       "4          1\n",
       "          ..\n",
       "5819074    1\n",
       "5819075    1\n",
       "5819076    1\n",
       "5819077    1\n",
       "5819078    1\n",
       "Name: DEPARTURE_TARGET, Length: 5726566, dtype: int64"
      ]
     },
     "execution_count": 346,
     "metadata": {},
     "output_type": "execute_result"
    }
   ],
   "source": [
    "df_flights['DEPARTURE_TARGET'] "
   ]
  },
  {
   "cell_type": "code",
   "execution_count": 347,
   "metadata": {
    "id": "zTVmtBb1YeyH"
   },
   "outputs": [],
   "source": [
    "# lst = []\n",
    "\n",
    "# for items in df_flights['EXTRA_DEPARTURE_DELAY']:\n",
    "#   items = str(items)\n",
    "#   lst.append(items)"
   ]
  },
  {
   "cell_type": "code",
   "execution_count": 348,
   "metadata": {
    "id": "_WNHrcNLY_VN"
   },
   "outputs": [],
   "source": [
    "# target = []\n",
    "# for list_items in lst:\n",
    "#   list_item = list_items[:2]\n",
    "#   list_item = int(list_item)\n",
    "#   list_item = abs(list_item)\n",
    "#   target.append(list_item)"
   ]
  },
  {
   "cell_type": "markdown",
   "metadata": {
    "id": "_5ScIDn5YHx_"
   },
   "source": [
    "##### 0 spozniony 1 na czas"
   ]
  },
  {
   "cell_type": "code",
   "execution_count": 349,
   "metadata": {
    "colab": {
     "base_uri": "https://localhost:8080/",
     "height": 35
    },
    "id": "KIcANYD-ULv6",
    "outputId": "e0e8d0df-9c9c-499e-b9f3-9011b732b818"
   },
   "outputs": [
    {
     "data": {
      "text/plain": [
       "'-1'"
      ]
     },
     "execution_count": 349,
     "metadata": {},
     "output_type": "execute_result"
    }
   ],
   "source": [
    "lst[1][:2]"
   ]
  },
  {
   "cell_type": "code",
   "execution_count": 350,
   "metadata": {
    "colab": {
     "base_uri": "https://localhost:8080/"
    },
    "id": "SvBsOU0fSMas",
    "outputId": "2cca9c96-9783-433c-e66b-13e3cb2fb16a"
   },
   "outputs": [
    {
     "data": {
      "text/plain": [
       "['0', 'days', '23:49:00']"
      ]
     },
     "execution_count": 350,
     "metadata": {},
     "output_type": "execute_result"
    }
   ],
   "source": [
    "lst[0].split()"
   ]
  },
  {
   "cell_type": "markdown",
   "metadata": {
    "id": "RISuSQabZwY9"
   },
   "source": [
    "### WHEELS TARGET"
   ]
  },
  {
   "cell_type": "markdown",
   "metadata": {
    "id": "sEWxGzLXamln"
   },
   "source": [
    "Nie ma sensu ich od siebie odejmowac to inna dane\n",
    "przylot odjac wylot\n",
    "\n",
    "wheels on - planowany czas przylotu"
   ]
  },
  {
   "cell_type": "code",
   "execution_count": 351,
   "metadata": {
    "id": "v2fh2KPPK7Bt"
   },
   "outputs": [],
   "source": [
    "# df_flights['WHEELS_TIME'] =  df_flights['WHEELS_ON_DATA_AND_TIME'] - df_flights['WHEELS_OFF_DATA_AND_TIME']"
   ]
  },
  {
   "cell_type": "code",
   "execution_count": 352,
   "metadata": {
    "id": "j51Jv9xqLTeX"
   },
   "outputs": [],
   "source": [
    "# df_flights['WHEELS_TIME']"
   ]
  },
  {
   "cell_type": "code",
   "execution_count": 353,
   "metadata": {
    "id": "xf45jLe3c5qx"
   },
   "outputs": [],
   "source": [
    "# test = df_flights.loc[:100, :]"
   ]
  },
  {
   "cell_type": "code",
   "execution_count": 354,
   "metadata": {
    "id": "3IhCXWDTdAZv"
   },
   "outputs": [],
   "source": [
    "# lst = []\n",
    "\n",
    "# for items in df_flights['WHEELS_TIME']:\n",
    "#   items = str(items)\n",
    "#   lst.append(items)"
   ]
  },
  {
   "cell_type": "code",
   "execution_count": 355,
   "metadata": {
    "id": "584d84sxdGhz"
   },
   "outputs": [],
   "source": [
    "# target = []\n",
    "# for list_items in lst:\n",
    "#   list_item = list_items[:2]\n",
    "#   list_item = int(list_item)\n",
    "#   list_item = abs(list_item)\n",
    "#   target.append(list_item)"
   ]
  },
  {
   "cell_type": "code",
   "execution_count": 356,
   "metadata": {
    "id": "rLaviR69dfX9"
   },
   "outputs": [],
   "source": [
    "# target"
   ]
  },
  {
   "cell_type": "code",
   "execution_count": 357,
   "metadata": {
    "id": "91sNpFhWdOGs"
   },
   "outputs": [],
   "source": [
    "# lst = []\n",
    "# for i in target:\n",
    "#   if i == 0:\n",
    "#     pass\n",
    "#   else:\n",
    "#     lst.append(i)\n",
    "\n",
    "# print(len(lst))   "
   ]
  },
  {
   "cell_type": "markdown",
   "metadata": {
    "id": "uTdAYNMJZ54B"
   },
   "source": [
    "### ARRIVAL_TARGET"
   ]
  },
  {
   "cell_type": "code",
   "execution_count": 358,
   "metadata": {
    "id": "BcSMO68ELouF"
   },
   "outputs": [],
   "source": [
    "df_flights['EXTRA_ARRIVAL_DELAY'] =  df_flights['SCHEDULED_ARRIVAL_D_T'] - df_flights['ARRIVAL_TIME_D_T']"
   ]
  },
  {
   "cell_type": "code",
   "execution_count": 359,
   "metadata": {
    "colab": {
     "base_uri": "https://localhost:8080/"
    },
    "id": "vQFnF9WyM7cf",
    "outputId": "bff0f164-e946-44f4-92e2-0ee73904bb17"
   },
   "outputs": [
    {
     "data": {
      "text/plain": [
       "0           0 days 00:22:00\n",
       "1           0 days 00:09:00\n",
       "2         -1 days +23:55:00\n",
       "3           0 days 00:09:00\n",
       "4           0 days 00:21:00\n",
       "                 ...       \n",
       "5819074     0 days 00:26:00\n",
       "5819075     0 days 00:16:00\n",
       "5819076     0 days 00:08:00\n",
       "5819077     0 days 00:10:00\n",
       "5819078   -1 days +23:58:00\n",
       "Name: EXTRA_ARRIVAL_DELAY, Length: 5726566, dtype: timedelta64[ns]"
      ]
     },
     "execution_count": 359,
     "metadata": {},
     "output_type": "execute_result"
    }
   ],
   "source": [
    "df_flights['EXTRA_ARRIVAL_DELAY']"
   ]
  },
  {
   "cell_type": "code",
   "execution_count": 360,
   "metadata": {
    "id": "ls47-zAirTHe"
   },
   "outputs": [],
   "source": [
    "lst = df_flights['EXTRA_ARRIVAL_DELAY'].apply(lambda x: str(x) if not pd.isnull(x) else None).tolist()"
   ]
  },
  {
   "cell_type": "code",
   "execution_count": 361,
   "metadata": {
    "id": "de37ro5IrTbX"
   },
   "outputs": [],
   "source": [
    "target = [abs(int(list_item[:2])) for list_item in lst]"
   ]
  },
  {
   "cell_type": "code",
   "execution_count": 362,
   "metadata": {
    "id": "jHIMyKkxZ_gQ"
   },
   "outputs": [],
   "source": [
    "# lst = []\n",
    "\n",
    "# for items in df_flights['EXTRA_ARRIVAL_DELAY']:\n",
    "#   items = str(items)\n",
    "#   lst.append(items)"
   ]
  },
  {
   "cell_type": "code",
   "execution_count": 363,
   "metadata": {
    "id": "3guhW4zYbHse"
   },
   "outputs": [],
   "source": [
    "# target = []\n",
    "# for list_items in lst:\n",
    "#   list_item = list_items[:2]\n",
    "#   list_item = int(list_item)\n",
    "#   list_item = abs(list_item)\n",
    "#   target.append(list_item)"
   ]
  },
  {
   "cell_type": "code",
   "execution_count": 364,
   "metadata": {
    "id": "96QqbpjubKlB"
   },
   "outputs": [],
   "source": [
    "df_flights['ARRIVAL_TARGET'] = target"
   ]
  },
  {
   "cell_type": "code",
   "execution_count": 365,
   "metadata": {
    "colab": {
     "base_uri": "https://localhost:8080/"
    },
    "id": "YqDDx3s1bL1y",
    "outputId": "483dbaed-e6e4-4d23-a58c-263516b12f9e"
   },
   "outputs": [
    {
     "data": {
      "text/plain": [
       "0          0\n",
       "1          0\n",
       "2          1\n",
       "3          0\n",
       "4          0\n",
       "          ..\n",
       "5819074    0\n",
       "5819075    0\n",
       "5819076    0\n",
       "5819077    0\n",
       "5819078    1\n",
       "Name: ARRIVAL_TARGET, Length: 5726566, dtype: int64"
      ]
     },
     "execution_count": 365,
     "metadata": {},
     "output_type": "execute_result"
    }
   ],
   "source": [
    "df_flights['ARRIVAL_TARGET']"
   ]
  },
  {
   "cell_type": "code",
   "execution_count": 366,
   "metadata": {
    "id": "UwrMGYNEb8Lx"
   },
   "outputs": [],
   "source": [
    "# df_flights.info()"
   ]
  },
  {
   "cell_type": "markdown",
   "metadata": {
    "id": "erYqyKulIWrB"
   },
   "source": [
    "## UZUPELNIANIE NAN"
   ]
  },
  {
   "cell_type": "code",
   "execution_count": 367,
   "metadata": {
    "colab": {
     "base_uri": "https://localhost:8080/"
    },
    "id": "NtnxVqZhg71S",
    "outputId": "a2fd6bd4-c864-4f21-ddef-a8a4a1474789"
   },
   "outputs": [
    {
     "name": "stdout",
     "output_type": "stream",
     "text": [
      "<class 'pandas.core.frame.DataFrame'>\n",
      "Index: 5726566 entries, 0 to 5819078\n",
      "Data columns (total 56 columns):\n",
      " #   Column                   Dtype          \n",
      "---  ------                   -----          \n",
      " 0   YEAR                     int64          \n",
      " 1   MONTH                    int64          \n",
      " 2   DAY                      int64          \n",
      " 3   DAY_OF_WEEK              int64          \n",
      " 4   ORIGIN_AIRPORT           object         \n",
      " 5   DESTINATION_AIRPORT      object         \n",
      " 6   SCHEDULED_DEPARTURE      object         \n",
      " 7   DEPARTURE_TIME           object         \n",
      " 8   DEPARTURE_DELAY          float64        \n",
      " 9   TAXI_OUT                 float64        \n",
      " 10  WHEELS_OFF               float64        \n",
      " 11  SCHEDULED_TIME           float64        \n",
      " 12  ELAPSED_TIME             float64        \n",
      " 13  AIR_TIME                 float64        \n",
      " 14  DISTANCE                 int32          \n",
      " 15  WHEELS_ON                float64        \n",
      " 16  TAXI_IN                  float64        \n",
      " 17  SCHEDULED_ARRIVAL        object         \n",
      " 18  ARRIVAL_TIME             object         \n",
      " 19  ARRIVAL_DELAY            float64        \n",
      " 20  DIVERTED                 int32          \n",
      " 21  CANCELLED                int32          \n",
      " 22  AIR_SYSTEM_DELAY         float64        \n",
      " 23  SECURITY_DELAY           float64        \n",
      " 24  AIRLINE_DELAY            float64        \n",
      " 25  LATE_AIRCRAFT_DELAY      float64        \n",
      " 26  WEATHER_DELAY            float64        \n",
      " 27  FULL_DATA                object         \n",
      " 28  Option_A                 bool           \n",
      " 29  Option_B                 bool           \n",
      " 30  Option_C                 bool           \n",
      " 31  Option_D                 bool           \n",
      " 32  Airlines_AA              bool           \n",
      " 33  Airlines_AS              bool           \n",
      " 34  Airlines_B6              bool           \n",
      " 35  Airlines_DL              bool           \n",
      " 36  Airlines_EV              bool           \n",
      " 37  Airlines_F9              bool           \n",
      " 38  Airlines_HA              bool           \n",
      " 39  Airlines_MQ              bool           \n",
      " 40  Airlines_NK              bool           \n",
      " 41  Airlines_OO              bool           \n",
      " 42  Airlines_UA              bool           \n",
      " 43  Airlines_US              bool           \n",
      " 44  Airlines_VX              bool           \n",
      " 45  Airlines_WN              bool           \n",
      " 46  AIR_ACRO_IN_NUM          object         \n",
      " 47  DEST_AIR_ACRO_IN_NUM     object         \n",
      " 48  ARRIVAL_TIME_D_T         datetime64[ns] \n",
      " 49  SCHEDULED_ARRIVAL_D_T    datetime64[ns] \n",
      " 50  SCHEDULED_DEPARTURE_D_T  datetime64[ns] \n",
      " 51  DEPARTURE_TIME_D_T       datetime64[ns] \n",
      " 52  EXTRA_DEPARTURE_DELAY    timedelta64[ns]\n",
      " 53  DEPARTURE_TARGET         int64          \n",
      " 54  EXTRA_ARRIVAL_DELAY      timedelta64[ns]\n",
      " 55  ARRIVAL_TARGET           int64          \n",
      "dtypes: bool(18), datetime64[ns](4), float64(14), int32(3), int64(6), object(9), timedelta64[ns](2)\n",
      "memory usage: 1.7+ GB\n"
     ]
    }
   ],
   "source": [
    "df_flights.info()"
   ]
  },
  {
   "cell_type": "code",
   "execution_count": 368,
   "metadata": {
    "id": "s_RisYkWrnpr"
   },
   "outputs": [],
   "source": [
    "df_flights['AIRLINE_DELAY'] = df_flights['AIRLINE_DELAY'].fillna(0)"
   ]
  },
  {
   "cell_type": "code",
   "execution_count": 369,
   "metadata": {
    "id": "dIt4vjfcsCXT"
   },
   "outputs": [],
   "source": [
    "df_flights['LATE_AIRCRAFT_DELAY'] = df_flights['LATE_AIRCRAFT_DELAY'].fillna(0)"
   ]
  },
  {
   "cell_type": "code",
   "execution_count": 370,
   "metadata": {
    "id": "vS3-lLJvsC5I"
   },
   "outputs": [],
   "source": [
    "df_flights['WEATHER_DELAY'] = df_flights['WEATHER_DELAY'].fillna(0)"
   ]
  },
  {
   "cell_type": "code",
   "execution_count": 371,
   "metadata": {
    "id": "ZDuI5to_sDGr"
   },
   "outputs": [],
   "source": [
    "df_flights['SECURITY_DELAY'] = df_flights['SECURITY_DELAY'].fillna(0)"
   ]
  },
  {
   "cell_type": "code",
   "execution_count": 372,
   "metadata": {
    "id": "DeOji8SxsFkk"
   },
   "outputs": [],
   "source": [
    "df_flights['AIR_SYSTEM_DELAY'] = df_flights['AIR_SYSTEM_DELAY'].fillna(0)"
   ]
  },
  {
   "cell_type": "code",
   "execution_count": 373,
   "metadata": {
    "id": "7zlDrjL6sUeK"
   },
   "outputs": [],
   "source": [
    "df_flights['ARRIVAL_DELAY'] = df_flights['ARRIVAL_DELAY'].fillna(0)"
   ]
  },
  {
   "cell_type": "code",
   "execution_count": 374,
   "metadata": {
    "id": "WfG2fJ2-scEq"
   },
   "outputs": [],
   "source": [
    "type_int(\"AIRLINE_DELAY\")"
   ]
  },
  {
   "cell_type": "code",
   "execution_count": 375,
   "metadata": {
    "id": "HZhlgAKBssun"
   },
   "outputs": [],
   "source": [
    "type_int(\"LATE_AIRCRAFT_DELAY\")"
   ]
  },
  {
   "cell_type": "code",
   "execution_count": 376,
   "metadata": {
    "id": "CyApT0RBssyo"
   },
   "outputs": [],
   "source": [
    "type_int(\"WEATHER_DELAY\")"
   ]
  },
  {
   "cell_type": "code",
   "execution_count": 377,
   "metadata": {
    "id": "wCSHC_trss2R"
   },
   "outputs": [],
   "source": [
    "type_int(\"WEATHER_DELAY\")"
   ]
  },
  {
   "cell_type": "code",
   "execution_count": 378,
   "metadata": {
    "id": "HTthGOqustGt"
   },
   "outputs": [],
   "source": [
    "type_int(\"AIR_SYSTEM_DELAY\")"
   ]
  },
  {
   "cell_type": "code",
   "execution_count": 379,
   "metadata": {
    "id": "-1m7SKpPs3U8"
   },
   "outputs": [],
   "source": [
    "type_int(\"SECURITY_DELAY\")"
   ]
  },
  {
   "cell_type": "code",
   "execution_count": 380,
   "metadata": {
    "id": "DMJOqa6hvmqv"
   },
   "outputs": [],
   "source": [
    "nan_mediane(\"TAXI_IN\")  "
   ]
  },
  {
   "cell_type": "code",
   "execution_count": 381,
   "metadata": {
    "id": "IChhzFQjv9mt"
   },
   "outputs": [],
   "source": [
    "nan_mediane(\"TAXI_OUT\")"
   ]
  },
  {
   "cell_type": "code",
   "execution_count": 382,
   "metadata": {
    "id": "el6tJs52v_e0"
   },
   "outputs": [],
   "source": [
    "nan_dominante(\"AIR_TIME\")"
   ]
  },
  {
   "cell_type": "code",
   "execution_count": 383,
   "metadata": {
    "id": "s905szABwA8E"
   },
   "outputs": [],
   "source": [
    "nan_dominante(\"ELAPSED_TIME\" )"
   ]
  },
  {
   "cell_type": "code",
   "execution_count": 384,
   "metadata": {
    "id": "sFC4QkbexCQ8"
   },
   "outputs": [],
   "source": [
    "nan_dominante(\"DEPARTURE_DELAY\")"
   ]
  },
  {
   "cell_type": "code",
   "execution_count": 385,
   "metadata": {
    "id": "Ho4ZZxjfwCiX"
   },
   "outputs": [],
   "source": [
    "nan_avg(\"SCHEDULED_TIME\")"
   ]
  },
  {
   "cell_type": "code",
   "execution_count": 386,
   "metadata": {
    "id": "vik4KlwJwlyf"
   },
   "outputs": [],
   "source": [
    "type_int(\"TAXI_IN\")"
   ]
  },
  {
   "cell_type": "code",
   "execution_count": 387,
   "metadata": {
    "id": "OxfgzIeUwl5g"
   },
   "outputs": [],
   "source": [
    "type_int(\"TAXI_OUT\")"
   ]
  },
  {
   "cell_type": "code",
   "execution_count": 388,
   "metadata": {
    "id": "Du7PrzV_wmBB"
   },
   "outputs": [],
   "source": [
    "type_int(\"AIR_TIME\")"
   ]
  },
  {
   "cell_type": "code",
   "execution_count": 389,
   "metadata": {
    "id": "LWT72bD-wmJZ"
   },
   "outputs": [],
   "source": [
    "type_int(\"ELAPSED_TIME\")"
   ]
  },
  {
   "cell_type": "code",
   "execution_count": 390,
   "metadata": {
    "id": "Uh26koohwmT7"
   },
   "outputs": [],
   "source": [
    "type_int(\"SCHEDULED_TIME\")"
   ]
  },
  {
   "cell_type": "code",
   "execution_count": 391,
   "metadata": {
    "id": "EFgvjZs0xHdz"
   },
   "outputs": [],
   "source": [
    "type_int(\"DEPARTURE_DELAY\")"
   ]
  },
  {
   "cell_type": "code",
   "execution_count": 392,
   "metadata": {
    "colab": {
     "base_uri": "https://localhost:8080/"
    },
    "id": "Md8LIip-z2l2",
    "outputId": "adefb480-a137-4a0e-ddc2-732456541565"
   },
   "outputs": [
    {
     "name": "stdout",
     "output_type": "stream",
     "text": [
      "<class 'pandas.core.frame.DataFrame'>\n",
      "Index: 5726566 entries, 0 to 5819078\n",
      "Data columns (total 56 columns):\n",
      " #   Column                   Dtype          \n",
      "---  ------                   -----          \n",
      " 0   YEAR                     int64          \n",
      " 1   MONTH                    int64          \n",
      " 2   DAY                      int64          \n",
      " 3   DAY_OF_WEEK              int64          \n",
      " 4   ORIGIN_AIRPORT           object         \n",
      " 5   DESTINATION_AIRPORT      object         \n",
      " 6   SCHEDULED_DEPARTURE      object         \n",
      " 7   DEPARTURE_TIME           object         \n",
      " 8   DEPARTURE_DELAY          int32          \n",
      " 9   TAXI_OUT                 int32          \n",
      " 10  WHEELS_OFF               float64        \n",
      " 11  SCHEDULED_TIME           int32          \n",
      " 12  ELAPSED_TIME             int32          \n",
      " 13  AIR_TIME                 int32          \n",
      " 14  DISTANCE                 int32          \n",
      " 15  WHEELS_ON                float64        \n",
      " 16  TAXI_IN                  int32          \n",
      " 17  SCHEDULED_ARRIVAL        object         \n",
      " 18  ARRIVAL_TIME             object         \n",
      " 19  ARRIVAL_DELAY            float64        \n",
      " 20  DIVERTED                 int32          \n",
      " 21  CANCELLED                int32          \n",
      " 22  AIR_SYSTEM_DELAY         int32          \n",
      " 23  SECURITY_DELAY           int32          \n",
      " 24  AIRLINE_DELAY            int32          \n",
      " 25  LATE_AIRCRAFT_DELAY      int32          \n",
      " 26  WEATHER_DELAY            int32          \n",
      " 27  FULL_DATA                object         \n",
      " 28  Option_A                 bool           \n",
      " 29  Option_B                 bool           \n",
      " 30  Option_C                 bool           \n",
      " 31  Option_D                 bool           \n",
      " 32  Airlines_AA              bool           \n",
      " 33  Airlines_AS              bool           \n",
      " 34  Airlines_B6              bool           \n",
      " 35  Airlines_DL              bool           \n",
      " 36  Airlines_EV              bool           \n",
      " 37  Airlines_F9              bool           \n",
      " 38  Airlines_HA              bool           \n",
      " 39  Airlines_MQ              bool           \n",
      " 40  Airlines_NK              bool           \n",
      " 41  Airlines_OO              bool           \n",
      " 42  Airlines_UA              bool           \n",
      " 43  Airlines_US              bool           \n",
      " 44  Airlines_VX              bool           \n",
      " 45  Airlines_WN              bool           \n",
      " 46  AIR_ACRO_IN_NUM          object         \n",
      " 47  DEST_AIR_ACRO_IN_NUM     object         \n",
      " 48  ARRIVAL_TIME_D_T         datetime64[ns] \n",
      " 49  SCHEDULED_ARRIVAL_D_T    datetime64[ns] \n",
      " 50  SCHEDULED_DEPARTURE_D_T  datetime64[ns] \n",
      " 51  DEPARTURE_TIME_D_T       datetime64[ns] \n",
      " 52  EXTRA_DEPARTURE_DELAY    timedelta64[ns]\n",
      " 53  DEPARTURE_TARGET         int64          \n",
      " 54  EXTRA_ARRIVAL_DELAY      timedelta64[ns]\n",
      " 55  ARRIVAL_TARGET           int64          \n",
      "dtypes: bool(18), datetime64[ns](4), float64(3), int32(14), int64(6), object(9), timedelta64[ns](2)\n",
      "memory usage: 1.5+ GB\n"
     ]
    }
   ],
   "source": [
    "df_flights.info()"
   ]
  },
  {
   "cell_type": "code",
   "execution_count": 393,
   "metadata": {
    "id": "IoCAV9fF2uOi"
   },
   "outputs": [],
   "source": [
    "df_flights['AIR_ACRO_IN_NUM'] = df_flights['AIR_ACRO_IN_NUM'].astype(int)"
   ]
  },
  {
   "cell_type": "code",
   "execution_count": 394,
   "metadata": {
    "id": "rKyJZd92UyN5"
   },
   "outputs": [],
   "source": [
    "df_flights['DEST_AIR_ACRO_IN_NUM'] = df_flights['DEST_AIR_ACRO_IN_NUM'].astype(int)"
   ]
  },
  {
   "cell_type": "code",
   "execution_count": 395,
   "metadata": {
    "id": "-L7SMw1mV615"
   },
   "outputs": [],
   "source": [
    "df_flights['ARRIVAL_DELAY'] = df_flights['ARRIVAL_DELAY'].astype(int)"
   ]
  },
  {
   "cell_type": "code",
   "execution_count": 463,
   "metadata": {},
   "outputs": [
    {
     "ename": "PermissionError",
     "evalue": "[Errno 13] Permission denied: 'C:\\\\Users\\\\hetko\\\\Desktop\\\\Nowy folder'",
     "output_type": "error",
     "traceback": [
      "\u001b[1;31m---------------------------------------------------------------------------\u001b[0m",
      "\u001b[1;31mPermissionError\u001b[0m                           Traceback (most recent call last)",
      "Cell \u001b[1;32mIn[463], line 1\u001b[0m\n\u001b[1;32m----> 1\u001b[0m \u001b[43mdf_flights\u001b[49m\u001b[38;5;241;43m.\u001b[39;49m\u001b[43mto_csv\u001b[49m\u001b[43m(\u001b[49m\u001b[38;5;124;43mr\u001b[39;49m\u001b[38;5;124;43m'\u001b[39;49m\u001b[38;5;124;43mC:\u001b[39;49m\u001b[38;5;124;43m\\\u001b[39;49m\u001b[38;5;124;43mUsers\u001b[39;49m\u001b[38;5;124;43m\\\u001b[39;49m\u001b[38;5;124;43mhetko\u001b[39;49m\u001b[38;5;124;43m\\\u001b[39;49m\u001b[38;5;124;43mDesktop\u001b[39;49m\u001b[38;5;124;43m\\\u001b[39;49m\u001b[38;5;124;43mNowy folder\u001b[39;49m\u001b[38;5;124;43m'\u001b[39;49m\u001b[43m,\u001b[49m\u001b[43m \u001b[49m\u001b[43mindex\u001b[49m\u001b[38;5;241;43m=\u001b[39;49m\u001b[38;5;28;43;01mFalse\u001b[39;49;00m\u001b[43m)\u001b[49m\n",
      "File \u001b[1;32m~\\AppData\\Local\\Programs\\Python\\Python311\\Lib\\site-packages\\pandas\\core\\generic.py:3772\u001b[0m, in \u001b[0;36mNDFrame.to_csv\u001b[1;34m(self, path_or_buf, sep, na_rep, float_format, columns, header, index, index_label, mode, encoding, compression, quoting, quotechar, lineterminator, chunksize, date_format, doublequote, escapechar, decimal, errors, storage_options)\u001b[0m\n\u001b[0;32m   3761\u001b[0m df \u001b[38;5;241m=\u001b[39m \u001b[38;5;28mself\u001b[39m \u001b[38;5;28;01mif\u001b[39;00m \u001b[38;5;28misinstance\u001b[39m(\u001b[38;5;28mself\u001b[39m, ABCDataFrame) \u001b[38;5;28;01melse\u001b[39;00m \u001b[38;5;28mself\u001b[39m\u001b[38;5;241m.\u001b[39mto_frame()\n\u001b[0;32m   3763\u001b[0m formatter \u001b[38;5;241m=\u001b[39m DataFrameFormatter(\n\u001b[0;32m   3764\u001b[0m     frame\u001b[38;5;241m=\u001b[39mdf,\n\u001b[0;32m   3765\u001b[0m     header\u001b[38;5;241m=\u001b[39mheader,\n\u001b[1;32m   (...)\u001b[0m\n\u001b[0;32m   3769\u001b[0m     decimal\u001b[38;5;241m=\u001b[39mdecimal,\n\u001b[0;32m   3770\u001b[0m )\n\u001b[1;32m-> 3772\u001b[0m \u001b[38;5;28;01mreturn\u001b[39;00m \u001b[43mDataFrameRenderer\u001b[49m\u001b[43m(\u001b[49m\u001b[43mformatter\u001b[49m\u001b[43m)\u001b[49m\u001b[38;5;241;43m.\u001b[39;49m\u001b[43mto_csv\u001b[49m\u001b[43m(\u001b[49m\n\u001b[0;32m   3773\u001b[0m \u001b[43m    \u001b[49m\u001b[43mpath_or_buf\u001b[49m\u001b[43m,\u001b[49m\n\u001b[0;32m   3774\u001b[0m \u001b[43m    \u001b[49m\u001b[43mlineterminator\u001b[49m\u001b[38;5;241;43m=\u001b[39;49m\u001b[43mlineterminator\u001b[49m\u001b[43m,\u001b[49m\n\u001b[0;32m   3775\u001b[0m \u001b[43m    \u001b[49m\u001b[43msep\u001b[49m\u001b[38;5;241;43m=\u001b[39;49m\u001b[43msep\u001b[49m\u001b[43m,\u001b[49m\n\u001b[0;32m   3776\u001b[0m \u001b[43m    \u001b[49m\u001b[43mencoding\u001b[49m\u001b[38;5;241;43m=\u001b[39;49m\u001b[43mencoding\u001b[49m\u001b[43m,\u001b[49m\n\u001b[0;32m   3777\u001b[0m \u001b[43m    \u001b[49m\u001b[43merrors\u001b[49m\u001b[38;5;241;43m=\u001b[39;49m\u001b[43merrors\u001b[49m\u001b[43m,\u001b[49m\n\u001b[0;32m   3778\u001b[0m \u001b[43m    \u001b[49m\u001b[43mcompression\u001b[49m\u001b[38;5;241;43m=\u001b[39;49m\u001b[43mcompression\u001b[49m\u001b[43m,\u001b[49m\n\u001b[0;32m   3779\u001b[0m \u001b[43m    \u001b[49m\u001b[43mquoting\u001b[49m\u001b[38;5;241;43m=\u001b[39;49m\u001b[43mquoting\u001b[49m\u001b[43m,\u001b[49m\n\u001b[0;32m   3780\u001b[0m \u001b[43m    \u001b[49m\u001b[43mcolumns\u001b[49m\u001b[38;5;241;43m=\u001b[39;49m\u001b[43mcolumns\u001b[49m\u001b[43m,\u001b[49m\n\u001b[0;32m   3781\u001b[0m \u001b[43m    \u001b[49m\u001b[43mindex_label\u001b[49m\u001b[38;5;241;43m=\u001b[39;49m\u001b[43mindex_label\u001b[49m\u001b[43m,\u001b[49m\n\u001b[0;32m   3782\u001b[0m \u001b[43m    \u001b[49m\u001b[43mmode\u001b[49m\u001b[38;5;241;43m=\u001b[39;49m\u001b[43mmode\u001b[49m\u001b[43m,\u001b[49m\n\u001b[0;32m   3783\u001b[0m \u001b[43m    \u001b[49m\u001b[43mchunksize\u001b[49m\u001b[38;5;241;43m=\u001b[39;49m\u001b[43mchunksize\u001b[49m\u001b[43m,\u001b[49m\n\u001b[0;32m   3784\u001b[0m \u001b[43m    \u001b[49m\u001b[43mquotechar\u001b[49m\u001b[38;5;241;43m=\u001b[39;49m\u001b[43mquotechar\u001b[49m\u001b[43m,\u001b[49m\n\u001b[0;32m   3785\u001b[0m \u001b[43m    \u001b[49m\u001b[43mdate_format\u001b[49m\u001b[38;5;241;43m=\u001b[39;49m\u001b[43mdate_format\u001b[49m\u001b[43m,\u001b[49m\n\u001b[0;32m   3786\u001b[0m \u001b[43m    \u001b[49m\u001b[43mdoublequote\u001b[49m\u001b[38;5;241;43m=\u001b[39;49m\u001b[43mdoublequote\u001b[49m\u001b[43m,\u001b[49m\n\u001b[0;32m   3787\u001b[0m \u001b[43m    \u001b[49m\u001b[43mescapechar\u001b[49m\u001b[38;5;241;43m=\u001b[39;49m\u001b[43mescapechar\u001b[49m\u001b[43m,\u001b[49m\n\u001b[0;32m   3788\u001b[0m \u001b[43m    \u001b[49m\u001b[43mstorage_options\u001b[49m\u001b[38;5;241;43m=\u001b[39;49m\u001b[43mstorage_options\u001b[49m\u001b[43m,\u001b[49m\n\u001b[0;32m   3789\u001b[0m \u001b[43m\u001b[49m\u001b[43m)\u001b[49m\n",
      "File \u001b[1;32m~\\AppData\\Local\\Programs\\Python\\Python311\\Lib\\site-packages\\pandas\\io\\formats\\format.py:1186\u001b[0m, in \u001b[0;36mDataFrameRenderer.to_csv\u001b[1;34m(self, path_or_buf, encoding, sep, columns, index_label, mode, compression, quoting, quotechar, lineterminator, chunksize, date_format, doublequote, escapechar, errors, storage_options)\u001b[0m\n\u001b[0;32m   1165\u001b[0m     created_buffer \u001b[38;5;241m=\u001b[39m \u001b[38;5;28;01mFalse\u001b[39;00m\n\u001b[0;32m   1167\u001b[0m csv_formatter \u001b[38;5;241m=\u001b[39m CSVFormatter(\n\u001b[0;32m   1168\u001b[0m     path_or_buf\u001b[38;5;241m=\u001b[39mpath_or_buf,\n\u001b[0;32m   1169\u001b[0m     lineterminator\u001b[38;5;241m=\u001b[39mlineterminator,\n\u001b[1;32m   (...)\u001b[0m\n\u001b[0;32m   1184\u001b[0m     formatter\u001b[38;5;241m=\u001b[39m\u001b[38;5;28mself\u001b[39m\u001b[38;5;241m.\u001b[39mfmt,\n\u001b[0;32m   1185\u001b[0m )\n\u001b[1;32m-> 1186\u001b[0m \u001b[43mcsv_formatter\u001b[49m\u001b[38;5;241;43m.\u001b[39;49m\u001b[43msave\u001b[49m\u001b[43m(\u001b[49m\u001b[43m)\u001b[49m\n\u001b[0;32m   1188\u001b[0m \u001b[38;5;28;01mif\u001b[39;00m created_buffer:\n\u001b[0;32m   1189\u001b[0m     \u001b[38;5;28;01massert\u001b[39;00m \u001b[38;5;28misinstance\u001b[39m(path_or_buf, StringIO)\n",
      "File \u001b[1;32m~\\AppData\\Local\\Programs\\Python\\Python311\\Lib\\site-packages\\pandas\\io\\formats\\csvs.py:240\u001b[0m, in \u001b[0;36mCSVFormatter.save\u001b[1;34m(self)\u001b[0m\n\u001b[0;32m    236\u001b[0m \u001b[38;5;250m\u001b[39m\u001b[38;5;124;03m\"\"\"\u001b[39;00m\n\u001b[0;32m    237\u001b[0m \u001b[38;5;124;03mCreate the writer & save.\u001b[39;00m\n\u001b[0;32m    238\u001b[0m \u001b[38;5;124;03m\"\"\"\u001b[39;00m\n\u001b[0;32m    239\u001b[0m \u001b[38;5;66;03m# apply compression and byte/text conversion\u001b[39;00m\n\u001b[1;32m--> 240\u001b[0m \u001b[38;5;28;01mwith\u001b[39;00m \u001b[43mget_handle\u001b[49m\u001b[43m(\u001b[49m\n\u001b[0;32m    241\u001b[0m \u001b[43m    \u001b[49m\u001b[38;5;28;43mself\u001b[39;49m\u001b[38;5;241;43m.\u001b[39;49m\u001b[43mfilepath_or_buffer\u001b[49m\u001b[43m,\u001b[49m\n\u001b[0;32m    242\u001b[0m \u001b[43m    \u001b[49m\u001b[38;5;28;43mself\u001b[39;49m\u001b[38;5;241;43m.\u001b[39;49m\u001b[43mmode\u001b[49m\u001b[43m,\u001b[49m\n\u001b[0;32m    243\u001b[0m \u001b[43m    \u001b[49m\u001b[43mencoding\u001b[49m\u001b[38;5;241;43m=\u001b[39;49m\u001b[38;5;28;43mself\u001b[39;49m\u001b[38;5;241;43m.\u001b[39;49m\u001b[43mencoding\u001b[49m\u001b[43m,\u001b[49m\n\u001b[0;32m    244\u001b[0m \u001b[43m    \u001b[49m\u001b[43merrors\u001b[49m\u001b[38;5;241;43m=\u001b[39;49m\u001b[38;5;28;43mself\u001b[39;49m\u001b[38;5;241;43m.\u001b[39;49m\u001b[43merrors\u001b[49m\u001b[43m,\u001b[49m\n\u001b[0;32m    245\u001b[0m \u001b[43m    \u001b[49m\u001b[43mcompression\u001b[49m\u001b[38;5;241;43m=\u001b[39;49m\u001b[38;5;28;43mself\u001b[39;49m\u001b[38;5;241;43m.\u001b[39;49m\u001b[43mcompression\u001b[49m\u001b[43m,\u001b[49m\n\u001b[0;32m    246\u001b[0m \u001b[43m    \u001b[49m\u001b[43mstorage_options\u001b[49m\u001b[38;5;241;43m=\u001b[39;49m\u001b[38;5;28;43mself\u001b[39;49m\u001b[38;5;241;43m.\u001b[39;49m\u001b[43mstorage_options\u001b[49m\u001b[43m,\u001b[49m\n\u001b[0;32m    247\u001b[0m \u001b[43m\u001b[49m\u001b[43m)\u001b[49m \u001b[38;5;28;01mas\u001b[39;00m handles:\n\u001b[0;32m    248\u001b[0m     \u001b[38;5;66;03m# Note: self.encoding is irrelevant here\u001b[39;00m\n\u001b[0;32m    249\u001b[0m     \u001b[38;5;28mself\u001b[39m\u001b[38;5;241m.\u001b[39mwriter \u001b[38;5;241m=\u001b[39m csvlib\u001b[38;5;241m.\u001b[39mwriter(\n\u001b[0;32m    250\u001b[0m         handles\u001b[38;5;241m.\u001b[39mhandle,\n\u001b[0;32m    251\u001b[0m         lineterminator\u001b[38;5;241m=\u001b[39m\u001b[38;5;28mself\u001b[39m\u001b[38;5;241m.\u001b[39mlineterminator,\n\u001b[1;32m   (...)\u001b[0m\n\u001b[0;32m    256\u001b[0m         quotechar\u001b[38;5;241m=\u001b[39m\u001b[38;5;28mself\u001b[39m\u001b[38;5;241m.\u001b[39mquotechar,\n\u001b[0;32m    257\u001b[0m     )\n\u001b[0;32m    259\u001b[0m     \u001b[38;5;28mself\u001b[39m\u001b[38;5;241m.\u001b[39m_save()\n",
      "File \u001b[1;32m~\\AppData\\Local\\Programs\\Python\\Python311\\Lib\\site-packages\\pandas\\io\\common.py:859\u001b[0m, in \u001b[0;36mget_handle\u001b[1;34m(path_or_buf, mode, encoding, compression, memory_map, is_text, errors, storage_options)\u001b[0m\n\u001b[0;32m    854\u001b[0m \u001b[38;5;28;01melif\u001b[39;00m \u001b[38;5;28misinstance\u001b[39m(handle, \u001b[38;5;28mstr\u001b[39m):\n\u001b[0;32m    855\u001b[0m     \u001b[38;5;66;03m# Check whether the filename is to be opened in binary mode.\u001b[39;00m\n\u001b[0;32m    856\u001b[0m     \u001b[38;5;66;03m# Binary mode does not support 'encoding' and 'newline'.\u001b[39;00m\n\u001b[0;32m    857\u001b[0m     \u001b[38;5;28;01mif\u001b[39;00m ioargs\u001b[38;5;241m.\u001b[39mencoding \u001b[38;5;129;01mand\u001b[39;00m \u001b[38;5;124m\"\u001b[39m\u001b[38;5;124mb\u001b[39m\u001b[38;5;124m\"\u001b[39m \u001b[38;5;129;01mnot\u001b[39;00m \u001b[38;5;129;01min\u001b[39;00m ioargs\u001b[38;5;241m.\u001b[39mmode:\n\u001b[0;32m    858\u001b[0m         \u001b[38;5;66;03m# Encoding\u001b[39;00m\n\u001b[1;32m--> 859\u001b[0m         handle \u001b[38;5;241m=\u001b[39m \u001b[38;5;28mopen\u001b[39m(\n\u001b[0;32m    860\u001b[0m             handle,\n\u001b[0;32m    861\u001b[0m             ioargs\u001b[38;5;241m.\u001b[39mmode,\n\u001b[0;32m    862\u001b[0m             encoding\u001b[38;5;241m=\u001b[39mioargs\u001b[38;5;241m.\u001b[39mencoding,\n\u001b[0;32m    863\u001b[0m             errors\u001b[38;5;241m=\u001b[39merrors,\n\u001b[0;32m    864\u001b[0m             newline\u001b[38;5;241m=\u001b[39m\u001b[38;5;124m\"\u001b[39m\u001b[38;5;124m\"\u001b[39m,\n\u001b[0;32m    865\u001b[0m         )\n\u001b[0;32m    866\u001b[0m     \u001b[38;5;28;01melse\u001b[39;00m:\n\u001b[0;32m    867\u001b[0m         \u001b[38;5;66;03m# Binary mode\u001b[39;00m\n\u001b[0;32m    868\u001b[0m         handle \u001b[38;5;241m=\u001b[39m \u001b[38;5;28mopen\u001b[39m(handle, ioargs\u001b[38;5;241m.\u001b[39mmode)\n",
      "\u001b[1;31mPermissionError\u001b[0m: [Errno 13] Permission denied: 'C:\\\\Users\\\\hetko\\\\Desktop\\\\Nowy folder'"
     ]
    }
   ],
   "source": [
    "df_flights.to_csv(r'C:\\Users\\hetko\\Desktop\\Nowy folder', index=False)"
   ]
  },
  {
   "cell_type": "code",
   "execution_count": 396,
   "metadata": {},
   "outputs": [],
   "source": [
    "df_flights.to_csv('flihgt_to_delete.csv', index=False)"
   ]
  },
  {
   "cell_type": "code",
   "execution_count": 457,
   "metadata": {},
   "outputs": [],
   "source": [
    "import requests\n",
    "\n",
    "url = 'http://localhost:8888/notebooks/loty_21_05%20(13).ipynb'\n",
    "response = requests.get(url)\n",
    "\n",
    "with open(r'C:\\Users\\hetko\\Desktop\\CV_firmy\\flights_done.csv', 'wb') as file:\n",
    "    file.write(response.content)"
   ]
  },
  {
   "cell_type": "code",
   "execution_count": 454,
   "metadata": {},
   "outputs": [],
   "source": [
    "from IPython.display import FileLink"
   ]
  },
  {
   "cell_type": "code",
   "execution_count": 456,
   "metadata": {},
   "outputs": [
    {
     "data": {
      "text/html": [
       "<a href='flihgt_to_delete.csv' target='_blank'>flihgt_to_delete.csv</a><br>"
      ],
      "text/plain": [
       "C:\\Users\\hetko\\Desktop\\jupyter\\flihgt_to_delete.csv"
      ]
     },
     "execution_count": 456,
     "metadata": {},
     "output_type": "execute_result"
    }
   ],
   "source": [
    "FileLink('flihgt_to_delete.csv')"
   ]
  },
  {
   "cell_type": "code",
   "execution_count": 398,
   "metadata": {
    "colab": {
     "base_uri": "https://localhost:8080/"
    },
    "id": "4Cr4FD5dU4se",
    "outputId": "61b8f295-2a0c-4606-eca8-ae955ed8a632"
   },
   "outputs": [
    {
     "data": {
      "text/plain": [
       "YEAR                                 int64\n",
       "MONTH                                int64\n",
       "DAY                                  int64\n",
       "DAY_OF_WEEK                          int64\n",
       "ORIGIN_AIRPORT                      object\n",
       "DESTINATION_AIRPORT                 object\n",
       "SCHEDULED_DEPARTURE                 object\n",
       "DEPARTURE_TIME                      object\n",
       "DEPARTURE_DELAY                      int32\n",
       "TAXI_OUT                             int32\n",
       "WHEELS_OFF                         float64\n",
       "SCHEDULED_TIME                       int32\n",
       "ELAPSED_TIME                         int32\n",
       "AIR_TIME                             int32\n",
       "DISTANCE                             int32\n",
       "WHEELS_ON                          float64\n",
       "TAXI_IN                              int32\n",
       "SCHEDULED_ARRIVAL                   object\n",
       "ARRIVAL_TIME                        object\n",
       "ARRIVAL_DELAY                        int32\n",
       "DIVERTED                             int32\n",
       "CANCELLED                            int32\n",
       "AIR_SYSTEM_DELAY                     int32\n",
       "SECURITY_DELAY                       int32\n",
       "AIRLINE_DELAY                        int32\n",
       "LATE_AIRCRAFT_DELAY                  int32\n",
       "WEATHER_DELAY                        int32\n",
       "FULL_DATA                           object\n",
       "Option_A                              bool\n",
       "Option_B                              bool\n",
       "Option_C                              bool\n",
       "Option_D                              bool\n",
       "Airlines_AA                           bool\n",
       "Airlines_AS                           bool\n",
       "Airlines_B6                           bool\n",
       "Airlines_DL                           bool\n",
       "Airlines_EV                           bool\n",
       "Airlines_F9                           bool\n",
       "Airlines_HA                           bool\n",
       "Airlines_MQ                           bool\n",
       "Airlines_NK                           bool\n",
       "Airlines_OO                           bool\n",
       "Airlines_UA                           bool\n",
       "Airlines_US                           bool\n",
       "Airlines_VX                           bool\n",
       "Airlines_WN                           bool\n",
       "AIR_ACRO_IN_NUM                      int32\n",
       "DEST_AIR_ACRO_IN_NUM                 int32\n",
       "ARRIVAL_TIME_D_T            datetime64[ns]\n",
       "SCHEDULED_ARRIVAL_D_T       datetime64[ns]\n",
       "SCHEDULED_DEPARTURE_D_T     datetime64[ns]\n",
       "DEPARTURE_TIME_D_T          datetime64[ns]\n",
       "EXTRA_DEPARTURE_DELAY      timedelta64[ns]\n",
       "DEPARTURE_TARGET                     int64\n",
       "EXTRA_ARRIVAL_DELAY        timedelta64[ns]\n",
       "ARRIVAL_TARGET                       int64\n",
       "dtype: object"
      ]
     },
     "execution_count": 398,
     "metadata": {},
     "output_type": "execute_result"
    }
   ],
   "source": [
    "df_flights.dtypes"
   ]
  },
  {
   "cell_type": "code",
   "execution_count": 399,
   "metadata": {
    "colab": {
     "base_uri": "https://localhost:8080/",
     "height": 34
    },
    "id": "qUWVOivOZ_li",
    "outputId": "9008b9ca-c297-4f54-9d27-77715d0075a1"
   },
   "outputs": [],
   "source": [
    "# from google.colab import files\n",
    "# df_flights.to_csv('df_flights_to_delete.csv', encoding = 'utf-8-sig') \n",
    "# files.download('df_flights_to_delete.csv')"
   ]
  },
  {
   "cell_type": "code",
   "execution_count": 400,
   "metadata": {
    "id": "sG2bfdc7fGsR"
   },
   "outputs": [],
   "source": [
    "# import zipfile\n",
    "\n",
    "# # Skompresowanie pliku do formatu ZIP\n",
    "# with zipfile.ZipFile('df_flights.zip', 'w', compression=zipfile.ZIP_DEFLATED) as zipf:\n",
    "#     zipf.write('df_flights_to_delete.csv')\n"
   ]
  },
  {
   "cell_type": "code",
   "execution_count": 401,
   "metadata": {
    "colab": {
     "base_uri": "https://localhost:8080/",
     "height": 34
    },
    "id": "EJZAB4Wbj_4p",
    "outputId": "422b91f2-b007-44b5-cbc9-857fe889d849"
   },
   "outputs": [],
   "source": [
    "# files.download('df_flights_to_delete.zip')"
   ]
  },
  {
   "cell_type": "code",
   "execution_count": 402,
   "metadata": {
    "colab": {
     "base_uri": "https://localhost:8080/"
    },
    "id": "nIgL5EVNjHpj",
    "outputId": "6c56f36e-b553-4402-b2b7-589632aed967"
   },
   "outputs": [],
   "source": [
    "# !wget -O flights_done https://colab.research.google.com/drive/1RERcJ3G29W1wQZEDa0Ng9I1O-zb-K7tD#scrollTo=nIgL5EVNjHpj"
   ]
  },
  {
   "cell_type": "markdown",
   "metadata": {
    "id": "JkXLuB7s2Yd5"
   },
   "source": [
    "# USUWANIE NIEPOTRZEBNYCH KOLUMN"
   ]
  },
  {
   "cell_type": "code",
   "execution_count": 403,
   "metadata": {
    "colab": {
     "base_uri": "https://localhost:8080/"
    },
    "id": "HdU1pM7v2X16",
    "outputId": "4bfd605d-a3b1-4ed3-9bb3-0c781f246254"
   },
   "outputs": [],
   "source": [
    "# df_flights.info()"
   ]
  },
  {
   "cell_type": "code",
   "execution_count": 404,
   "metadata": {
    "id": "BwwG7nb31FtF"
   },
   "outputs": [],
   "source": [
    "# del_column('YEAR')"
   ]
  },
  {
   "cell_type": "code",
   "execution_count": 405,
   "metadata": {
    "id": "lR-iA7u51pCc"
   },
   "outputs": [],
   "source": [
    "# del_column('MONTH')"
   ]
  },
  {
   "cell_type": "code",
   "execution_count": 406,
   "metadata": {
    "id": "JVOqkdMo1pOe"
   },
   "outputs": [],
   "source": [
    "# del_column('DAY')"
   ]
  },
  {
   "cell_type": "code",
   "execution_count": 407,
   "metadata": {
    "id": "H79wQqQT1pYk"
   },
   "outputs": [],
   "source": [
    "# del_column('ORIGIN_AIRPORT')"
   ]
  },
  {
   "cell_type": "code",
   "execution_count": 408,
   "metadata": {
    "id": "X2XVFKLB1pcT"
   },
   "outputs": [],
   "source": [
    "# del_column('DESTINATION_AIRPORT')"
   ]
  },
  {
   "cell_type": "code",
   "execution_count": 409,
   "metadata": {
    "id": "UCjFxyen1pf3"
   },
   "outputs": [],
   "source": [
    "# del_column('SCHEDULED_DEPARTURE')"
   ]
  },
  {
   "cell_type": "code",
   "execution_count": null,
   "metadata": {
    "id": "q6UVlQ9cWl7i"
   },
   "outputs": [],
   "source": []
  },
  {
   "cell_type": "code",
   "execution_count": 410,
   "metadata": {
    "id": "fZVv9HVY1pjT"
   },
   "outputs": [],
   "source": [
    "# del_column('DEPARTURE_TIME')"
   ]
  },
  {
   "cell_type": "code",
   "execution_count": 411,
   "metadata": {
    "id": "cSSbEypL1pmk"
   },
   "outputs": [],
   "source": [
    "# del_column('WHEELS_OFF')"
   ]
  },
  {
   "cell_type": "code",
   "execution_count": 412,
   "metadata": {
    "id": "4bVgiUs01pp-"
   },
   "outputs": [],
   "source": [
    "# del_column('WHEELS_ON')"
   ]
  },
  {
   "cell_type": "code",
   "execution_count": 413,
   "metadata": {},
   "outputs": [],
   "source": [
    "# df_flights."
   ]
  },
  {
   "cell_type": "code",
   "execution_count": 414,
   "metadata": {
    "id": "IyXtimpk1240"
   },
   "outputs": [],
   "source": [
    "# del_column('SCHEDULED_ARRIVAL')"
   ]
  },
  {
   "cell_type": "code",
   "execution_count": 415,
   "metadata": {
    "id": "b5cqexqqWs8U"
   },
   "outputs": [],
   "source": [
    "# del_column('ARRIVAL_TIME')"
   ]
  },
  {
   "cell_type": "code",
   "execution_count": 416,
   "metadata": {
    "id": "kneHlLN_148j"
   },
   "outputs": [],
   "source": [
    "# del_column('FULL_DATA')"
   ]
  },
  {
   "cell_type": "code",
   "execution_count": null,
   "metadata": {
    "id": "vuxWNg5dWyXi"
   },
   "outputs": [],
   "source": []
  },
  {
   "cell_type": "code",
   "execution_count": 417,
   "metadata": {
    "id": "O0LfF64CW0hS"
   },
   "outputs": [],
   "source": [
    "# del_column('ARRIVAL_TIME_D_T')"
   ]
  },
  {
   "cell_type": "code",
   "execution_count": 418,
   "metadata": {
    "id": "XNi3sh4xW3Uf"
   },
   "outputs": [],
   "source": [
    "# del_column('SCHEDULED_ARRIVAL_D_T ')"
   ]
  },
  {
   "cell_type": "code",
   "execution_count": 419,
   "metadata": {
    "id": "3bKu05e915a-"
   },
   "outputs": [],
   "source": [
    "# del_column('SCHEDULED_DEPARTURE_D_T')"
   ]
  },
  {
   "cell_type": "code",
   "execution_count": 420,
   "metadata": {
    "id": "Sp-RRKwU154J"
   },
   "outputs": [],
   "source": [
    "# del_column('DEPARTURE_TIME_1')"
   ]
  },
  {
   "cell_type": "code",
   "execution_count": 421,
   "metadata": {
    "id": "dBtLpef-16Ga"
   },
   "outputs": [],
   "source": [
    "# del_column('DEPARTURE_TIME_D_T')"
   ]
  },
  {
   "cell_type": "code",
   "execution_count": 422,
   "metadata": {
    "id": "SwOzLv7j16W9"
   },
   "outputs": [],
   "source": [
    "# del_column('EXTRA_DEPARTURE_DELAY')"
   ]
  },
  {
   "cell_type": "code",
   "execution_count": 423,
   "metadata": {
    "id": "9q4ll7Dq16lE"
   },
   "outputs": [],
   "source": [
    "# del_column('EXTRA_ARRIVAL_DELAY ')"
   ]
  },
  {
   "cell_type": "code",
   "execution_count": null,
   "metadata": {
    "id": "rosVx276XEcO"
   },
   "outputs": [],
   "source": []
  },
  {
   "cell_type": "markdown",
   "metadata": {
    "id": "A0NWG7KD88Io"
   },
   "source": [
    "# WORK WITH TIME"
   ]
  },
  {
   "cell_type": "code",
   "execution_count": 424,
   "metadata": {
    "id": "m9IjN346Zilm"
   },
   "outputs": [],
   "source": [
    "# df_flights_5 = df_flights_4[:]"
   ]
  },
  {
   "cell_type": "code",
   "execution_count": 425,
   "metadata": {
    "colab": {
     "base_uri": "https://localhost:8080/"
    },
    "id": "jKqFErGr-d_k",
    "outputId": "a27e46e5-13f5-4eea-bee1-ab7ea23bfbd1"
   },
   "outputs": [],
   "source": [
    "# import pandas as pd\n",
    "\n",
    "# data1 = {'Date': ['01-03-2019  12:29:15.732,7',\n",
    "#                   '01.03.2019  12:29:15.732,7',\n",
    "#                   '01.03.2019  12:29:15.732,7',\n",
    "#                   '2015-03-18 17:00'], \n",
    "#         'Value': [1, 2, 3, 4]}\n",
    "\n",
    "# df1 = pd.DataFrame(data1)\n",
    "\n",
    "# df1['Date'] = pd.to_datetime(df1['Date'].str.replace(',', ''))\n",
    "\n",
    "# print(df1)"
   ]
  },
  {
   "cell_type": "code",
   "execution_count": 426,
   "metadata": {
    "colab": {
     "base_uri": "https://localhost:8080/"
    },
    "id": "RdnljrCJGg9_",
    "outputId": "029c1219-fefd-40e9-f64c-c86e509f91de"
   },
   "outputs": [],
   "source": [
    "# df_flights_4['SCHEDULED_DEPARTURE']"
   ]
  },
  {
   "cell_type": "code",
   "execution_count": 427,
   "metadata": {
    "colab": {
     "base_uri": "https://localhost:8080/"
    },
    "id": "f6hTXeyPHYJr",
    "outputId": "727c4cbf-6de3-49a3-c0f4-eeaaa81c2088"
   },
   "outputs": [],
   "source": [
    "# import re\n",
    " \n",
    "# # initializing number\n",
    "# test_num = 100\n",
    " \n",
    "# # printing original number\n",
    "# print(\"The original number is : \" + str(test_num))\n",
    " \n",
    "# # Using re.sub()\n",
    "# # Adding comma between numbers\n",
    "# res = re.sub(r'(\\d{2})(?=\\d)', r'\\1,', str(test_num)[::-1])[::-1]\n",
    " \n",
    "# coma = res.replace(',', ':')\n",
    "# # printing result\n",
    "# print(\"The number after inserting commas : \" + str(coma))\n",
    "# #This code is contributed by Edula Vinay Kumar Reddy\n",
    "\n"
   ]
  },
  {
   "cell_type": "code",
   "execution_count": 428,
   "metadata": {
    "colab": {
     "base_uri": "https://localhost:8080/"
    },
    "id": "iTdOayfcM0HO",
    "outputId": "d3d9c68d-37a3-49ea-902a-0858e46550be"
   },
   "outputs": [],
   "source": [
    "# df_flights_4['SCHEDULED_DEPARTURE'] "
   ]
  },
  {
   "cell_type": "markdown",
   "metadata": {
    "id": "n4WsuJ5IciPi"
   },
   "source": [
    "##### Proba filtracji"
   ]
  },
  {
   "cell_type": "code",
   "execution_count": 429,
   "metadata": {
    "colab": {
     "base_uri": "https://localhost:8080/"
    },
    "id": "6iBXb1VWMMFK",
    "outputId": "d3eaf432-faf6-4359-c18e-3076697013bd"
   },
   "outputs": [],
   "source": [
    "# for time in df_flights_4['SCHEDULED_DEPARTURE']:\n",
    "#   #new_column = input('Podaj nazwe kolumny: ')\n",
    "#   time_frame = []\n",
    "#   if time < 100:   \n",
    "#     time = str(time)\n",
    "#     done_time  = \":\".join([\"00\", time])\n",
    "#     time_frame.append(time)\n",
    "\n",
    "# print(time_frame)"
   ]
  },
  {
   "cell_type": "code",
   "execution_count": 430,
   "metadata": {
    "colab": {
     "base_uri": "https://localhost:8080/",
     "height": 235
    },
    "id": "i7uAX9vCULno",
    "outputId": "41b9285f-d49a-4015-d1e4-fde82017251d"
   },
   "outputs": [],
   "source": [
    "# for  time in df_flights_4['SCHEDULED_DEPARTURE']:\n",
    "#   #new_column = input('Podaj nazwe kolumny: ')\n",
    "#   time_frame = []\n",
    "#   id = []\n",
    "#   #if time < 100:\n",
    "#    # print(time)\n",
    "#   if time[0] <= 60:\n",
    "#     time_frame.append(time)\n",
    "# print(time_frame)"
   ]
  },
  {
   "cell_type": "code",
   "execution_count": 431,
   "metadata": {
    "colab": {
     "base_uri": "https://localhost:8080/",
     "height": 217
    },
    "id": "6mpgToicXBII",
    "outputId": "acb10123-57f9-42b5-fc9b-ef2292a8cf0d"
   },
   "outputs": [],
   "source": [
    "# from itertools import zip_longest\n",
    "\n",
    "# list_letter_b = []\n",
    "\n",
    "# for x in zip_longest(df_flights_4['SCHEDULED_DEPARTURE'], fillvalue=''):\n",
    "#     if x < 60:\n",
    "#         list_letter_b.append(x)"
   ]
  },
  {
   "cell_type": "code",
   "execution_count": 432,
   "metadata": {
    "colab": {
     "base_uri": "https://localhost:8080/"
    },
    "id": "Tn01NFZCY8qR",
    "outputId": "8007710d-eac0-47e0-ff21-31b513a19c5d"
   },
   "outputs": [],
   "source": [
    "#  if df_flights_5['filter'] = df_flights_5['SCHEDULED_DEPARTURE'] <= 61\n",
    "\n",
    "#  df_flights_5['filter'].astype(object).replace({False: 'fail', True: 'pass'})"
   ]
  },
  {
   "cell_type": "code",
   "execution_count": 433,
   "metadata": {
    "colab": {
     "base_uri": "https://localhost:8080/",
     "height": 339
    },
    "id": "WyJ68hXfatuR",
    "outputId": "395867a2-c0f6-48e4-f708-3946c9521611"
   },
   "outputs": [],
   "source": [
    "# if df_flights_5['SCHEDULED_DEPARTURE'] <= 61:\n",
    "#   df_flights_5['test'] = df_flights_5['SCHEDULED_DEPARTURE']\n",
    "# else:\n",
    "#   df_flights_5['test'].astype(object).replace({False: 'fail', True: 'pass'})"
   ]
  },
  {
   "cell_type": "markdown",
   "metadata": {
    "id": "IX_fLIxwcmBl"
   },
   "source": [
    "##### Koniec proby filtracji"
   ]
  },
  {
   "cell_type": "markdown",
   "metadata": {
    "id": "lGZagQvkuq_2"
   },
   "source": [
    "#### TIME BEFORE 1 AM"
   ]
  },
  {
   "cell_type": "code",
   "execution_count": 434,
   "metadata": {
    "id": "lz_qh0xYbxWd"
   },
   "outputs": [],
   "source": [
    "# df_flights_6_low = df_flights_5.query('SCHEDULED_DEPARTURE < 60')"
   ]
  },
  {
   "cell_type": "code",
   "execution_count": 435,
   "metadata": {
    "colab": {
     "base_uri": "https://localhost:8080/",
     "height": 468
    },
    "id": "jhf48TgccHi_",
    "outputId": "e7f4b56d-f813-4c3b-f57b-97292b84ec2b"
   },
   "outputs": [],
   "source": [
    "# df_flights_6_low"
   ]
  },
  {
   "cell_type": "code",
   "execution_count": 436,
   "metadata": {
    "colab": {
     "base_uri": "https://localhost:8080/"
    },
    "id": "WE049cXtrOWp",
    "outputId": "c6a5b9ef-8c45-40b9-89e2-c0a43d9a6bea"
   },
   "outputs": [],
   "source": [
    "# df_flights_6_low['SCHEDULED_DEPARTURE_WORK'] = convert_time_before_1_AM(df_flights_6_low['SCHEDULED_DEPARTURE'])"
   ]
  },
  {
   "cell_type": "code",
   "execution_count": 437,
   "metadata": {
    "colab": {
     "base_uri": "https://localhost:8080/"
    },
    "id": "xJ9XrUNoxF0b",
    "outputId": "4b9f5d38-0309-437b-b206-e67e7ed21dd3"
   },
   "outputs": [],
   "source": [
    "# df_flights_6_low['SCHEDULED_DEPARTURE_WORK']"
   ]
  },
  {
   "cell_type": "markdown",
   "metadata": {
    "id": "2oJT6UAjpQVY"
   },
   "source": [
    "#### TOP TIME AFTER 1 AM"
   ]
  },
  {
   "cell_type": "code",
   "execution_count": 438,
   "metadata": {
    "id": "blwYfYrjcWiz"
   },
   "outputs": [],
   "source": [
    "# df_flights_6_top = df_flights_5.query('SCHEDULED_DEPARTURE > 60')"
   ]
  },
  {
   "cell_type": "code",
   "execution_count": 439,
   "metadata": {
    "colab": {
     "base_uri": "https://localhost:8080/",
     "height": 468
    },
    "id": "c8djUInucY2J",
    "outputId": "ee44c13a-7734-4570-8605-1a2b3e9ab2eb"
   },
   "outputs": [],
   "source": [
    "# df_flights_6_top"
   ]
  },
  {
   "cell_type": "code",
   "execution_count": 440,
   "metadata": {
    "colab": {
     "base_uri": "https://localhost:8080/"
    },
    "id": "97MlKlTnl_fp",
    "outputId": "32da8a7d-1a90-4c51-aaea-231e78e0b2d0"
   },
   "outputs": [],
   "source": [
    "# df_flights_6_top['SCHEDULED_DEPARTURE'].iloc[1]"
   ]
  },
  {
   "cell_type": "code",
   "execution_count": 441,
   "metadata": {
    "colab": {
     "base_uri": "https://localhost:8080/"
    },
    "id": "Tr3POSZsnIwf",
    "outputId": "26342191-a6ba-484d-c27e-30bcb19764ae"
   },
   "outputs": [],
   "source": [
    "# len(convert_to_time(df_flights_6_top['SCHEDULED_DEPARTURE']))"
   ]
  },
  {
   "cell_type": "code",
   "execution_count": 442,
   "metadata": {
    "colab": {
     "base_uri": "https://localhost:8080/"
    },
    "id": "jPyUUuHhnuV0",
    "outputId": "319d4237-1405-4536-f971-c14739ef9dbe"
   },
   "outputs": [],
   "source": [
    "# df_flights_6_top['SCHEDULED_DEPARTURE_WORK'] = convert_to_time(df_flights_6_top['SCHEDULED_DEPARTURE'])"
   ]
  },
  {
   "cell_type": "code",
   "execution_count": 443,
   "metadata": {
    "colab": {
     "base_uri": "https://localhost:8080/"
    },
    "id": "r6tyQbCjn-nd",
    "outputId": "9f179359-f878-4e3f-c5a6-ad1c67ecbc7e"
   },
   "outputs": [],
   "source": [
    "# df_flights_6_top['SCHEDULED_DEPARTURE']"
   ]
  },
  {
   "cell_type": "code",
   "execution_count": 444,
   "metadata": {
    "colab": {
     "base_uri": "https://localhost:8080/"
    },
    "id": "Lcf-N9-6n3ua",
    "outputId": "4a59e1ad-442f-4c8d-c73c-1b2ad0323e49"
   },
   "outputs": [],
   "source": [
    "# df_flights_6_top['SCHEDULED_DEPARTURE_WORK']"
   ]
  },
  {
   "cell_type": "markdown",
   "metadata": {
    "id": "veK0L-sku7N5"
   },
   "source": [
    "#### CONCAT DF"
   ]
  },
  {
   "cell_type": "code",
   "execution_count": 445,
   "metadata": {
    "colab": {
     "base_uri": "https://localhost:8080/"
    },
    "id": "tk-3Zx-bsRUx",
    "outputId": "64053283-e3e6-45cc-8a79-0df29644671f"
   },
   "outputs": [],
   "source": [
    "# df_flights_8 = df_flights_6_low.append(df_flights_6_top)"
   ]
  },
  {
   "cell_type": "code",
   "execution_count": 446,
   "metadata": {
    "colab": {
     "base_uri": "https://localhost:8080/",
     "height": 661
    },
    "id": "fyANZ5Qhthvc",
    "outputId": "1bf5643b-eebc-4acf-8bab-9c6c19758053"
   },
   "outputs": [],
   "source": [
    "# df_flights_8"
   ]
  },
  {
   "cell_type": "code",
   "execution_count": 447,
   "metadata": {
    "colab": {
     "base_uri": "https://localhost:8080/"
    },
    "id": "3rd9-fCcvwXA",
    "outputId": "e45d263f-799d-4e4c-e840-4c2dc4976e3c"
   },
   "outputs": [],
   "source": [
    "# df_flights_8['SCHEDULED_DEPARTURE_WORK']"
   ]
  },
  {
   "cell_type": "markdown",
   "metadata": {
    "id": "Wm4ZAJpho1Aa"
   },
   "source": [
    "#### CONECT TIME AND DATE"
   ]
  },
  {
   "cell_type": "code",
   "execution_count": 448,
   "metadata": {
    "colab": {
     "base_uri": "https://localhost:8080/"
    },
    "id": "-4uzZl8-u_-g",
    "outputId": "220016c0-7b0e-49d2-f6a5-97db7e918cc1"
   },
   "outputs": [],
   "source": [
    "# for col in df_flights_8.columns:\n",
    "#     print(col)"
   ]
  },
  {
   "cell_type": "code",
   "execution_count": 449,
   "metadata": {
    "id": "LGR1s7QsA6a-"
   },
   "outputs": [],
   "source": [
    "# df_flights_8['DATA_WITH_TIME'] = df_flights_8['FULL_DATA'].astype(str) +\" \"+ df_flights_8[\"SCHEDULED_DEPARTURE_WORK\"].astype(str)"
   ]
  },
  {
   "cell_type": "code",
   "execution_count": 450,
   "metadata": {
    "colab": {
     "base_uri": "https://localhost:8080/"
    },
    "id": "psvlJ5r8CAEA",
    "outputId": "86342ffc-c2c1-4891-da18-2060d970b227"
   },
   "outputs": [],
   "source": [
    "# print(df_flights_8[\"DATA_WITH_TIME\"] )"
   ]
  },
  {
   "cell_type": "code",
   "execution_count": 451,
   "metadata": {
    "colab": {
     "base_uri": "https://localhost:8080/"
    },
    "id": "-C6CKWPODjQk",
    "outputId": "bb1e29af-2cc8-4fff-ba8b-8e12e2e095d3"
   },
   "outputs": [],
   "source": [
    "# first = count_nan_in_column(df_flights_4, 'DATA_WITH_TIME') \n",
    "# second = df_flights_4['DATA_WITH_TIME'].count()\n",
    "\n",
    "# nan_per(first, second)"
   ]
  },
  {
   "cell_type": "code",
   "execution_count": 452,
   "metadata": {
    "id": "S2olz7MNEUcD"
   },
   "outputs": [],
   "source": [
    "# df_flights_8['CONVERT_DATA_WITH_TIME'] = pd.to_datetime(df_flights_8['DATA_WITH_TIME'])"
   ]
  },
  {
   "cell_type": "markdown",
   "metadata": {
    "id": "uUDg_1MIzTi4"
   },
   "source": [
    "#### FIRST TABEL TO TARGET"
   ]
  },
  {
   "cell_type": "code",
   "execution_count": 453,
   "metadata": {
    "colab": {
     "base_uri": "https://localhost:8080/"
    },
    "id": "3c8KEJGUylfa",
    "outputId": "3b9b2c79-7070-4ebc-b97d-7808fcb2ef81"
   },
   "outputs": [],
   "source": [
    "\n",
    "# df_flights_8['CONVERT_DATA_WITH_TIME'].describe()"
   ]
  },
  {
   "cell_type": "code",
   "execution_count": null,
   "metadata": {
    "id": "hIzcqVhCkcFY"
   },
   "outputs": [],
   "source": []
  }
 ],
 "metadata": {
  "colab": {
   "collapsed_sections": [
    "GHjO_yRBAbBz",
    "tFJIy4l3AfdH"
   ],
   "gpuType": "T4",
   "provenance": [],
   "toc_visible": true
  },
  "gpuClass": "standard",
  "kernelspec": {
   "display_name": "Python 3 (ipykernel)",
   "language": "python",
   "name": "python3"
  },
  "language_info": {
   "codemirror_mode": {
    "name": "ipython",
    "version": 3
   },
   "file_extension": ".py",
   "mimetype": "text/x-python",
   "name": "python",
   "nbconvert_exporter": "python",
   "pygments_lexer": "ipython3",
   "version": "3.11.2"
  }
 },
 "nbformat": 4,
 "nbformat_minor": 1
}
